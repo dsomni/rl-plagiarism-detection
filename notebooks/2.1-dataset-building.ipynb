{
 "cells": [
  {
   "cell_type": "markdown",
   "metadata": {},
   "source": [
    "# Building dataset"
   ]
  },
  {
   "cell_type": "code",
   "execution_count": 10,
   "metadata": {},
   "outputs": [],
   "source": [
    "import contextlib\n",
    "import os\n",
    "from itertools import chain, permutations\n",
    "\n",
    "import numpy as np\n",
    "import pandas as pd"
   ]
  },
  {
   "cell_type": "markdown",
   "metadata": {},
   "source": [
    "## Load files"
   ]
  },
  {
   "cell_type": "code",
   "execution_count": 11,
   "metadata": {},
   "outputs": [],
   "source": [
    "def get_max_index(path: str) -> int:\n",
    "    \"\"\"Get the last file with generated plagiarisms\"\"\"\n",
    "    max_index = -1\n",
    "    for file in os.listdir(path):\n",
    "        with contextlib.suppress(ValueError):\n",
    "            max_index = max(max_index, int(os.path.splitext(file)[0]))\n",
    "    return max_index\n",
    "\n",
    "\n",
    "def get_df(path: str) -> pd.DataFrame:\n",
    "    idx = get_max_index(path)\n",
    "    return pd.read_csv(os.path.join(path, f\"{idx}.csv\"))"
   ]
  },
  {
   "cell_type": "code",
   "execution_count": 12,
   "metadata": {},
   "outputs": [],
   "source": [
    "def generate_data(\n",
    "    df: pd.DataFrame, positive_score: float\n",
    ") -> list[tuple[str, str, float]]:\n",
    "    data: list[tuple[str, str, float]] = []\n",
    "\n",
    "    # construct pairs\n",
    "    perms = list(chain(*[permutations(row, 2) for row in df.values]))\n",
    "    data += [(*p, positive_score) for p in perms]\n",
    "\n",
    "    positive_num = len(data)\n",
    "    negative_num = int(positive_num / len(df) / 2)\n",
    "    # divide by 2 because we have negative for type 1 and 2\n",
    "    # and we need equal proportions for\n",
    "    # positive type 1, positive type 2 and negative\n",
    "\n",
    "    # negative samples\n",
    "    for i, row in df.iterrows():\n",
    "        for _ in range(negative_num):\n",
    "            target = np.random.choice(row.values)\n",
    "            negative_idx = np.random.choice([j for j in range(len(df)) if j != i])\n",
    "            negative_row = df.loc[negative_idx].values\n",
    "            negative = np.random.choice(negative_row)\n",
    "\n",
    "            data.append((target, negative, 0.0))\n",
    "\n",
    "    return data\n",
    "\n",
    "\n",
    "def generate_dataset(path: str, shuffle: bool = False, seed: int = 42) -> pd.DataFrame:\n",
    "    np.random.seed(seed)\n",
    "\n",
    "    data = []\n",
    "\n",
    "    data += generate_data(get_df(f\"{path}1\"), 1.0)  # type 1 plagiarism\n",
    "    data += generate_data(get_df(f\"{path}2\"), 0.5)  # type 2 plagiarism\n",
    "\n",
    "    if shuffle:\n",
    "        np.random.shuffle(data)\n",
    "\n",
    "    return pd.DataFrame(data, columns=[\"target\", \"candidate\", \"score\"])"
   ]
  },
  {
   "cell_type": "code",
   "execution_count": 13,
   "metadata": {},
   "outputs": [
    {
     "name": "stdout",
     "output_type": "stream",
     "text": [
      "<class 'pandas.core.frame.DataFrame'>\n",
      "RangeIndex: 15120 entries, 0 to 15119\n",
      "Data columns (total 3 columns):\n",
      " #   Column     Non-Null Count  Dtype  \n",
      "---  ------     --------------  -----  \n",
      " 0   target     15120 non-null  object \n",
      " 1   candidate  15120 non-null  object \n",
      " 2   score      15120 non-null  float64\n",
      "dtypes: float64(1), object(2)\n",
      "memory usage: 354.5+ KB\n"
     ]
    }
   ],
   "source": [
    "train_df = generate_dataset(\"../generated/train\")\n",
    "train_df.info()"
   ]
  },
  {
   "cell_type": "code",
   "execution_count": 14,
   "metadata": {},
   "outputs": [
    {
     "name": "stdout",
     "output_type": "stream",
     "text": [
      "<class 'pandas.core.frame.DataFrame'>\n",
      "RangeIndex: 882 entries, 0 to 881\n",
      "Data columns (total 3 columns):\n",
      " #   Column     Non-Null Count  Dtype  \n",
      "---  ------     --------------  -----  \n",
      " 0   target     882 non-null    object \n",
      " 1   candidate  882 non-null    object \n",
      " 2   score      882 non-null    float64\n",
      "dtypes: float64(1), object(2)\n",
      "memory usage: 20.8+ KB\n"
     ]
    }
   ],
   "source": [
    "test_df = generate_dataset(\"../generated/test\")\n",
    "test_df.info()"
   ]
  },
  {
   "cell_type": "code",
   "execution_count": 15,
   "metadata": {},
   "outputs": [],
   "source": [
    "def save_df(df: pd.DataFrame, path: str):\n",
    "    \"\"\"Process and save pandas Data frame\"\"\"\n",
    "    df.loc[:, ~df.columns.str.contains(\"^Unnamed\")].to_csv(path, index=False)"
   ]
  },
  {
   "cell_type": "code",
   "execution_count": 21,
   "metadata": {},
   "outputs": [],
   "source": [
    "def soft_mkdir(path: str):\n",
    "    try:\n",
    "        os.mkdir(os.path.join(\".\", path))\n",
    "    except:\n",
    "        pass\n",
    "\n",
    "\n",
    "soft_mkdir(\"../generated/datasets\")"
   ]
  },
  {
   "cell_type": "code",
   "execution_count": 22,
   "metadata": {},
   "outputs": [],
   "source": [
    "save_df(train_df, \"../generated/datasets/train.csv\")\n",
    "save_df(test_df, \"../generated/datasets/test.csv\")"
   ]
  },
  {
   "cell_type": "code",
   "execution_count": 23,
   "metadata": {},
   "outputs": [],
   "source": [
    "k = 3\n",
    "save_df(train_df[train_df.index % k == 0], \"../generated/datasets/train_md.csv\")\n",
    "save_df(test_df[test_df.index % k == 0], \"../generated/datasets/test_md.csv\")"
   ]
  },
  {
   "cell_type": "code",
   "execution_count": 24,
   "metadata": {},
   "outputs": [],
   "source": [
    "k = 6\n",
    "save_df(train_df[train_df.index % k == 0], \"../generated/datasets/train_sm.csv\")\n",
    "save_df(test_df[test_df.index % k == 0], \"../generated/datasets/test_sm.csv\")"
   ]
  }
 ],
 "metadata": {
  "kernelspec": {
   "display_name": "rl",
   "language": "python",
   "name": "python3"
  },
  "language_info": {
   "codemirror_mode": {
    "name": "ipython",
    "version": 3
   },
   "file_extension": ".py",
   "mimetype": "text/x-python",
   "name": "python",
   "nbconvert_exporter": "python",
   "pygments_lexer": "ipython3",
   "version": "3.11.0"
  }
 },
 "nbformat": 4,
 "nbformat_minor": 2
}
