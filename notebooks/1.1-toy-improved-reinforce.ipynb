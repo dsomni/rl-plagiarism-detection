{
 "cells": [
  {
   "cell_type": "markdown",
   "metadata": {},
   "source": [
    "# Toy REINFORCE playground"
   ]
  },
  {
   "cell_type": "markdown",
   "metadata": {},
   "source": [
    "https://github.com/PacktPublishing/Reinforcement-Learning-Algorithms-with-Python/blob/master/Chapter06/REINFORCE_baseline.py"
   ]
  },
  {
   "cell_type": "markdown",
   "metadata": {},
   "source": [
    "Improvements:\n",
    "\n",
    "- 1\n",
    "- 2\n",
    "- ..."
   ]
  },
  {
   "cell_type": "code",
   "execution_count": 443,
   "metadata": {},
   "outputs": [],
   "source": [
    "import random\n",
    "from itertools import accumulate\n",
    "\n",
    "import numpy as np\n",
    "import torch\n",
    "import torch.nn as nn\n",
    "import torch.nn.functional as F\n",
    "import torch.optim as optim\n",
    "from tqdm import tqdm"
   ]
  },
  {
   "cell_type": "code",
   "execution_count": 444,
   "metadata": {},
   "outputs": [
    {
     "data": {
      "text/plain": [
       "True"
      ]
     },
     "execution_count": 444,
     "metadata": {},
     "output_type": "execute_result"
    }
   ],
   "source": [
    "torch.cuda.is_available()"
   ]
  },
  {
   "cell_type": "markdown",
   "metadata": {},
   "source": [
    "## Utilities"
   ]
  },
  {
   "cell_type": "code",
   "execution_count": 445,
   "metadata": {},
   "outputs": [],
   "source": [
    "GAMMA = 0.99"
   ]
  },
  {
   "cell_type": "code",
   "execution_count": 446,
   "metadata": {},
   "outputs": [],
   "source": [
    "def calculate_qvals(rewards: list[float], gamma: float = GAMMA) -> np.ndarray:\n",
    "    return np.array(\n",
    "        list(reversed(list(accumulate(reversed(rewards), lambda x, y: gamma * x + y))))\n",
    "    )"
   ]
  },
  {
   "cell_type": "markdown",
   "metadata": {},
   "source": [
    "## Environment"
   ]
  },
  {
   "cell_type": "code",
   "execution_count": 447,
   "metadata": {},
   "outputs": [],
   "source": [
    "class BlackJack:\n",
    "    def _get_reward(self) -> float:\n",
    "        if self.score < self.win_score:\n",
    "            return self.step_penalty\n",
    "        if self.score == self.win_score:\n",
    "            return self.win_reward\n",
    "        return self.loose_reward\n",
    "\n",
    "    def __init__(self) -> None:\n",
    "        self.actions_dict = {0: 1, 1: 5, 2: 10}\n",
    "\n",
    "        self.win_score = 101\n",
    "\n",
    "        self.win_reward = 100\n",
    "        self.step_penalty = -1\n",
    "        self.loose_reward = -100\n",
    "\n",
    "        self.reset()\n",
    "\n",
    "    def reset(self) -> list[int]:\n",
    "        # self.score = random.randint(0, self.win_score - 1)\n",
    "        self.score = 85\n",
    "        self.steps = 0\n",
    "        return [self.score]\n",
    "\n",
    "    def get_state(self) -> list[int]:\n",
    "        return [self.score]\n",
    "\n",
    "    def is_terminal(self) -> bool:\n",
    "        return self.score >= self.win_score\n",
    "\n",
    "    def interact(self, action: int) -> tuple[list[int], float, bool]:\n",
    "        if self.is_terminal():\n",
    "            return [self.score], 0, self.is_terminal()\n",
    "        self.score += self.actions_dict[action]\n",
    "        self.steps += 1\n",
    "\n",
    "        return [self.score], self._get_reward(), self.is_terminal()\n",
    "\n",
    "    def get_observation_shape(self) -> int:\n",
    "        return 1\n",
    "\n",
    "    def get_actions_shape(self) -> int:\n",
    "        return len(self.actions_dict)"
   ]
  },
  {
   "cell_type": "code",
   "execution_count": 448,
   "metadata": {},
   "outputs": [
    {
     "name": "stdout",
     "output_type": "stream",
     "text": [
      "([95], -1, False)\n",
      "([100], -1, False)\n",
      "([101], 100, True)\n",
      "True\n"
     ]
    }
   ],
   "source": [
    "test_env = BlackJack()\n",
    "print(test_env.interact(2))\n",
    "print(test_env.interact(1))\n",
    "print(test_env.interact(0))\n",
    "print(test_env.is_terminal())"
   ]
  },
  {
   "cell_type": "markdown",
   "metadata": {},
   "source": [
    "## Policy Gradient Network"
   ]
  },
  {
   "cell_type": "code",
   "execution_count": 449,
   "metadata": {},
   "outputs": [],
   "source": [
    "class PGN(nn.Module):\n",
    "    def __init__(self, input_dim: int, output_dim: int, hidden_dim: int = 16) -> None:\n",
    "        super(PGN, self).__init__()\n",
    "\n",
    "        self.net = nn.Sequential(\n",
    "            nn.Linear(input_dim, hidden_dim),\n",
    "            nn.ReLU(),\n",
    "            nn.Linear(hidden_dim, output_dim),\n",
    "            nn.Tanh(),\n",
    "        )\n",
    "\n",
    "    def forward(self, x):\n",
    "        return self.net(x)"
   ]
  },
  {
   "cell_type": "markdown",
   "metadata": {},
   "source": [
    "## Agent"
   ]
  },
  {
   "cell_type": "code",
   "execution_count": 450,
   "metadata": {},
   "outputs": [
    {
     "name": "stdout",
     "output_type": "stream",
     "text": [
      "tensor([0.0900, 0.2447, 0.6652])\n"
     ]
    },
    {
     "data": {
      "text/plain": [
       "0"
      ]
     },
     "execution_count": 450,
     "metadata": {},
     "output_type": "execute_result"
    }
   ],
   "source": [
    "action_logits = torch.FloatTensor([1, 2, 3])\n",
    "print(F.softmax(action_logits, dim=0))\n",
    "random.choices(range(len(action_logits)), F.softmax(action_logits, dim=0))[0]"
   ]
  },
  {
   "cell_type": "code",
   "execution_count": 451,
   "metadata": {},
   "outputs": [],
   "source": [
    "class Agent:\n",
    "    def choose_action(self, action_logits):\n",
    "        return random.choices(range(len(action_logits)), F.softmax(action_logits, dim=0))[\n",
    "            0\n",
    "        ]"
   ]
  },
  {
   "cell_type": "markdown",
   "metadata": {},
   "source": [
    "## Trajectory Buffer"
   ]
  },
  {
   "cell_type": "code",
   "execution_count": 452,
   "metadata": {},
   "outputs": [],
   "source": [
    "class TrajectoryBuffer:\n",
    "    \"\"\"\n",
    "    Buffer class to store the experience from a unique policy\n",
    "    \"\"\"\n",
    "\n",
    "    def __init__(self):\n",
    "        self.states = []\n",
    "        self.actions = []\n",
    "        self.rewards = []\n",
    "        self.discounted_rewards = []\n",
    "        self.discounted_baseline_rewards = []\n",
    "\n",
    "    def store(self, states_trajectory: np.ndarray, trajectory: np.ndarray):\n",
    "        \"\"\"\n",
    "        Add trajectory values to the buffers and compute the advantage and reward to go\n",
    "\n",
    "        Parameters:\n",
    "        -----------\n",
    "        states_trajectory:  list that contains states\n",
    "        trajectory: list where each element is a list that contains: reward, action\n",
    "        \"\"\"\n",
    "        assert len(states_trajectory) == len(trajectory)\n",
    "\n",
    "        if len(states_trajectory) > 0:\n",
    "            self.states.extend(states_trajectory)\n",
    "            self.rewards.extend(trajectory[:, 0])\n",
    "            discounted_rewards = calculate_qvals(trajectory[:, 0])\n",
    "\n",
    "            # BASELINE\n",
    "            # b = trajectory[:,0].mean() # avg for rewards in trajectory\n",
    "            b = np.mean(self.rewards)  # avg for all rewards in episode\n",
    "\n",
    "            self.actions.extend(trajectory[:, 1])\n",
    "            self.discounted_rewards.extend(discounted_rewards)\n",
    "            self.discounted_baseline_rewards.extend(discounted_rewards - b)\n",
    "\n",
    "    def get_batch(self):\n",
    "        return self.states, self.actions, self.discounted_baseline_rewards\n",
    "\n",
    "    def __len__(self):\n",
    "        assert (\n",
    "            len(self.states)\n",
    "            == len(self.actions)\n",
    "            == len(self.discounted_baseline_rewards)\n",
    "            == len(self.discounted_rewards)\n",
    "        )\n",
    "        return len(self.states)"
   ]
  },
  {
   "cell_type": "markdown",
   "metadata": {},
   "source": [
    "## Training"
   ]
  },
  {
   "cell_type": "code",
   "execution_count": 453,
   "metadata": {},
   "outputs": [],
   "source": [
    "LEARNING_RATE = 0.001\n",
    "\n",
    "env = BlackJack()\n",
    "net = PGN(input_dim=env.get_observation_shape(), output_dim=env.get_actions_shape())\n",
    "agent = Agent()\n",
    "optimizer = optim.Adam(net.parameters(), lr=LEARNING_RATE)"
   ]
  },
  {
   "cell_type": "code",
   "execution_count": 454,
   "metadata": {},
   "outputs": [],
   "source": [
    "EPOCHS = 200\n",
    "STEPS_PER_EPOCH = 200\n",
    "\n",
    "ENTROPY_BETA = 0.01"
   ]
  },
  {
   "cell_type": "code",
   "execution_count": 455,
   "metadata": {},
   "outputs": [
    {
     "name": "stderr",
     "output_type": "stream",
     "text": [
      "100%|██████████| 200/200 [00:13<00:00, 14.63it/s]\n"
     ]
    }
   ],
   "source": [
    "step_count = 0\n",
    "train_rewards = []\n",
    "train_ep_len = []\n",
    "\n",
    "for _ in tqdm(range(EPOCHS)):\n",
    "    state = env.reset()\n",
    "    buffer = TrajectoryBuffer()\n",
    "    env_states_buf, env_rew_act_buf = [], []\n",
    "    ep_rewards = []\n",
    "\n",
    "    while len(buffer) < STEPS_PER_EPOCH:\n",
    "        with torch.no_grad():\n",
    "            action_logits = net(torch.FloatTensor(state))\n",
    "\n",
    "            action = agent.choose_action(action_logits)\n",
    "            state2, reward, done = env.interact(action)\n",
    "\n",
    "            env_states_buf.append(state.copy())\n",
    "            env_rew_act_buf.append([reward, int(action)])\n",
    "\n",
    "            state = state2.copy()\n",
    "\n",
    "            step_count += 1\n",
    "            ep_rewards.append(reward)\n",
    "\n",
    "            if done:\n",
    "                buffer.store(np.array(env_states_buf), np.array(env_rew_act_buf))\n",
    "                env_states_buf, env_rew_act_buf = [], []\n",
    "\n",
    "                train_rewards.append(np.sum(ep_rewards))\n",
    "                train_ep_len.append(len(ep_rewards))\n",
    "\n",
    "                state = env.reset()\n",
    "                ep_rewards = []\n",
    "\n",
    "    state_batch, action_batch, reward_batch = buffer.get_batch()\n",
    "\n",
    "    optimizer.zero_grad()\n",
    "    states_t = torch.FloatTensor(np.array(state_batch))\n",
    "    batch_actions_t = torch.LongTensor(action_batch)\n",
    "    batch_qvals_t = torch.FloatTensor(reward_batch)\n",
    "\n",
    "    logits_v = net(states_t)\n",
    "    log_prob_v = F.log_softmax(logits_v, dim=1)\n",
    "\n",
    "    log_prob_actions_v = batch_qvals_t * log_prob_v[range(len(states_t)), batch_actions_t]\n",
    "    loss_policy_v = -log_prob_actions_v.mean()\n",
    "\n",
    "    prob_v = F.softmax(logits_v, dim=1)\n",
    "    entropy_v = -(prob_v * log_prob_v).sum(dim=1).mean()\n",
    "    entropy_loss_v = -ENTROPY_BETA * entropy_v\n",
    "    loss_v = loss_policy_v + entropy_loss_v\n",
    "\n",
    "    loss_v.backward()\n",
    "    nn.utils.clip_grad_norm_(net.parameters(), 1.0, norm_type=2)\n",
    "    optimizer.step()"
   ]
  },
  {
   "cell_type": "code",
   "execution_count": 456,
   "metadata": {},
   "outputs": [
    {
     "name": "stdout",
     "output_type": "stream",
     "text": [
      "[-103, -101, 98, -104, 98, 98, -101, -101, -103, -103, -103, 98, 98, -101, 98, -105, -104, -104, -105, -102]\n"
     ]
    }
   ],
   "source": [
    "print(train_rewards[-20:])\n",
    "# print(train_ep_len)"
   ]
  }
 ],
 "metadata": {
  "kernelspec": {
   "display_name": "rl",
   "language": "python",
   "name": "python3"
  },
  "language_info": {
   "codemirror_mode": {
    "name": "ipython",
    "version": 3
   },
   "file_extension": ".py",
   "mimetype": "text/x-python",
   "name": "python",
   "nbconvert_exporter": "python",
   "pygments_lexer": "ipython3",
   "version": "3.11.0"
  }
 },
 "nbformat": 4,
 "nbformat_minor": 2
}
