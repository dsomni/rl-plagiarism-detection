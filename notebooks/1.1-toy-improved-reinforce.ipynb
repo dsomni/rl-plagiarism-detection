{
 "cells": [
  {
   "cell_type": "markdown",
   "metadata": {},
   "source": [
    "# Toy REINFORCE playground"
   ]
  },
  {
   "cell_type": "markdown",
   "metadata": {},
   "source": [
    "https://github.com/PacktPublishing/Reinforcement-Learning-Algorithms-with-Python/blob/master/Chapter06/REINFORCE_baseline.py"
   ]
  },
  {
   "cell_type": "markdown",
   "metadata": {},
   "source": [
    "Improvements:\n",
    "\n",
    "- 1\n",
    "- 2\n",
    "- ..."
   ]
  },
  {
   "cell_type": "code",
   "execution_count": 730,
   "metadata": {},
   "outputs": [],
   "source": [
    "import random\n",
    "from itertools import accumulate\n",
    "\n",
    "import matplotlib.pyplot as plt\n",
    "import numpy as np\n",
    "import torch\n",
    "import torch.nn as nn\n",
    "import torch.nn.functional as F\n",
    "import torch.optim as optim\n",
    "from tqdm import tqdm"
   ]
  },
  {
   "cell_type": "code",
   "execution_count": 731,
   "metadata": {},
   "outputs": [
    {
     "data": {
      "text/plain": [
       "True"
      ]
     },
     "execution_count": 731,
     "metadata": {},
     "output_type": "execute_result"
    }
   ],
   "source": [
    "torch.cuda.is_available()"
   ]
  },
  {
   "cell_type": "markdown",
   "metadata": {},
   "source": [
    "## Utilities"
   ]
  },
  {
   "cell_type": "code",
   "execution_count": 732,
   "metadata": {},
   "outputs": [],
   "source": [
    "GAMMA = 0.99"
   ]
  },
  {
   "cell_type": "code",
   "execution_count": 733,
   "metadata": {},
   "outputs": [],
   "source": [
    "def calculate_qvals(rewards: list[float], gamma: float = GAMMA) -> np.ndarray:\n",
    "    return np.array(\n",
    "        list(reversed(list(accumulate(reversed(rewards), lambda x, y: gamma * x + y))))\n",
    "    )"
   ]
  },
  {
   "cell_type": "markdown",
   "metadata": {},
   "source": [
    "## Environment"
   ]
  },
  {
   "cell_type": "code",
   "execution_count": 734,
   "metadata": {},
   "outputs": [],
   "source": [
    "class BlackJack:\n",
    "    def _get_reward(self) -> float:\n",
    "        if self.score < self.win_score:\n",
    "            return self.step_penalty\n",
    "        if self.score == self.win_score:\n",
    "            return self.win_reward\n",
    "        return self.loose_reward\n",
    "\n",
    "    def __init__(self) -> None:\n",
    "        self.actions_dict = {0: 1, 1: 5, 2: 10}\n",
    "\n",
    "        self.win_score = 101\n",
    "\n",
    "        self.win_reward = 100\n",
    "        self.step_penalty = -1\n",
    "        self.loose_reward = 0\n",
    "\n",
    "        self.reset()\n",
    "\n",
    "    def reset(self) -> list[int]:\n",
    "        # self.score = random.randint(0, self.win_score - 1)\n",
    "        self.score = 85\n",
    "        self.steps = 0\n",
    "        return [self.score]\n",
    "\n",
    "    def get_state(self) -> list[int]:\n",
    "        return [self.score]\n",
    "\n",
    "    def is_terminal(self) -> bool:\n",
    "        return self.score >= self.win_score\n",
    "\n",
    "    def interact(self, action: int) -> tuple[list[int], float, bool]:\n",
    "        if self.is_terminal():\n",
    "            return [self.score], 0, self.is_terminal()\n",
    "        self.score += self.actions_dict[action]\n",
    "        self.steps += 1\n",
    "\n",
    "        return [self.score], self._get_reward(), self.is_terminal()\n",
    "\n",
    "    def get_observation_shape(self) -> int:\n",
    "        return 1\n",
    "\n",
    "    def get_actions_shape(self) -> int:\n",
    "        return len(self.actions_dict)"
   ]
  },
  {
   "cell_type": "code",
   "execution_count": 735,
   "metadata": {},
   "outputs": [
    {
     "name": "stdout",
     "output_type": "stream",
     "text": [
      "([95], -1, False)\n",
      "([100], -1, False)\n",
      "([101], 100, True)\n",
      "True\n"
     ]
    }
   ],
   "source": [
    "test_env = BlackJack()\n",
    "print(test_env.interact(2))\n",
    "print(test_env.interact(1))\n",
    "print(test_env.interact(0))\n",
    "print(test_env.is_terminal())"
   ]
  },
  {
   "cell_type": "markdown",
   "metadata": {},
   "source": [
    "## Policy Gradient Network"
   ]
  },
  {
   "cell_type": "code",
   "execution_count": 736,
   "metadata": {},
   "outputs": [],
   "source": [
    "class PGN(nn.Module):\n",
    "    def __init__(self, input_dim: int, output_dim: int, hidden_dim: int = 16) -> None:\n",
    "        super(PGN, self).__init__()\n",
    "\n",
    "        self.net = nn.Sequential(\n",
    "            nn.Linear(input_dim, hidden_dim),\n",
    "            nn.ReLU(),\n",
    "            nn.Linear(hidden_dim, output_dim),\n",
    "            nn.ReLU(),\n",
    "        )\n",
    "\n",
    "    def forward(self, x):\n",
    "        return self.net(x)"
   ]
  },
  {
   "cell_type": "markdown",
   "metadata": {},
   "source": [
    "## Agent"
   ]
  },
  {
   "cell_type": "code",
   "execution_count": 737,
   "metadata": {},
   "outputs": [
    {
     "name": "stdout",
     "output_type": "stream",
     "text": [
      "tensor([0.0900, 0.2447, 0.6652])\n"
     ]
    },
    {
     "data": {
      "text/plain": [
       "2"
      ]
     },
     "execution_count": 737,
     "metadata": {},
     "output_type": "execute_result"
    }
   ],
   "source": [
    "action_logits = torch.FloatTensor([1, 2, 3])\n",
    "print(F.softmax(action_logits, dim=0))\n",
    "random.choices(range(len(action_logits)), F.softmax(action_logits, dim=0))[0]"
   ]
  },
  {
   "cell_type": "code",
   "execution_count": 738,
   "metadata": {},
   "outputs": [],
   "source": [
    "class Agent:\n",
    "    def choose_action(self, action_logits):\n",
    "        return random.choices(range(len(action_logits)), F.softmax(action_logits, dim=0))[\n",
    "            0\n",
    "        ]"
   ]
  },
  {
   "cell_type": "markdown",
   "metadata": {},
   "source": [
    "## Trajectory Buffer"
   ]
  },
  {
   "cell_type": "code",
   "execution_count": 739,
   "metadata": {},
   "outputs": [],
   "source": [
    "class TrajectoryBuffer:\n",
    "    \"\"\"\n",
    "    Buffer class to store the experience from a unique policy\n",
    "    \"\"\"\n",
    "\n",
    "    def __init__(self):\n",
    "        self.states = []\n",
    "        self.actions = []\n",
    "        self.rewards = []\n",
    "        self.discounted_rewards = []\n",
    "        self.discounted_baseline_rewards = []\n",
    "\n",
    "    def store(self, states_trajectory: np.ndarray, trajectory: np.ndarray):\n",
    "        \"\"\"\n",
    "        Add trajectory values to the buffers and compute the advantage and reward to go\n",
    "\n",
    "        Parameters:\n",
    "        -----------\n",
    "        states_trajectory:  list that contains states\n",
    "        trajectory: list where each element is a list that contains: reward, action\n",
    "        \"\"\"\n",
    "        assert len(states_trajectory) == len(trajectory)\n",
    "\n",
    "        if len(states_trajectory) > 0:\n",
    "            self.states.extend(states_trajectory)\n",
    "            self.rewards.extend(trajectory[:, 0])\n",
    "            discounted_rewards = calculate_qvals(trajectory[:, 0])\n",
    "\n",
    "            # BASELINE\n",
    "            # b = trajectory[:,0].mean() # avg for rewards in trajectory\n",
    "            b = np.mean(self.rewards)  # avg for all rewards in episode\n",
    "\n",
    "            self.actions.extend(trajectory[:, 1])\n",
    "            self.discounted_rewards.extend(discounted_rewards)\n",
    "            self.discounted_baseline_rewards.extend(discounted_rewards - b)\n",
    "            # self.discounted_baseline_rewards.extend((discounted_rewards - np.mean(discounted_rewards))/(np.std(discounted_rewards) + 1e-10))\n",
    "\n",
    "    def get_batch(self):\n",
    "        return self.states, self.actions, self.discounted_baseline_rewards\n",
    "\n",
    "    def __len__(self):\n",
    "        assert (\n",
    "            len(self.states)\n",
    "            == len(self.actions)\n",
    "            == len(self.discounted_baseline_rewards)\n",
    "            == len(self.discounted_rewards)\n",
    "        )\n",
    "        return len(self.states)"
   ]
  },
  {
   "cell_type": "markdown",
   "metadata": {},
   "source": [
    "## Training"
   ]
  },
  {
   "cell_type": "code",
   "execution_count": 740,
   "metadata": {},
   "outputs": [],
   "source": [
    "LEARNING_RATE = 0.001\n",
    "\n",
    "env = BlackJack()\n",
    "net = PGN(input_dim=env.get_observation_shape(), output_dim=env.get_actions_shape())\n",
    "agent = Agent()\n",
    "optimizer = optim.Adam(net.parameters(), lr=LEARNING_RATE)"
   ]
  },
  {
   "cell_type": "code",
   "execution_count": 741,
   "metadata": {},
   "outputs": [],
   "source": [
    "EPOCHS = 200\n",
    "STEPS_PER_EPOCH = 100\n",
    "\n",
    "ENTROPY_BETA = 0.0"
   ]
  },
  {
   "cell_type": "code",
   "execution_count": 742,
   "metadata": {},
   "outputs": [
    {
     "name": "stderr",
     "output_type": "stream",
     "text": [
      "Epoch: 100%|██████████| 200/200 [00:08<00:00, 23.37it/s, Mean reward=-1, Mean ep len=2, Mean Loss=-1.55e-6, Mean Entropy=6.73e-5]   \n"
     ]
    }
   ],
   "source": [
    "step_count = 0\n",
    "train_rewards = []\n",
    "train_ep_len = []\n",
    "\n",
    "mean_epoch_rewards = []\n",
    "mean_epoch_ep_len = []\n",
    "epoch_loss = []\n",
    "epoch_entropy = []\n",
    "\n",
    "probs = []\n",
    "\n",
    "loop = tqdm(range(EPOCHS), desc=\"Epoch\")\n",
    "\n",
    "for _ in loop:\n",
    "    state = env.reset()\n",
    "    buffer = TrajectoryBuffer()\n",
    "    env_states_buf, env_rew_act_buf = [], []\n",
    "    ep_rewards = []\n",
    "\n",
    "    train_logs_shift = len(train_rewards)  # for logging\n",
    "\n",
    "    while len(buffer) < STEPS_PER_EPOCH:\n",
    "        with torch.no_grad():\n",
    "            action_logits = net(torch.FloatTensor(state))\n",
    "\n",
    "            action = agent.choose_action(action_logits)\n",
    "            state2, reward, done = env.interact(action)\n",
    "\n",
    "            env_states_buf.append(state.copy())\n",
    "            env_rew_act_buf.append([reward, int(action)])\n",
    "\n",
    "            state = state2.copy()\n",
    "\n",
    "            step_count += 1\n",
    "            ep_rewards.append(reward)\n",
    "\n",
    "            if done:\n",
    "                buffer.store(np.array(env_states_buf), np.array(env_rew_act_buf))\n",
    "                env_states_buf, env_rew_act_buf = [], []\n",
    "\n",
    "                train_rewards.append(np.sum(ep_rewards))\n",
    "                train_ep_len.append(len(ep_rewards))\n",
    "\n",
    "                state = env.reset()\n",
    "                ep_rewards = []\n",
    "\n",
    "    state_batch, action_batch, reward_batch = buffer.get_batch()\n",
    "\n",
    "    optimizer.zero_grad()\n",
    "    states_t = torch.FloatTensor(np.array(state_batch))\n",
    "    batch_actions_t = torch.LongTensor(action_batch)\n",
    "    batch_qvals_t = torch.FloatTensor(reward_batch)\n",
    "\n",
    "    logits_v = net(states_t)\n",
    "    log_prob_v = F.log_softmax(logits_v, dim=1)\n",
    "\n",
    "    log_prob_actions_v = batch_qvals_t * log_prob_v[range(len(states_t)), batch_actions_t]\n",
    "    loss_policy_v = -log_prob_actions_v.mean()\n",
    "\n",
    "    prob_v = F.softmax(logits_v, dim=1)\n",
    "    probs.append(prob_v.detach().numpy())\n",
    "    entropy_v = -(prob_v * log_prob_v).sum(dim=1).mean()\n",
    "    entropy_loss_v = -ENTROPY_BETA * entropy_v\n",
    "    loss_v = loss_policy_v + entropy_loss_v\n",
    "\n",
    "    loss_v.backward()\n",
    "\n",
    "    nn.utils.clip_grad_norm_(net.parameters(), 1.0, norm_type=2)\n",
    "    optimizer.step()\n",
    "\n",
    "    # logging\n",
    "    mean_epoch_rewards.append(np.mean(train_rewards[train_logs_shift:]))\n",
    "    mean_epoch_ep_len.append(np.mean(train_ep_len[train_logs_shift:]))\n",
    "    epoch_loss.append(loss_v.item())\n",
    "    epoch_entropy.append(entropy_v.item())\n",
    "\n",
    "    loop.set_postfix(\n",
    "        {\n",
    "            \"Mean reward\": mean_epoch_rewards[-1],\n",
    "            \"Mean ep len\": mean_epoch_ep_len[-1],\n",
    "            \"Mean Loss\": epoch_loss[-1],\n",
    "            \"Mean Entropy\": epoch_entropy[-1],\n",
    "        }\n",
    "    )\n",
    "    # if epoch_loss[-1] < 0:\n",
    "    #     print(loss_v.item())\n",
    "    #     break"
   ]
  },
  {
   "cell_type": "code",
   "execution_count": 745,
   "metadata": {},
   "outputs": [
    {
     "data": {
      "text/plain": [
       "-1.0"
      ]
     },
     "execution_count": 745,
     "metadata": {},
     "output_type": "execute_result"
    }
   ],
   "source": [
    "np.max(mean_epoch_rewards)"
   ]
  },
  {
   "cell_type": "code",
   "execution_count": 743,
   "metadata": {},
   "outputs": [
    {
     "data": {
      "text/plain": [
       "1.0986122886681096"
      ]
     },
     "execution_count": 743,
     "metadata": {},
     "output_type": "execute_result"
    }
   ],
   "source": [
    "def get_uniform_entropy(n_actions: int):\n",
    "    probs = np.array([1 / n_actions for _ in range(n_actions)])\n",
    "    return -np.sum(probs * np.log(probs))\n",
    "\n",
    "\n",
    "uniform_entropy = get_uniform_entropy(env.get_actions_shape())\n",
    "uniform_entropy"
   ]
  },
  {
   "cell_type": "code",
   "execution_count": 744,
   "metadata": {},
   "outputs": [
    {
     "data": {
      "text/plain": [
       "[]"
      ]
     },
     "execution_count": 744,
     "metadata": {},
     "output_type": "execute_result"
    },
    {
     "data": {
      "image/png": "[encoded data removed]",
      "text/plain": [
       "<Figure size 800x1200 with 4 Axes>"
      ]
     },
     "metadata": {},
     "output_type": "display_data"
    }
   ],
   "source": [
    "fig, axs = plt.subplots(4, 1, figsize=(8, 12))\n",
    "\n",
    "# Mean Reward per epoch\n",
    "axs[0].plot(range(EPOCHS), mean_epoch_rewards)\n",
    "axs[0].set_xlabel(\"# epoch\")\n",
    "axs[0].set_ylabel(\"mean reward\")\n",
    "\n",
    "# Mean Episode length per epoch\n",
    "axs[1].plot(range(EPOCHS), mean_epoch_ep_len)\n",
    "axs[1].set_xlabel(\"# episode\")\n",
    "axs[1].set_ylabel(\"mean episode length\")\n",
    "\n",
    "\n",
    "# Epoch loss\n",
    "axs[2].plot(range(EPOCHS), epoch_loss)\n",
    "axs[2].set_xlabel(\"# epoch\")\n",
    "axs[2].set_ylabel(\"loss\")\n",
    "\n",
    "# Epoch entropy\n",
    "axs[3].plot(range(EPOCHS), epoch_entropy)\n",
    "# axs[3].plot(range(EPOCHS), [uniform_entropy]*EPOCHS)\n",
    "axs[3].set_xlabel(\"# episode\")\n",
    "axs[3].set_ylabel(\"entropy\")\n",
    "\n",
    "plt.tight_layout()\n",
    "plt.plot()"
   ]
  }
 ],
 "metadata": {
  "kernelspec": {
   "display_name": "rl",
   "language": "python",
   "name": "python3"
  },
  "language_info": {
   "codemirror_mode": {
    "name": "ipython",
    "version": 3
   },
   "file_extension": ".py",
   "mimetype": "text/x-python",
   "name": "python",
   "nbconvert_exporter": "python",
   "pygments_lexer": "ipython3",
   "version": "3.11.0"
  }
 },
 "nbformat": 4,
 "nbformat_minor": 2
}
