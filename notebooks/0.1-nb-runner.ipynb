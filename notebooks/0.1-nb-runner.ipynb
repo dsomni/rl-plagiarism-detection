{
 "cells": [
  {
   "cell_type": "markdown",
   "metadata": {},
   "source": [
    "# Run notebooks"
   ]
  },
  {
   "cell_type": "code",
   "execution_count": 1,
   "metadata": {},
   "outputs": [],
   "source": [
    "import time\n",
    "\n",
    "import nbformat\n",
    "from nbconvert.preprocessors import ExecutePreprocessor"
   ]
  },
  {
   "cell_type": "code",
   "execution_count": 2,
   "metadata": {},
   "outputs": [],
   "source": [
    "NOTEBOOKS = [\"3.0-a2c\", \"3.1-reinforce\", \"3.2-dqn\"]"
   ]
  },
  {
   "cell_type": "code",
   "execution_count": 3,
   "metadata": {},
   "outputs": [],
   "source": [
    "def run_notebook(name: str, save_name: str = \"\"):\n",
    "    print(f\"Working on '{name}'...\")\n",
    "    start_time = time.time()\n",
    "\n",
    "    if len(save_name) == 0:\n",
    "        save_name = name\n",
    "\n",
    "    # Read notebook\n",
    "    with open(f\"./{name}.ipynb\") as f:\n",
    "        nb = nbformat.read(f, as_version=nbformat.NO_CONVERT)\n",
    "\n",
    "    # Set up executor\n",
    "    execute_proc = ExecutePreprocessor(kernel_name=\"python3\")\n",
    "    execute_proc.preprocess(nb)\n",
    "\n",
    "    # Save notebook\n",
    "    with open(f\"./{save_name}.ipynb\", \"w\", encoding=\"utf-8\") as f:\n",
    "        nbformat.write(nb, f)\n",
    "\n",
    "    elapsed_time = time.time() - start_time\n",
    "    print(f\"Done with '{save_name}' in {elapsed_time:.2f} seconds!\\n\")"
   ]
  },
  {
   "cell_type": "code",
   "execution_count": 4,
   "metadata": {},
   "outputs": [
    {
     "name": "stdout",
     "output_type": "stream",
     "text": [
      "Working on '3.0-a2c'...\n"
     ]
    }
   ],
   "source": [
    "for notebook in NOTEBOOKS:\n",
    "    run_notebook(notebook)"
   ]
  }
 ],
 "metadata": {
  "kernelspec": {
   "display_name": "rl",
   "language": "python",
   "name": "python3"
  },
  "language_info": {
   "codemirror_mode": {
    "name": "ipython",
    "version": 3
   },
   "file_extension": ".py",
   "mimetype": "text/x-python",
   "name": "python",
   "nbconvert_exporter": "python",
   "pygments_lexer": "ipython3",
   "version": "3.11.0"
  }
 },
 "nbformat": 4,
 "nbformat_minor": 2
}
