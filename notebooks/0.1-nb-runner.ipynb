{
 "cells": [
  {
   "cell_type": "markdown",
   "metadata": {},
   "source": [
    "# Run notebooks"
   ]
  },
  {
   "cell_type": "code",
   "execution_count": 9,
   "metadata": {},
   "outputs": [],
   "source": [
    "import time\n",
    "\n",
    "import papermill as pm"
   ]
  },
  {
   "cell_type": "markdown",
   "metadata": {},
   "source": [
    "## Constants"
   ]
  },
  {
   "cell_type": "code",
   "execution_count": 10,
   "metadata": {},
   "outputs": [],
   "source": [
    "RL_NOTEBOOKS = [\"a2c\", \"reinforce\", \"dqn\"]\n",
    "BASELINE_NOTEBOOKS = [\n",
    "    \"cnn1d\",\n",
    "    \"cnn2d\",\n",
    "    \"lstm\",\n",
    "    \"bilstm\",\n",
    "    \"lstm_attn\",\n",
    "    \"bilstm_attn\",\n",
    "]"
   ]
  },
  {
   "cell_type": "code",
   "execution_count": 11,
   "metadata": {},
   "outputs": [],
   "source": [
    "NB_DICT: dict[str, tuple[str, dict]] = {\n",
    "    \"a2c\": (\"3.0-a2c\", {}),\n",
    "    \"reinforce\": (\"3.1-reinforce\", {}),\n",
    "    \"dqn\": (\"3.2-dqn\", {}),\n",
    "    \"cnn1d\": (\"4.1-cnn\", {\"CNN_DIM\": 1}),\n",
    "    \"cnn2d\": (\"4.1-cnn\", {\"CNN_DIM\": 2}),\n",
    "    \"lstm\": (\"4.0-lstm\", {\"BIDIRECTIONAL\": False, \"ATTENTION\": False}),\n",
    "    \"bilstm\": (\"4.0-lstm\", {\"BIDIRECTIONAL\": True, \"ATTENTION\": False}),\n",
    "    \"lstm_attn\": (\"4.0-lstm\", {\"BIDIRECTIONAL\": False, \"ATTENTION\": True}),\n",
    "    \"bilstm_attn\": (\"4.0-lstm\", {\"BIDIRECTIONAL\": True, \"ATTENTION\": True}),\n",
    "}"
   ]
  },
  {
   "cell_type": "markdown",
   "metadata": {},
   "source": [
    "## Parameters"
   ]
  },
  {
   "cell_type": "code",
   "execution_count": 12,
   "metadata": {},
   "outputs": [],
   "source": [
    "basic_params = {\n",
    "    \"EXPERIMENT_NAME\": \"20_04\",\n",
    "    \"EPOCHS\": 5500,\n",
    "    \"EVAL_PERIOD\": 10,\n",
    "    \"LOG_PERIOD\": 10,\n",
    "}"
   ]
  },
  {
   "cell_type": "code",
   "execution_count": 13,
   "metadata": {},
   "outputs": [],
   "source": [
    "params_dict = {\n",
    "    \"a2c\": {},\n",
    "    \"reinforce\": {},\n",
    "    \"dqn\": {},\n",
    "    \"cnn1d\": {},\n",
    "    \"cnn2d\": {},\n",
    "    \"lstm\": {},\n",
    "    \"bilstm\": {},\n",
    "    \"lstm_attn\": {},\n",
    "    \"bilstm_attn\": {},\n",
    "}"
   ]
  },
  {
   "cell_type": "markdown",
   "metadata": {},
   "source": [
    "## Utils"
   ]
  },
  {
   "cell_type": "code",
   "execution_count": 14,
   "metadata": {},
   "outputs": [],
   "source": [
    "def build_exec_params(name: str) -> tuple[str, dict]:\n",
    "    final_params = {}\n",
    "    nb_name, specific_params = NB_DICT[name]\n",
    "    final_params.update(basic_params)\n",
    "    final_params.update(params_dict[name])\n",
    "    final_params.update(specific_params)\n",
    "\n",
    "    return nb_name, final_params"
   ]
  },
  {
   "cell_type": "code",
   "execution_count": 15,
   "metadata": {},
   "outputs": [],
   "source": [
    "def exec_notebook(name: str, save_prefix: str = \"\"):\n",
    "    print(f\"Working on '{name}'...\")\n",
    "\n",
    "    nb_name, params = build_exec_params(name)\n",
    "\n",
    "    start_time = time.time()\n",
    "\n",
    "    save_name = f\"{save_prefix}{nb_name}\"\n",
    "\n",
    "    pm.execute_notebook(f\"./{nb_name}.ipynb\", f\"./{save_name}.ipynb\", parameters=params)\n",
    "\n",
    "    elapsed_time = time.time() - start_time\n",
    "    print(f\"Done with '{name}' in {elapsed_time:.2f} seconds! Saved to {save_name}\\n\")"
   ]
  },
  {
   "cell_type": "markdown",
   "metadata": {},
   "source": [
    "## Execution"
   ]
  },
  {
   "cell_type": "code",
   "execution_count": 16,
   "metadata": {},
   "outputs": [
    {
     "name": "stdout",
     "output_type": "stream",
     "text": [
      "Working on 'cnn1d'...\n"
     ]
    },
    {
     "data": {
      "application/vnd.jupyter.widget-view+json": {
       "model_id": "37b4fa4606a04a9f86de5188b9b22d91",
       "version_major": 2,
       "version_minor": 0
      },
      "text/plain": [
       "Executing:   0%|          | 0/33 [00:00<?, ?cell/s]"
      ]
     },
     "metadata": {},
     "output_type": "display_data"
    },
    {
     "name": "stdout",
     "output_type": "stream",
     "text": [
      "Done with 'cnn1d' in 57.03 seconds! Saved to 4.1-cnn\n",
      "\n",
      "Working on 'cnn2d'...\n"
     ]
    },
    {
     "data": {
      "application/vnd.jupyter.widget-view+json": {
       "model_id": "4e12823bfba049e7820a427b745459e3",
       "version_major": 2,
       "version_minor": 0
      },
      "text/plain": [
       "Executing:   0%|          | 0/33 [00:00<?, ?cell/s]"
      ]
     },
     "metadata": {},
     "output_type": "display_data"
    },
    {
     "name": "stdout",
     "output_type": "stream",
     "text": [
      "Done with 'cnn2d' in 33.51 seconds! Saved to 4.1-cnn\n",
      "\n",
      "Working on 'lstm'...\n"
     ]
    },
    {
     "data": {
      "application/vnd.jupyter.widget-view+json": {
       "model_id": "441bfa1914a94707bd536d200fa30e82",
       "version_major": 2,
       "version_minor": 0
      },
      "text/plain": [
       "Executing:   0%|          | 0/31 [00:00<?, ?cell/s]"
      ]
     },
     "metadata": {},
     "output_type": "display_data"
    },
    {
     "name": "stdout",
     "output_type": "stream",
     "text": [
      "Done with 'lstm' in 543.16 seconds! Saved to 4.0-lstm\n",
      "\n",
      "Working on 'bilstm'...\n"
     ]
    },
    {
     "data": {
      "application/vnd.jupyter.widget-view+json": {
       "model_id": "e382e09cf7194b73a2e65c064f771dd4",
       "version_major": 2,
       "version_minor": 0
      },
      "text/plain": [
       "Executing:   0%|          | 0/31 [00:00<?, ?cell/s]"
      ]
     },
     "metadata": {},
     "output_type": "display_data"
    },
    {
     "name": "stdout",
     "output_type": "stream",
     "text": [
      "Done with 'bilstm' in 44.96 seconds! Saved to 4.0-lstm\n",
      "\n",
      "Working on 'lstm_attn'...\n"
     ]
    },
    {
     "data": {
      "application/vnd.jupyter.widget-view+json": {
       "model_id": "b60389cf520a4a23a81b356c771f82a7",
       "version_major": 2,
       "version_minor": 0
      },
      "text/plain": [
       "Executing:   0%|          | 0/31 [00:00<?, ?cell/s]"
      ]
     },
     "metadata": {},
     "output_type": "display_data"
    },
    {
     "name": "stdout",
     "output_type": "stream",
     "text": [
      "Done with 'lstm_attn' in 13.54 seconds! Saved to 4.0-lstm\n",
      "\n",
      "Working on 'bilstm_attn'...\n"
     ]
    },
    {
     "data": {
      "application/vnd.jupyter.widget-view+json": {
       "model_id": "d8ebda5618b84ca0ac064a617b868011",
       "version_major": 2,
       "version_minor": 0
      },
      "text/plain": [
       "Executing:   0%|          | 0/31 [00:00<?, ?cell/s]"
      ]
     },
     "metadata": {},
     "output_type": "display_data"
    },
    {
     "name": "stdout",
     "output_type": "stream",
     "text": [
      "Done with 'bilstm_attn' in 13.85 seconds! Saved to 4.0-lstm\n",
      "\n"
     ]
    }
   ],
   "source": [
    "for nb in BASELINE_NOTEBOOKS:\n",
    "    exec_notebook(nb)"
   ]
  }
 ],
 "metadata": {
  "kernelspec": {
   "display_name": "rl",
   "language": "python",
   "name": "python3"
  },
  "language_info": {
   "codemirror_mode": {
    "name": "ipython",
    "version": 3
   },
   "file_extension": ".py",
   "mimetype": "text/x-python",
   "name": "python",
   "nbconvert_exporter": "python",
   "pygments_lexer": "ipython3",
   "version": "3.11.0"
  }
 },
 "nbformat": 4,
 "nbformat_minor": 2
}
