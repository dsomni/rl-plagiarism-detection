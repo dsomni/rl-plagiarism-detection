{
 "cells": [
  {
   "cell_type": "markdown",
   "metadata": {},
   "source": [
    "# Run notebooks"
   ]
  },
  {
   "cell_type": "code",
   "execution_count": 26,
   "metadata": {},
   "outputs": [],
   "source": [
    "import time\n",
    "\n",
    "import papermill as pm"
   ]
  },
  {
   "cell_type": "markdown",
   "metadata": {},
   "source": [
    "## Constants"
   ]
  },
  {
   "cell_type": "code",
   "execution_count": 27,
   "metadata": {},
   "outputs": [],
   "source": [
    "RL_NOTEBOOKS = [\n",
    "    # \"a2c\",\n",
    "    # \"reinforce\",\n",
    "    \"dqn\",\n",
    "]\n",
    "\n",
    "BASELINE_NOTEBOOKS = [\n",
    "    \"cnn1d\",\n",
    "    \"cnn2d\",\n",
    "    \"lstm\",\n",
    "    \"bilstm\",\n",
    "    \"lstm_attn\",\n",
    "    \"bilstm_attn\",\n",
    "]"
   ]
  },
  {
   "cell_type": "code",
   "execution_count": 28,
   "metadata": {},
   "outputs": [],
   "source": [
    "NB_DICT: dict[str, tuple[str, dict]] = {\n",
    "    \"a2c\": (\"3.0-a2c\", {}),\n",
    "    \"reinforce\": (\"3.1-reinforce\", {}),\n",
    "    \"dqn\": (\"3.2-dqn\", {}),\n",
    "    \"cnn1d\": (\"4.1-cnn\", {\"CNN_DIM\": 1}),\n",
    "    \"cnn2d\": (\"4.1-cnn\", {\"CNN_DIM\": 2}),\n",
    "    \"lstm\": (\"4.0-lstm\", {\"BIDIRECTIONAL\": False, \"ATTENTION\": False}),\n",
    "    \"bilstm\": (\"4.0-lstm\", {\"BIDIRECTIONAL\": True, \"ATTENTION\": False}),\n",
    "    \"lstm_attn\": (\"4.0-lstm\", {\"BIDIRECTIONAL\": False, \"ATTENTION\": True}),\n",
    "    \"bilstm_attn\": (\"4.0-lstm\", {\"BIDIRECTIONAL\": True, \"ATTENTION\": True}),\n",
    "}"
   ]
  },
  {
   "cell_type": "markdown",
   "metadata": {},
   "source": [
    "## Parameters"
   ]
  },
  {
   "cell_type": "code",
   "execution_count": 29,
   "metadata": {},
   "outputs": [],
   "source": [
    "basic_params = {\n",
    "    \"EXPERIMENT_NAME\": \"23_04\",\n",
    "    \"EPOCHS\": 1500,\n",
    "    \"EVAL_PERIOD\": 10,\n",
    "    \"LOG_PERIOD\": 10,\n",
    "}"
   ]
  },
  {
   "cell_type": "code",
   "execution_count": 30,
   "metadata": {},
   "outputs": [],
   "source": [
    "params_dict = {\n",
    "    \"a2c\": {},\n",
    "    \"reinforce\": {},\n",
    "    \"dqn\": {},\n",
    "    \"cnn1d\": {},\n",
    "    \"cnn2d\": {},\n",
    "    \"lstm\": {},\n",
    "    \"bilstm\": {},\n",
    "    \"lstm_attn\": {},\n",
    "    \"bilstm_attn\": {},\n",
    "}"
   ]
  },
  {
   "cell_type": "markdown",
   "metadata": {},
   "source": [
    "## Utils"
   ]
  },
  {
   "cell_type": "code",
   "execution_count": 31,
   "metadata": {},
   "outputs": [],
   "source": [
    "def build_exec_params(name: str) -> tuple[str, dict]:\n",
    "    final_params = {}\n",
    "    nb_name, specific_params = NB_DICT[name]\n",
    "    final_params.update(basic_params)\n",
    "    final_params.update(params_dict[name])\n",
    "    final_params.update(specific_params)\n",
    "\n",
    "    return nb_name, final_params"
   ]
  },
  {
   "cell_type": "code",
   "execution_count": 32,
   "metadata": {},
   "outputs": [],
   "source": [
    "def exec_notebook(name: str, save_prefix: str = \"\"):\n",
    "    print(f\"Working on '{name}'...\")\n",
    "\n",
    "    nb_name, params = build_exec_params(name)\n",
    "\n",
    "    start_time = time.time()\n",
    "\n",
    "    save_name = f\"{save_prefix}{nb_name}\"\n",
    "\n",
    "    pm.execute_notebook(f\"./{nb_name}.ipynb\", f\"./{save_name}.ipynb\", parameters=params)\n",
    "\n",
    "    elapsed_time = time.time() - start_time\n",
    "    print(f\"Done with '{name}' in {elapsed_time:.2f} seconds! Saved to {save_name}\\n\")"
   ]
  },
  {
   "cell_type": "markdown",
   "metadata": {},
   "source": [
    "## Execution"
   ]
  },
  {
   "cell_type": "code",
   "execution_count": 33,
   "metadata": {},
   "outputs": [
    {
     "name": "stdout",
     "output_type": "stream",
     "text": [
      "Working on 'reinforce'...\n"
     ]
    },
    {
     "data": {
      "application/vnd.jupyter.widget-view+json": {
       "model_id": "f5533abb0fcc4f758385c4c64970ef0e",
       "version_major": 2,
       "version_minor": 0
      },
      "text/plain": [
       "Executing:   0%|          | 0/45 [00:00<?, ?cell/s]"
      ]
     },
     "metadata": {},
     "output_type": "display_data"
    },
    {
     "name": "stdout",
     "output_type": "stream",
     "text": [
      "Done with 'reinforce' in 1320.38 seconds! Saved to 3.1-reinforce\n",
      "\n"
     ]
    }
   ],
   "source": [
    "for nb in RL_NOTEBOOKS:\n",
    "    exec_notebook(nb)"
   ]
  }
 ],
 "metadata": {
  "kernelspec": {
   "display_name": "rl",
   "language": "python",
   "name": "python3"
  },
  "language_info": {
   "codemirror_mode": {
    "name": "ipython",
    "version": 3
   },
   "file_extension": ".py",
   "mimetype": "text/x-python",
   "name": "python",
   "nbconvert_exporter": "python",
   "pygments_lexer": "ipython3",
   "version": "3.11.0"
  }
 },
 "nbformat": 4,
 "nbformat_minor": 2
}
