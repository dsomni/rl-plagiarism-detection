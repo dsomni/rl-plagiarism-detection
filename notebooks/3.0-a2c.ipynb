{
 "cells": [
  {
   "cell_type": "markdown",
   "metadata": {},
   "source": [
    "# A2C for text plagiarism detection"
   ]
  },
  {
   "cell_type": "code",
   "execution_count": 1,
   "metadata": {},
   "outputs": [],
   "source": [
    "import random\n",
    "from itertools import accumulate\n",
    "\n",
    "import matplotlib.pyplot as plt\n",
    "import numpy as np\n",
    "import scipy\n",
    "import torch\n",
    "import torch.nn as nn\n",
    "import torch.nn.functional as F\n",
    "import torch.optim as optim\n",
    "from torch.utils.data import Dataset\n",
    "from torchtext.data import get_tokenizer\n",
    "from torchtext.vocab import GloVe\n",
    "from tqdm import tqdm"
   ]
  },
  {
   "cell_type": "code",
   "execution_count": 2,
   "metadata": {},
   "outputs": [
    {
     "data": {
      "text/plain": [
       "True"
      ]
     },
     "execution_count": 2,
     "metadata": {},
     "output_type": "execute_result"
    }
   ],
   "source": [
    "torch.cuda.is_available()"
   ]
  },
  {
   "cell_type": "code",
   "execution_count": 3,
   "metadata": {},
   "outputs": [
    {
     "data": {
      "text/plain": [
       "device(type='cpu')"
      ]
     },
     "execution_count": 3,
     "metadata": {},
     "output_type": "execute_result"
    }
   ],
   "source": [
    "# DEVICE = torch.device(\"cuda\") or torch.device(\"cpu\")\n",
    "DEVICE = torch.device(\"cpu\")\n",
    "DEVICE"
   ]
  },
  {
   "cell_type": "markdown",
   "metadata": {},
   "source": [
    "## Utilities"
   ]
  },
  {
   "cell_type": "code",
   "execution_count": 4,
   "metadata": {},
   "outputs": [],
   "source": [
    "GAMMA = 0.99\n",
    "REWARD_STEPS = 4"
   ]
  },
  {
   "cell_type": "code",
   "execution_count": 5,
   "metadata": {},
   "outputs": [],
   "source": [
    "def calculate_qvals(\n",
    "    rewards: list[float], gamma: float = GAMMA, reward_steps: int = REWARD_STEPS\n",
    ") -> np.ndarray:\n",
    "    qvals = []\n",
    "\n",
    "    rw_steps = reward_steps if reward_steps != 0 else len(rewards)\n",
    "\n",
    "    for i in range(len(rewards)):\n",
    "        qvals.append(\n",
    "            list(\n",
    "                accumulate(\n",
    "                    reversed(rewards[i : i + rw_steps]), lambda x, y: gamma * x + y\n",
    "                )\n",
    "            )[-1]\n",
    "        )\n",
    "    return np.array(qvals)"
   ]
  },
  {
   "cell_type": "markdown",
   "metadata": {},
   "source": [
    "## Dataset"
   ]
  },
  {
   "cell_type": "code",
   "execution_count": 6,
   "metadata": {},
   "outputs": [],
   "source": [
    "tokenizer = get_tokenizer(\"basic_english\")\n",
    "global_vectors = GloVe(cache=\"../data\")\n",
    "\n",
    "data = [\n",
    "    (\"hello, world!\", \"hi world\", 1.0),\n",
    "    (\"hello, world!\", \"cat eats beetle\", 0.0),\n",
    "    (\"sky is blue\", \"horizon is not red\", 0.5),\n",
    "    (\"sky is red\", \"horizon is not blue\", 0.5),\n",
    "]"
   ]
  },
  {
   "cell_type": "code",
   "execution_count": 13,
   "metadata": {},
   "outputs": [],
   "source": [
    "def text_pipeline(x):\n",
    "    return global_vectors.get_vecs_by_tokens(tokenizer(x), lower_case_backup=True)\n",
    "\n",
    "\n",
    "class PlagiarismDataset(Dataset):\n",
    "    def __init__(self, data: list[tuple[str, str, int]]):\n",
    "        targets, candidates, scores = [], [], []\n",
    "\n",
    "        for target, candidate, score in data:\n",
    "            targets.append(text_pipeline(target))\n",
    "            candidates.append(text_pipeline(candidate))\n",
    "            scores.append(score)\n",
    "\n",
    "        self.targets = targets\n",
    "        self.candidates = candidates\n",
    "        self.scores = np.array(scores).astype(np.float16)\n",
    "\n",
    "    def __len__(self):\n",
    "        return len(self.scores)\n",
    "\n",
    "    def __getitem__(self, idx):\n",
    "        # if torch.is_tensor(idx):\n",
    "        #     idx = idx.tolist()\n",
    "        return (\n",
    "            self.targets[idx].to(DEVICE),\n",
    "            self.candidates[idx].to(DEVICE),\n",
    "            torch.tensor([self.scores[idx]]).float().to(DEVICE),\n",
    "        )"
   ]
  },
  {
   "cell_type": "code",
   "execution_count": 15,
   "metadata": {},
   "outputs": [
    {
     "name": "stdout",
     "output_type": "stream",
     "text": [
      "4\n"
     ]
    }
   ],
   "source": [
    "dataset = PlagiarismDataset(data)\n",
    "print(len(dataset))\n",
    "# print(dataset[0])"
   ]
  },
  {
   "cell_type": "code",
   "execution_count": 16,
   "metadata": {},
   "outputs": [],
   "source": [
    "EMBED_DIM = global_vectors.dim\n",
    "LSTM_LAYERS = 2\n",
    "HIDDEN_SIZE = EMBED_DIM"
   ]
  },
  {
   "cell_type": "markdown",
   "metadata": {},
   "source": [
    "## Environment"
   ]
  },
  {
   "cell_type": "code",
   "execution_count": 54,
   "metadata": {},
   "outputs": [],
   "source": [
    "class Env:\n",
    "    def _get_state(self) -> torch.Tensor:\n",
    "        token = self.data[self.sentence_idx][self.token_idx]\n",
    "        return torch.cat(\n",
    "            [\n",
    "                self.hs[self.sentence_idx].flatten(),\n",
    "                self.cs[self.sentence_idx].flatten(),\n",
    "                token,\n",
    "            ]\n",
    "        ).to(DEVICE)\n",
    "\n",
    "    def _get_reward(self) -> float:\n",
    "        if not self.is_terminal():\n",
    "            return 0.0\n",
    "\n",
    "        cnet_out = self.cnet(self.hs.view(1, -1))\n",
    "\n",
    "        score_tensor = torch.FloatTensor([self.data[2]]).to(DEVICE)\n",
    "        loss = self.loss_fn(cnet_out.squeeze(-1), score_tensor)\n",
    "\n",
    "        return -np.log(loss.item() + 1e-8) + self.gamma * self.deleted / self.total_words\n",
    "\n",
    "    def __init__(\n",
    "        self,\n",
    "        dataset: Dataset,\n",
    "        lstm: nn.Module,\n",
    "        cnet: nn.Module,\n",
    "        loss_fn,\n",
    "        gamma: float = 0.05,\n",
    "    ) -> None:\n",
    "        self.lstm = lstm\n",
    "        self.cnet = cnet\n",
    "\n",
    "        self.loss_fn = loss_fn\n",
    "\n",
    "        self.gamma = gamma\n",
    "\n",
    "        self.dataset = dataset\n",
    "\n",
    "        self.reset()\n",
    "\n",
    "    def reset(self) -> torch.Tensor:\n",
    "        self.steps = 0\n",
    "\n",
    "        self.sentence_idx = 0\n",
    "        self.token_idx = 0\n",
    "\n",
    "        idx = np.random.randint(len(self.dataset))\n",
    "        self.data = self.dataset[idx]\n",
    "\n",
    "        self.total_words = len(self.data[0]) + len(self.data[1])\n",
    "        self.deleted = 0\n",
    "\n",
    "        self.hs = torch.zeros((2, LSTM_LAYERS, HIDDEN_SIZE)).to(DEVICE)\n",
    "        self.cs = torch.zeros((2, LSTM_LAYERS, HIDDEN_SIZE)).to(DEVICE)\n",
    "\n",
    "        return self.get_state()\n",
    "\n",
    "    def get_state(self) -> torch.Tensor:\n",
    "        return self._get_state()\n",
    "\n",
    "    def is_terminal(self) -> bool:\n",
    "        return self.sentence_idx == 1 and self.token_idx == (len(self.data[1]) - 1)\n",
    "\n",
    "    def interact(self, action: int) -> tuple[list[int], float, bool]:\n",
    "        # 0 - retain\n",
    "        # 1 - delete\n",
    "\n",
    "        # print(self.sentence_idx, self.token_idx)\n",
    "\n",
    "        if self.is_terminal():\n",
    "            return self._get_state(), 0, self.is_terminal()\n",
    "\n",
    "        if action == 1:\n",
    "            self.deleted += 1\n",
    "\n",
    "        elif action == 0:\n",
    "            token = self.data[self.sentence_idx][self.token_idx]\n",
    "            _, (h, c) = self.lstm(token.view(1, -1))\n",
    "            self.hs[self.sentence_idx] = h.clone().detach().requires_grad_(True)\n",
    "            self.cs[self.sentence_idx] = c.clone().detach().requires_grad_(True)\n",
    "\n",
    "        self.steps += 1\n",
    "        self.token_idx += 1\n",
    "        if self.sentence_idx == 0 and self.token_idx >= len(self.data[0]):\n",
    "            self.sentence_idx = 1\n",
    "            self.token_idx = 0\n",
    "\n",
    "        return self._get_state(), self._get_reward(), self.is_terminal()\n",
    "\n",
    "    def get_observation_shape(self) -> int:\n",
    "        return 2 * LSTM_LAYERS * HIDDEN_SIZE + EMBED_DIM\n",
    "\n",
    "    def get_actions_shape(self) -> int:\n",
    "        return 2"
   ]
  },
  {
   "cell_type": "code",
   "execution_count": 55,
   "metadata": {},
   "outputs": [],
   "source": [
    "# test_env = Env()\n",
    "# print(test_env.interact(2))\n",
    "# print(test_env.interact(1))\n",
    "# print(test_env.interact(0))\n",
    "# print(test_env.is_terminal())"
   ]
  },
  {
   "cell_type": "markdown",
   "metadata": {},
   "source": [
    "## Policy Gradient Network"
   ]
  },
  {
   "cell_type": "code",
   "execution_count": 56,
   "metadata": {},
   "outputs": [],
   "source": [
    "class A2CNet(nn.Module):\n",
    "    def __init__(self, input_dim: int, output_dim: int, hidden_dim: int = 16) -> None:\n",
    "        super(A2CNet, self).__init__()\n",
    "\n",
    "        self.body = nn.Sequential(\n",
    "            nn.Linear(input_dim, hidden_dim),\n",
    "            nn.ReLU(),\n",
    "        )\n",
    "\n",
    "        self.policy = nn.Sequential(\n",
    "            nn.Linear(hidden_dim, hidden_dim),\n",
    "            nn.ReLU(),\n",
    "            nn.Linear(hidden_dim, output_dim),\n",
    "        )\n",
    "\n",
    "        self.value = nn.Sequential(\n",
    "            nn.Linear(hidden_dim, 1),\n",
    "        )\n",
    "\n",
    "    def forward(self, x):\n",
    "        body_out = self.body(x)\n",
    "        return self.policy(body_out), self.value(body_out)"
   ]
  },
  {
   "cell_type": "markdown",
   "metadata": {},
   "source": [
    "## Agent"
   ]
  },
  {
   "cell_type": "code",
   "execution_count": 57,
   "metadata": {},
   "outputs": [
    {
     "name": "stdout",
     "output_type": "stream",
     "text": [
      "tensor([0.0900, 0.2447, 0.6652])\n"
     ]
    },
    {
     "data": {
      "text/plain": [
       "2"
      ]
     },
     "execution_count": 57,
     "metadata": {},
     "output_type": "execute_result"
    }
   ],
   "source": [
    "action_logits = torch.FloatTensor([1, 2, 3])\n",
    "print(F.softmax(action_logits, dim=0))\n",
    "random.choices(range(len(action_logits)), F.softmax(action_logits, dim=0))[0]"
   ]
  },
  {
   "cell_type": "code",
   "execution_count": 58,
   "metadata": {},
   "outputs": [],
   "source": [
    "class Agent:\n",
    "    def choose_action(self, action_logits):\n",
    "        return random.choices(range(len(action_logits)), F.softmax(action_logits, dim=0))[\n",
    "            0\n",
    "        ]"
   ]
  },
  {
   "cell_type": "markdown",
   "metadata": {},
   "source": [
    "## Trajectory Buffer"
   ]
  },
  {
   "cell_type": "code",
   "execution_count": 59,
   "metadata": {},
   "outputs": [],
   "source": [
    "class TrajectoryBuffer:\n",
    "    \"\"\"\n",
    "    Buffer class to store the experience from a unique policy\n",
    "    \"\"\"\n",
    "\n",
    "    def __init__(self):\n",
    "        self.states = []\n",
    "        self.actions = []\n",
    "        self.rewards = []\n",
    "        self.discounted_rewards = []\n",
    "        self.terminal_states = []\n",
    "\n",
    "    def store(self, states_trajectory: np.ndarray, trajectory: np.ndarray):\n",
    "        \"\"\"\n",
    "        Add trajectory values to the buffers and compute the advantage and reward to go\n",
    "\n",
    "        Parameters:\n",
    "        -----------\n",
    "        states_trajectory:  list that contains states\n",
    "        trajectory: list where each element is a list that contains: reward, action\n",
    "        \"\"\"\n",
    "        assert len(states_trajectory) == len(trajectory)\n",
    "\n",
    "        if len(states_trajectory) > 0:\n",
    "            self.states.extend(states_trajectory)\n",
    "            self.rewards.extend(trajectory[:, 0])\n",
    "            self.actions.extend(trajectory[:, 1])\n",
    "            discounted_rewards = calculate_qvals(trajectory[:, 0])\n",
    "\n",
    "            self.discounted_rewards.extend(discounted_rewards)\n",
    "\n",
    "    def get_batch(self):\n",
    "        return self.states, self.actions, self.discounted_rewards\n",
    "\n",
    "    def __len__(self):\n",
    "        assert len(self.states) == len(self.actions) == len(self.discounted_rewards)\n",
    "        return len(self.states)"
   ]
  },
  {
   "cell_type": "markdown",
   "metadata": {},
   "source": [
    "## Training"
   ]
  },
  {
   "cell_type": "code",
   "execution_count": 60,
   "metadata": {},
   "outputs": [],
   "source": [
    "class CNet(nn.Module):\n",
    "    def __init__(self, input_dim: int, output_dim: int, hidden_dim: int = 16) -> None:\n",
    "        super(CNet, self).__init__()\n",
    "\n",
    "        self.net = nn.Sequential(\n",
    "            nn.Linear(input_dim, output_dim),\n",
    "            nn.Sigmoid(),\n",
    "        )\n",
    "\n",
    "    def forward(self, x):\n",
    "        return self.net(x)\n",
    "\n",
    "\n",
    "lstm = nn.LSTM(EMBED_DIM, HIDDEN_SIZE, num_layers=LSTM_LAYERS, bidirectional=False).to(\n",
    "    DEVICE\n",
    ")\n",
    "cnet = CNet(2 * LSTM_LAYERS * HIDDEN_SIZE, 1).to(DEVICE)\n",
    "loss_fn = F.mse_loss"
   ]
  },
  {
   "cell_type": "code",
   "execution_count": 61,
   "metadata": {},
   "outputs": [],
   "source": [
    "LEARNING_RATE = 0.005\n",
    "\n",
    "np.random.seed(42)\n",
    "torch.manual_seed(42)\n",
    "\n",
    "env = Env(dataset, lstm, cnet, loss_fn)\n",
    "net = A2CNet(\n",
    "    input_dim=env.get_observation_shape(), output_dim=env.get_actions_shape()\n",
    ").to(DEVICE)\n",
    "agent = Agent()\n",
    "optimizer = optim.Adam(\n",
    "    net.parameters(),\n",
    "    lr=LEARNING_RATE,\n",
    "    # eps=1e-3\n",
    ")"
   ]
  },
  {
   "cell_type": "code",
   "execution_count": 76,
   "metadata": {},
   "outputs": [],
   "source": [
    "# EPOCHS = 4000\n",
    "EPOCHS = 5\n",
    "EPISODES_PER_EPOCH = 10\n",
    "\n",
    "ENTROPY_BETA = 0.01\n",
    "CLIP_GRAD = 0.1"
   ]
  },
  {
   "cell_type": "code",
   "execution_count": 77,
   "metadata": {},
   "outputs": [
    {
     "name": "stderr",
     "output_type": "stream",
     "text": [
      "Epoch: 100%|██████████| 5/5 [00:00<00:00,  5.64it/s, Mean reward=4.06, Mean ep len=5.8, Mean Loss=16, Mean Entropy=0.651]  \n"
     ]
    }
   ],
   "source": [
    "step_count = 0\n",
    "train_rewards = []\n",
    "train_ep_len = []\n",
    "\n",
    "mean_epoch_rewards = []\n",
    "mean_epoch_ep_len = []\n",
    "epoch_loss = []\n",
    "epoch_entropy = []\n",
    "\n",
    "probs = []\n",
    "\n",
    "loop = tqdm(range(EPOCHS), desc=\"Epoch\")\n",
    "\n",
    "for _ in loop:\n",
    "    state = env.reset()\n",
    "    buffer = TrajectoryBuffer()\n",
    "    env_states_buf, env_rew_act_buf = [], []\n",
    "    ep_rewards = []\n",
    "\n",
    "    train_logs_shift = len(train_rewards)  # for logging\n",
    "\n",
    "    done_episodes = 0\n",
    "    # while len(buffer) < STEPS_PER_EPOCH:\n",
    "    while done_episodes < EPISODES_PER_EPOCH:\n",
    "        with torch.no_grad():\n",
    "            action_logits = net(state)[0]\n",
    "\n",
    "        action = agent.choose_action(action_logits)\n",
    "        state2, reward, done = env.interact(action)\n",
    "\n",
    "        env_states_buf.append(state.clone().detach().numpy())\n",
    "        env_rew_act_buf.append([reward, int(action)])\n",
    "\n",
    "        state = state2.clone().detach()\n",
    "\n",
    "        step_count += 1\n",
    "        ep_rewards.append(reward)\n",
    "\n",
    "        if done:\n",
    "            buffer.store(np.array(env_states_buf), np.array(env_rew_act_buf))\n",
    "            env_states_buf, env_rew_act_buf = [], []\n",
    "\n",
    "            train_rewards.append(np.sum(ep_rewards))\n",
    "            train_ep_len.append(len(ep_rewards))\n",
    "\n",
    "            state = env.reset()\n",
    "            ep_rewards = []\n",
    "\n",
    "            done_episodes += 1\n",
    "\n",
    "    state_batch, action_batch, reward_batch = buffer.get_batch()\n",
    "\n",
    "    optimizer.zero_grad()\n",
    "    states_t = torch.FloatTensor(np.array(state_batch)).to(DEVICE)\n",
    "    batch_actions_t = torch.LongTensor(action_batch).to(DEVICE)\n",
    "    batch_cum_rewards_t = torch.FloatTensor(reward_batch).to(DEVICE)\n",
    "\n",
    "    logits_v, value_v = net(states_t)\n",
    "\n",
    "    # Value loss\n",
    "    loss_value_v = F.mse_loss(value_v.squeeze(-1), batch_cum_rewards_t)\n",
    "\n",
    "    # Policy loss\n",
    "    log_prob_v = F.log_softmax(logits_v, dim=1)\n",
    "    adv_v = batch_cum_rewards_t - value_v.detach()\n",
    "    log_prob_actions_v = adv_v * log_prob_v[range(len(states_t)), batch_actions_t]\n",
    "    loss_policy_v = -log_prob_actions_v.mean()\n",
    "\n",
    "    # Entropy loss\n",
    "    prob_v = F.softmax(logits_v, dim=1)\n",
    "    entropy_v = (prob_v * log_prob_v).sum(dim=1).mean()\n",
    "    entropy_loss_v = ENTROPY_BETA * entropy_v\n",
    "\n",
    "    # Policy backward\n",
    "    loss_policy_v.backward(retain_graph=True)\n",
    "    # for logging stuff TBD\n",
    "\n",
    "    # Value backward\n",
    "    loss_v = entropy_loss_v + loss_value_v\n",
    "    loss_v.backward()\n",
    "\n",
    "    nn.utils.clip_grad_norm_(net.parameters(), CLIP_GRAD)\n",
    "    optimizer.step()\n",
    "    loss_v += loss_policy_v\n",
    "\n",
    "    # logging\n",
    "    probs.append(prob_v.detach().cpu().numpy())\n",
    "    mean_epoch_rewards.append(np.mean(train_rewards[train_logs_shift:]))\n",
    "    mean_epoch_ep_len.append(np.mean(train_ep_len[train_logs_shift:]))\n",
    "    # epoch_loss.append(loss_v.item())\n",
    "    epoch_loss.append(loss_v.item())\n",
    "    epoch_entropy.append(-entropy_v.item())\n",
    "\n",
    "    loop.set_postfix(\n",
    "        {\n",
    "            \"Mean reward\": mean_epoch_rewards[-1],\n",
    "            \"Mean ep len\": mean_epoch_ep_len[-1],\n",
    "            \"Mean Loss\": epoch_loss[-1],\n",
    "            \"Mean Entropy\": epoch_entropy[-1],\n",
    "        }\n",
    "    )\n",
    "    # if epoch_loss[-1] < 0:\n",
    "    #     print(loss_v.item())\n",
    "    #     break"
   ]
  },
  {
   "cell_type": "code",
   "execution_count": 78,
   "metadata": {},
   "outputs": [
    {
     "data": {
      "text/plain": [
       "8.07916712674769"
      ]
     },
     "execution_count": 78,
     "metadata": {},
     "output_type": "execute_result"
    }
   ],
   "source": [
    "np.max(mean_epoch_rewards)"
   ]
  },
  {
   "cell_type": "code",
   "execution_count": 79,
   "metadata": {},
   "outputs": [
    {
     "data": {
      "text/plain": [
       "0.6931471805599453"
      ]
     },
     "execution_count": 79,
     "metadata": {},
     "output_type": "execute_result"
    }
   ],
   "source": [
    "def get_uniform_entropy(n_actions: int):\n",
    "    probs = np.array([1 / n_actions for _ in range(n_actions)])\n",
    "    return -np.sum(probs * np.log(probs))\n",
    "\n",
    "\n",
    "uniform_entropy = get_uniform_entropy(env.get_actions_shape())\n",
    "uniform_entropy"
   ]
  },
  {
   "cell_type": "code",
   "execution_count": 83,
   "metadata": {},
   "outputs": [
    {
     "data": {
      "text/plain": [
       "array([1. , 2.5, 3.5, 4. ])"
      ]
     },
     "execution_count": 83,
     "metadata": {},
     "output_type": "execute_result"
    }
   ],
   "source": [
    "def moving_average(x, w=min(50, EPOCHS)):\n",
    "    # return np.convolve(x, np.ones(w), 'same') / w\n",
    "    return scipy.signal.savgol_filter(x, w, min(3, w - 1))\n",
    "\n",
    "\n",
    "moving_average([1, 2, 3, 4], 2)"
   ]
  },
  {
   "cell_type": "code",
   "execution_count": 84,
   "metadata": {},
   "outputs": [
    {
     "data": {
      "text/plain": [
       "[]"
      ]
     },
     "execution_count": 84,
     "metadata": {},
     "output_type": "execute_result"
    },
    {
     "data": {
      "image/png": "[encoded data removed]",
      "text/plain": [
       "<Figure size 800x1200 with 4 Axes>"
      ]
     },
     "metadata": {},
     "output_type": "display_data"
    }
   ],
   "source": [
    "fig, axs = plt.subplots(4, 1, figsize=(8, 12))\n",
    "\n",
    "# Mean Reward per epoch\n",
    "\n",
    "axs[0].plot(range(EPOCHS), moving_average(mean_epoch_rewards))\n",
    "# axs[0].plot(range(EPOCHS), [98] * EPOCHS)  # optimal value\n",
    "# axs[0].plot(range(EPOCHS), [85] * EPOCHS)  # suboptimal value\n",
    "axs[0].set_xlabel(\"# epoch\")\n",
    "axs[0].set_ylabel(\"mean reward\")\n",
    "\n",
    "# Mean Episode length per epoch\n",
    "axs[1].plot(range(EPOCHS), moving_average(mean_epoch_ep_len))\n",
    "axs[1].set_xlabel(\"# episode\")\n",
    "axs[1].set_ylabel(\"mean episode length\")\n",
    "\n",
    "\n",
    "# Epoch loss\n",
    "axs[2].plot(range(EPOCHS), moving_average(epoch_loss))\n",
    "axs[2].set_xlabel(\"# epoch\")\n",
    "axs[2].set_ylabel(\"loss\")\n",
    "\n",
    "# Epoch entropy\n",
    "axs[3].plot(range(EPOCHS), moving_average(epoch_entropy))\n",
    "axs[3].plot(range(EPOCHS), [uniform_entropy] * EPOCHS)\n",
    "axs[3].set_xlabel(\"# episode\")\n",
    "axs[3].set_ylabel(\"entropy\")\n",
    "\n",
    "plt.tight_layout()\n",
    "plt.plot()"
   ]
  }
 ],
 "metadata": {
  "kernelspec": {
   "display_name": "rl",
   "language": "python",
   "name": "python3"
  },
  "language_info": {
   "codemirror_mode": {
    "name": "ipython",
    "version": 3
   },
   "file_extension": ".py",
   "mimetype": "text/x-python",
   "name": "python",
   "nbconvert_exporter": "python",
   "pygments_lexer": "ipython3",
   "version": "3.11.0"
  }
 },
 "nbformat": 4,
 "nbformat_minor": 2
}
