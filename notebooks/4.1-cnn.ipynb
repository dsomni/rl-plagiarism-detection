{
 "cells": [
  {
   "cell_type": "markdown",
   "id": "37786a80",
   "metadata": {
    "papermill": {
     "duration": 0.005845,
     "end_time": "2024-04-20T14:10:53.061131",
     "exception": false,
     "start_time": "2024-04-20T14:10:53.055286",
     "status": "completed"
    },
    "tags": []
   },
   "source": [
    "# CNN for text plagiarism detection"
   ]
  },
  {
   "cell_type": "code",
   "execution_count": 1,
   "id": "4350d21d",
   "metadata": {
    "execution": {
     "iopub.execute_input": "2024-04-20T14:10:53.074099Z",
     "iopub.status.busy": "2024-04-20T14:10:53.074099Z",
     "iopub.status.idle": "2024-04-20T14:10:56.343727Z",
     "shell.execute_reply": "2024-04-20T14:10:56.343727Z"
    },
    "papermill": {
     "duration": 3.279099,
     "end_time": "2024-04-20T14:10:56.346254",
     "exception": false,
     "start_time": "2024-04-20T14:10:53.067155",
     "status": "completed"
    },
    "tags": []
   },
   "outputs": [],
   "source": [
    "import contextlib\n",
    "import json\n",
    "import math\n",
    "import os\n",
    "import shutil\n",
    "import time\n",
    "from typing import Literal\n",
    "\n",
    "import matplotlib.pyplot as plt\n",
    "import numpy as np\n",
    "import pandas as pd\n",
    "import scipy\n",
    "import torch\n",
    "import torch.nn as nn\n",
    "import torch.nn.functional as F\n",
    "import torch.optim as optim\n",
    "from cycler import cycler\n",
    "from torch.utils.data import DataLoader, Dataset\n",
    "from torchtext.data import get_tokenizer\n",
    "from torchtext.vocab import GloVe\n",
    "from tqdm import tqdm"
   ]
  },
  {
   "cell_type": "code",
   "execution_count": 2,
   "id": "eda39529",
   "metadata": {
    "execution": {
     "iopub.execute_input": "2024-04-20T14:10:56.360266Z",
     "iopub.status.busy": "2024-04-20T14:10:56.359272Z",
     "iopub.status.idle": "2024-04-20T14:10:56.383343Z",
     "shell.execute_reply": "2024-04-20T14:10:56.383343Z"
    },
    "papermill": {
     "duration": 0.034121,
     "end_time": "2024-04-20T14:10:56.385385",
     "exception": false,
     "start_time": "2024-04-20T14:10:56.351264",
     "status": "completed"
    },
    "tags": []
   },
   "outputs": [
    {
     "data": {
      "text/plain": [
       "device(type='cuda')"
      ]
     },
     "execution_count": 2,
     "metadata": {},
     "output_type": "execute_result"
    }
   ],
   "source": [
    "DEVICE = torch.device(\"cuda\") if torch.cuda.is_available() else torch.device(\"cpu\")\n",
    "# DEVICE = torch.device(\"cpu\")\n",
    "DEVICE"
   ]
  },
  {
   "cell_type": "code",
   "execution_count": 3,
   "id": "bab96832",
   "metadata": {
    "execution": {
     "iopub.execute_input": "2024-04-20T14:10:56.398386Z",
     "iopub.status.busy": "2024-04-20T14:10:56.398386Z",
     "iopub.status.idle": "2024-04-20T14:10:56.402830Z",
     "shell.execute_reply": "2024-04-20T14:10:56.402045Z"
    },
    "papermill": {
     "duration": 0.012521,
     "end_time": "2024-04-20T14:10:56.403877",
     "exception": false,
     "start_time": "2024-04-20T14:10:56.391356",
     "status": "completed"
    },
    "tags": []
   },
   "outputs": [],
   "source": [
    "LOG_PATH_PREFIX = \"../logs/cnn/\""
   ]
  },
  {
   "cell_type": "markdown",
   "id": "cdae894d",
   "metadata": {
    "papermill": {
     "duration": 0.005964,
     "end_time": "2024-04-20T14:10:56.415843",
     "exception": false,
     "start_time": "2024-04-20T14:10:56.409879",
     "status": "completed"
    },
    "tags": []
   },
   "source": [
    "## Hyper parameters"
   ]
  },
  {
   "cell_type": "code",
   "execution_count": 4,
   "id": "1f271a4d",
   "metadata": {
    "execution": {
     "iopub.execute_input": "2024-04-20T14:10:56.428840Z",
     "iopub.status.busy": "2024-04-20T14:10:56.427843Z",
     "iopub.status.idle": "2024-04-20T14:10:56.432614Z",
     "shell.execute_reply": "2024-04-20T14:10:56.432614Z"
    },
    "papermill": {
     "duration": 0.01378,
     "end_time": "2024-04-20T14:10:56.434655",
     "exception": false,
     "start_time": "2024-04-20T14:10:56.420875",
     "status": "completed"
    },
    "tags": [
     "parameters"
    ]
   },
   "outputs": [],
   "source": [
    "GLOVE_DIM = 300\n",
    "TRAIN_SIZE = \"md\"\n",
    "TEST_SIZE = \"sm\"\n",
    "\n",
    "EMBED_DIM = GLOVE_DIM\n",
    "CNN_DIM = 1  # 1 or 2\n",
    "OUT_CHANNELS = 3\n",
    "KERNEL_SIZE = 4\n",
    "MAX_POOL_KERNEL = 2\n",
    "MAX_POOL_STRIDE = 2\n",
    "DROPOUT = 0.5\n",
    "\n",
    "LR = 0.005\n",
    "\n",
    "CLIP_GRAD = 0.0\n",
    "\n",
    "BATCH_SIZE = 10\n",
    "\n",
    "FEATURES = \"\"\n",
    "COMMENTS = \"\"\n",
    "\n",
    "\n",
    "EXPERIMENT_NAME = \"test\"\n",
    "\n",
    "EPOCHS = 10\n",
    "EVAL_PERIOD = 1\n",
    "LOG_PERIOD = EVAL_PERIOD"
   ]
  },
  {
   "cell_type": "code",
   "execution_count": 5,
   "id": "d3b5644d",
   "metadata": {
    "execution": {
     "iopub.execute_input": "2024-04-20T14:10:56.448621Z",
     "iopub.status.busy": "2024-04-20T14:10:56.448621Z",
     "iopub.status.idle": "2024-04-20T14:10:56.451716Z",
     "shell.execute_reply": "2024-04-20T14:10:56.451716Z"
    },
    "papermill": {
     "duration": 0.013102,
     "end_time": "2024-04-20T14:10:56.453728",
     "exception": false,
     "start_time": "2024-04-20T14:10:56.440626",
     "status": "completed"
    },
    "tags": [
     "injected-parameters"
    ]
   },
   "outputs": [],
   "source": [
    "# Parameters\n",
    "EXPERIMENT_NAME = \"test2\"\n",
    "EPOCHS = 10\n",
    "EVAL_PERIOD = 1\n",
    "CNN_DIM = 2"
   ]
  },
  {
   "cell_type": "code",
   "execution_count": 6,
   "id": "f0529339",
   "metadata": {
    "execution": {
     "iopub.execute_input": "2024-04-20T14:10:56.488729Z",
     "iopub.status.busy": "2024-04-20T14:10:56.487731Z",
     "iopub.status.idle": "2024-04-20T14:10:56.495065Z",
     "shell.execute_reply": "2024-04-20T14:10:56.495065Z"
    },
    "papermill": {
     "duration": 0.026346,
     "end_time": "2024-04-20T14:10:56.497074",
     "exception": false,
     "start_time": "2024-04-20T14:10:56.470728",
     "status": "completed"
    },
    "tags": []
   },
   "outputs": [],
   "source": [
    "if CNN_DIM != 1 and CNN_DIM != 2:\n",
    "    CNN_DIM = 1\n",
    "\n",
    "LOG_PATH_PREFIX = f\"{LOG_PATH_PREFIX[:-1]}_{CNN_DIM}d/\""
   ]
  },
  {
   "cell_type": "code",
   "execution_count": 7,
   "id": "a66bc5ea",
   "metadata": {
    "execution": {
     "iopub.execute_input": "2024-04-20T14:10:56.513077Z",
     "iopub.status.busy": "2024-04-20T14:10:56.512079Z",
     "iopub.status.idle": "2024-04-20T14:10:56.519743Z",
     "shell.execute_reply": "2024-04-20T14:10:56.519743Z"
    },
    "papermill": {
     "duration": 0.01868,
     "end_time": "2024-04-20T14:10:56.521757",
     "exception": false,
     "start_time": "2024-04-20T14:10:56.503077",
     "status": "completed"
    },
    "tags": []
   },
   "outputs": [],
   "source": [
    "def pack_hyperparameters() -> dict:\n",
    "    return {\n",
    "        \"GLOVE_DIM\": GLOVE_DIM,\n",
    "        \"TRAIN_SIZE\": TRAIN_SIZE,\n",
    "        \"TEST_SIZE\": TEST_SIZE,\n",
    "        \"EMBED_DIM\": EMBED_DIM,\n",
    "        \"CNN_DIM\": CNN_DIM,\n",
    "        \"OUT_CHANNELS\": OUT_CHANNELS,\n",
    "        \"KERNEL_SIZE\": KERNEL_SIZE,\n",
    "        \"MAX_POOL_KERNEL\": MAX_POOL_KERNEL,\n",
    "        \"MAX_POOL_STRIDE\": MAX_POOL_STRIDE,\n",
    "        \"DROPOUT\": DROPOUT,\n",
    "        \"LR\": LR,\n",
    "        \"CLIP_GRAD\": CLIP_GRAD,\n",
    "        \"BATCH_SIZE\": BATCH_SIZE,\n",
    "        \"FEATURES\": FEATURES,\n",
    "        \"COMMENTS\": COMMENTS,\n",
    "    }\n",
    "\n",
    "\n",
    "def load_from_experiments(experiment: str) -> None:\n",
    "    global \\\n",
    "        GLOVE_DIM, \\\n",
    "        TRAIN_SIZE, \\\n",
    "        TEST_SIZE, \\\n",
    "        EMBED_DIM, \\\n",
    "        CNN_DIM, \\\n",
    "        OUT_CHANNELS, \\\n",
    "        KERNEL_SIZE, \\\n",
    "        MAX_POOL_KERNEL, \\\n",
    "        MAX_POOL_STRIDE, \\\n",
    "        DROPOUT, \\\n",
    "        LR, \\\n",
    "        CLIP_GRAD, \\\n",
    "        BATCH_SIZE, \\\n",
    "        FEATURES, \\\n",
    "        COMMENTS\n",
    "    with open(os.path.join(\".\", LOG_PATH_PREFIX, experiment, \"configs.json\"), \"r\") as f:\n",
    "        hyper_dict = json.load(f)\n",
    "    GLOVE_DIM = hyper_dict[\"GLOVE_DIM\"]\n",
    "    TRAIN_SIZE = hyper_dict[\"TRAIN_SIZE\"]\n",
    "    TEST_SIZE = hyper_dict[\"TEST_SIZE\"]\n",
    "    EMBED_DIM = hyper_dict[\"EMBED_DIM\"]\n",
    "    CNN_DIM = hyper_dict[\"CNN_DIM\"]\n",
    "    OUT_CHANNELS = hyper_dict[\"OUT_CHANNELS\"]\n",
    "    KERNEL_SIZE = hyper_dict[\"KERNEL_SIZE\"]\n",
    "    MAX_POOL_KERNEL = hyper_dict[\"MAX_POOL_KERNEL\"]\n",
    "    MAX_POOL_STRIDE = hyper_dict[\"MAX_POOL_STRIDE\"]\n",
    "    DROPOUT = hyper_dict[\"DROPOUT\"]\n",
    "    LR = hyper_dict[\"LR\"]\n",
    "    CLIP_GRAD = hyper_dict[\"CLIP_GRAD\"]\n",
    "    BATCH_SIZE = hyper_dict[\"BATCH_SIZE\"]\n",
    "    FEATURES = hyper_dict[\"FEATURES\"]\n",
    "    COMMENTS = hyper_dict[\"COMMENTS\"]\n",
    "    print(hyper_dict)"
   ]
  },
  {
   "cell_type": "markdown",
   "id": "b2e91e91",
   "metadata": {
    "papermill": {
     "duration": 0.005016,
     "end_time": "2024-04-20T14:10:56.533787",
     "exception": false,
     "start_time": "2024-04-20T14:10:56.528771",
     "status": "completed"
    },
    "tags": []
   },
   "source": [
    "## Utilities"
   ]
  },
  {
   "cell_type": "code",
   "execution_count": 8,
   "id": "f9c1e052",
   "metadata": {
    "execution": {
     "iopub.execute_input": "2024-04-20T14:10:56.546749Z",
     "iopub.status.busy": "2024-04-20T14:10:56.546749Z",
     "iopub.status.idle": "2024-04-20T14:10:56.560792Z",
     "shell.execute_reply": "2024-04-20T14:10:56.560792Z"
    },
    "papermill": {
     "duration": 0.023055,
     "end_time": "2024-04-20T14:10:56.562808",
     "exception": false,
     "start_time": "2024-04-20T14:10:56.539753",
     "status": "completed"
    },
    "tags": []
   },
   "outputs": [],
   "source": [
    "PREDEFINED_COLORS = [\n",
    "    \"#ffa500\",\n",
    "    \"#c83cbc\",\n",
    "    \"#1c1c84\",\n",
    "    \"#ff0000\",\n",
    "    \"#08a4a7\",\n",
    "    \"#008000\",\n",
    "]\n",
    "\n",
    "\n",
    "def get_plots(\n",
    "    data_dict: dict,\n",
    "    plots: list[tuple[dict, dict]],\n",
    "    title: str = \"\",\n",
    "    ylim=None,\n",
    "    row_plots: int = 1,\n",
    "    plot_width: float = 8,\n",
    "    plot_height: float = 4,\n",
    "    use_rainbow: bool = False,\n",
    "    use_common_legend: bool = False,\n",
    "    adjust: bool = False,\n",
    "):\n",
    "    num_plots = len(plots)\n",
    "    num_entities = max([len(x[1]) for x in plots]) + 1\n",
    "    if use_rainbow:\n",
    "        num_colors = num_entities\n",
    "        cm = plt.get_cmap(\"gist_rainbow\")\n",
    "        colors = [cm(1.0 * i / num_colors) for i in range(num_colors)]\n",
    "    else:\n",
    "        colors = PREDEFINED_COLORS\n",
    "\n",
    "    style_cycler = cycler(linestyle=[\"-\", \"--\", \":\", \"-.\"]) * cycler(color=colors)\n",
    "    column_plots = math.ceil(num_plots / row_plots)\n",
    "\n",
    "    fig, axs = plt.subplots(\n",
    "        column_plots,\n",
    "        row_plots,\n",
    "        figsize=(plot_width * row_plots, plot_height * column_plots),\n",
    "    )\n",
    "\n",
    "    if len(title) > 0:\n",
    "        fig.suptitle(title, fontsize=14, y=1)\n",
    "    axs_list = [axs] if column_plots * row_plots == 1 else list(axs.flat)\n",
    "\n",
    "    for ax in axs_list:\n",
    "        ax.grid()\n",
    "        ax.set_prop_cycle(style_cycler)\n",
    "        if ylim is not None:\n",
    "            ax.set_ylim(top=ylim)\n",
    "        ax.set_visible(False)\n",
    "\n",
    "    for ax, (p1, p2) in zip(axs_list, plots):\n",
    "        ax.set_visible(True)\n",
    "\n",
    "        ax.set_title(f\"{p2['axis_name']} over {p1['axis_name']}\")\n",
    "        ax.set(xlabel=p1[\"axis_label\"], ylabel=p2[\"axis_label\"])\n",
    "\n",
    "        if p1.get(\"log\", False):\n",
    "            ax.set_xscale(\"log\")\n",
    "        if p2.get(\"log\", False):\n",
    "            ax.set_yscale(\"log\")\n",
    "\n",
    "        x_values = data_dict[p1.get(\"ref\", None) or p1[\"axis_name\"]]\n",
    "\n",
    "        p2vs = p2.get(\"values\", [])\n",
    "        if len(p2vs) == 0:\n",
    "            y_values = data_dict[p2.get(\"ref\", None) or p2[\"axis_name\"]]\n",
    "            ax.plot(x_values, y_values, label=p2[\"axis_name\"])\n",
    "            ax.scatter(x_values[-1], y_values[-1], s=15)\n",
    "            continue\n",
    "\n",
    "        for p2v in p2vs:\n",
    "            y_values = data_dict[p2v.get(\"ref\", None) or p2v[\"name\"]]\n",
    "\n",
    "            try:\n",
    "                iter(y_values)\n",
    "                ax.plot(x_values, y_values, label=p2v[\"name\"])\n",
    "                ax.scatter(x_values[-1], y_values[-1], s=15)\n",
    "            except TypeError:\n",
    "                ax.plot(x_values, [y_values] * len(x_values), label=p2v[\"name\"])\n",
    "\n",
    "    if use_common_legend:\n",
    "        lines_labels = [axs_list[0].get_legend_handles_labels()]\n",
    "        lines, labels = [sum(x, []) for x in zip(*lines_labels)]\n",
    "        fig.legend(\n",
    "            lines,\n",
    "            labels,\n",
    "            scatterpoints=1,\n",
    "            markerscale=3,\n",
    "            loc=\"outside lower center\",\n",
    "            ncol=min(6, num_entities),\n",
    "            bbox_to_anchor=(0.5, -0.05),\n",
    "        )\n",
    "    else:\n",
    "        if num_entities > 1:\n",
    "            for ax, _ in zip(axs_list, plots):\n",
    "                ax.legend()\n",
    "\n",
    "    plt.tight_layout()\n",
    "    if adjust:\n",
    "        plt.subplots_adjust(\n",
    "            top=1 - 0.1 / (num_plots**0.5), bottom=0.12 / (num_plots**2), hspace=0.15\n",
    "        )\n",
    "\n",
    "    return fig\n",
    "\n",
    "\n",
    "def draw_plots(\n",
    "    data_dict: dict,\n",
    "    plots: list[tuple[dict, dict]],\n",
    "    title: str = \"\",\n",
    "    ylim=None,\n",
    "    row_plots: int = 1,\n",
    "    plot_width: float = 8,\n",
    "    plot_height: float = 4,\n",
    "    use_rainbow: bool = False,\n",
    "    use_common_legend: bool = False,\n",
    "    adjust: bool = False,\n",
    "):\n",
    "    get_plots(\n",
    "        data_dict,\n",
    "        plots,\n",
    "        title,\n",
    "        ylim,\n",
    "        row_plots,\n",
    "        plot_width,\n",
    "        plot_height,\n",
    "        use_rainbow,\n",
    "        use_common_legend,\n",
    "        adjust,\n",
    "    )\n",
    "    plt.show()"
   ]
  },
  {
   "cell_type": "markdown",
   "id": "6158030b",
   "metadata": {
    "papermill": {
     "duration": 0.007028,
     "end_time": "2024-04-20T14:10:56.574836",
     "exception": false,
     "start_time": "2024-04-20T14:10:56.567808",
     "status": "completed"
    },
    "tags": []
   },
   "source": [
    "## Logger"
   ]
  },
  {
   "cell_type": "code",
   "execution_count": 9,
   "id": "e7965485",
   "metadata": {
    "execution": {
     "iopub.execute_input": "2024-04-20T14:10:56.590786Z",
     "iopub.status.busy": "2024-04-20T14:10:56.589776Z",
     "iopub.status.idle": "2024-04-20T14:10:56.614463Z",
     "shell.execute_reply": "2024-04-20T14:10:56.613642Z"
    },
    "papermill": {
     "duration": 0.033735,
     "end_time": "2024-04-20T14:10:56.615509",
     "exception": false,
     "start_time": "2024-04-20T14:10:56.581774",
     "status": "completed"
    },
    "tags": []
   },
   "outputs": [],
   "source": [
    "LoggerEntity = Literal[\"data\"] | Literal[\"model\"] | Literal[\"best\"] | Literal[\"plots\"]\n",
    "\n",
    "\n",
    "class Logger:\n",
    "    _plot_epoch_axis = {\"axis_name\": \"Epoch\", \"axis_label\": \"Epoch\"}\n",
    "    _plot_time_axis = {\"axis_name\": \"Time\", \"axis_label\": \"Running time, seconds\"}\n",
    "    log_plots = [\n",
    "        (\n",
    "            _plot_epoch_axis,\n",
    "            {\"axis_name\": \"Mean Loss\", \"axis_label\": \"Loss\"},\n",
    "        ),\n",
    "        (\n",
    "            _plot_time_axis,\n",
    "            {\"axis_name\": \"Mean Loss\", \"axis_label\": \"Loss\"},\n",
    "        ),\n",
    "        (\n",
    "            {**_plot_epoch_axis, \"ref\": \"Eval Epoch\"},\n",
    "            {\"axis_name\": \"Mean Test Loss\", \"axis_label\": \"Loss\"},\n",
    "        ),\n",
    "        (\n",
    "            {**_plot_time_axis, \"ref\": \"Eval Time\"},\n",
    "            {\"axis_name\": \"Mean Test Loss\", \"axis_label\": \"Loss\"},\n",
    "        ),\n",
    "    ]\n",
    "\n",
    "    def _soft_mkdir(self, path: str) -> None:\n",
    "        with contextlib.suppress(Exception):\n",
    "            os.makedirs(path)\n",
    "\n",
    "    def _soft_rmdir(self, path: str) -> None:\n",
    "        with contextlib.suppress(Exception):\n",
    "            shutil.rmtree(path)\n",
    "\n",
    "    def _get_max_index(self, path: str) -> int:\n",
    "        max_index = 0\n",
    "        for file in os.listdir(path):\n",
    "            with contextlib.suppress(ValueError):\n",
    "                max_index = max(max_index, int(os.path.splitext(file)[0]))\n",
    "        return max_index\n",
    "\n",
    "    def _remove_old(self):\n",
    "        if self.keep_last == -1:\n",
    "            return\n",
    "        if self.idx % self.keep_last != 0:\n",
    "            return\n",
    "        retain = [str(x) for x in range(self.idx, self.idx - self.keep_last, -1)] + [\n",
    "            \"0\",\n",
    "            \"best\",\n",
    "            \"configs.json\",\n",
    "        ]\n",
    "\n",
    "        abs_prefix = os.path.abspath(self.path)\n",
    "        for item in os.listdir(self.path):\n",
    "            if item not in retain:\n",
    "                self._soft_rmdir(os.path.join(abs_prefix, item))\n",
    "\n",
    "    def _save_json(self, path: str, data: dict) -> None:\n",
    "        with open(path, \"w\") as f:\n",
    "            json.dump(data, f)\n",
    "\n",
    "    def _load_json(self, path: str) -> dict:\n",
    "        with open(path, \"r\") as f:\n",
    "            return json.load(f)\n",
    "\n",
    "    def _save_configs(self) -> None:\n",
    "        self._save_json(os.path.join(self.path, \"configs.json\"), self.configs)\n",
    "\n",
    "    def _load_configs(self) -> dict:\n",
    "        return self._load_json(os.path.join(self.path, \"configs.json\"))\n",
    "\n",
    "    def _build_dirs(self) -> None:\n",
    "        self.dirs = {\n",
    "            \"models\": os.path.join(self.path, str(self.idx), \"models\"),\n",
    "            \"data\": os.path.join(self.path, str(self.idx), \"data\"),\n",
    "            \"plots\": os.path.join(self.path, str(self.idx), \"plots\"),\n",
    "            \"best\": os.path.join(self.path, \"best\"),\n",
    "        }\n",
    "\n",
    "        for dir_path in self.dirs.values():\n",
    "            self._soft_mkdir(dir_path)\n",
    "\n",
    "    def __init__(\n",
    "        self,\n",
    "        path: str,\n",
    "        configs: dict,\n",
    "        path_prefix: str = LOG_PATH_PREFIX,\n",
    "        keep_last: int = 2,\n",
    "        force: bool = False,\n",
    "    ) -> None:\n",
    "        self.keep_last = keep_last\n",
    "        self.configs = configs\n",
    "        self.path = os.path.join(\".\", path_prefix, path)\n",
    "\n",
    "        if force:\n",
    "            self._soft_rmdir(os.path.abspath(self.path))\n",
    "\n",
    "        if os.path.exists(self.path):\n",
    "            self.new = False\n",
    "            self.load_state()\n",
    "        else:\n",
    "            self.new = True\n",
    "            self.init_state()\n",
    "\n",
    "    def init_state(self) -> None:\n",
    "        self.idx = 0\n",
    "        self._build_dirs()\n",
    "        self._save_configs()\n",
    "        self.save_best_dict({})\n",
    "\n",
    "    def load_state(self) -> None:\n",
    "        # Check compatibility\n",
    "        existed_configs = self._load_configs()\n",
    "        new_comments = self.configs.get(\"COMMENTS\")\n",
    "        del existed_configs[\"COMMENTS\"]\n",
    "        del self.configs[\"COMMENTS\"]\n",
    "        if existed_configs != self.configs:\n",
    "            raise Exception(\"Configs are not the same!\")\n",
    "        self.configs[\"COMMENTS\"] = new_comments\n",
    "\n",
    "        self.idx = self._get_max_index(self.path)\n",
    "        self._build_dirs()\n",
    "\n",
    "    def update_idx(self, inc_value: int):\n",
    "        self.new = False\n",
    "        self.idx += inc_value\n",
    "        self._build_dirs()\n",
    "        self._remove_old()\n",
    "\n",
    "    def load(self, name: str, entity: str, *data):\n",
    "        if entity == \"model\":\n",
    "            checkpoint = torch.load(os.path.join(self.dirs[\"models\"], name))\n",
    "            model, optimizer = data\n",
    "            model.load_state_dict(checkpoint[\"model_state_dict\"])\n",
    "            optimizer.load_state_dict(checkpoint[\"optimizer_state_dict\"])\n",
    "            return None\n",
    "\n",
    "        if entity == \"data\":\n",
    "            return self._load_json(os.path.join(self.dirs[\"data\"], f\"{name}.json\"))\n",
    "\n",
    "        return None\n",
    "\n",
    "    def save(self, name: str, entity: LoggerEntity, data, save_subplots: bool = False):\n",
    "        if entity == \"model\":\n",
    "            model, optimizer = data\n",
    "            torch.save(\n",
    "                {\n",
    "                    \"model_state_dict\": model.state_dict(),\n",
    "                    \"optimizer_state_dict\": optimizer.state_dict(),\n",
    "                },\n",
    "                os.path.join(self.dirs[\"models\"], name),\n",
    "            )\n",
    "            return\n",
    "        if entity == \"data\":\n",
    "            self._save_json(os.path.join(self.dirs[\"data\"], f\"{name}.json\"), data)\n",
    "            return\n",
    "\n",
    "        if entity == \"plots\":\n",
    "            plots_data = data\n",
    "            if save_subplots:\n",
    "                for single_plot in [[sp] for sp in self.log_plots]:\n",
    "                    fig = get_plots(plots_data, single_plot, row_plots=1)\n",
    "                    plot_name = f\"{single_plot[0][1]['axis_name']} over {single_plot[0][0]['axis_name']}\".replace(\n",
    "                        \" \", \"_\"\n",
    "                    ).lower()\n",
    "                    fig.savefig(\n",
    "                        os.path.join(self.dirs[\"plots\"], f\"{name}{plot_name}.png\")\n",
    "                    )\n",
    "                    plt.close()\n",
    "                    plt.clf()\n",
    "\n",
    "            fig = get_plots(plots_data, self.log_plots, row_plots=2)\n",
    "            fig.savefig(os.path.join(self.dirs[\"plots\"], f\"{name}all.png\"))\n",
    "            plt.close()\n",
    "            plt.clf()\n",
    "            return\n",
    "        if entity == \"best\":\n",
    "            (best_model, best_optimizer), best_dict = data\n",
    "            best_path = os.path.abspath(self.dirs[\"best\"])\n",
    "            new_best = int(next(iter(best_dict.keys())))\n",
    "\n",
    "            old_best = -1\n",
    "            for item in os.listdir(best_path):\n",
    "                with contextlib.suppress(BaseException):\n",
    "                    old_best = int(item)\n",
    "\n",
    "            if new_best == old_best:\n",
    "                return\n",
    "\n",
    "            self._soft_rmdir(os.path.join(best_path, str(old_best)))\n",
    "\n",
    "            path_prefix = os.path.join(best_path, str(new_best))\n",
    "            self._soft_mkdir(path_prefix)\n",
    "            torch.save(\n",
    "                {\n",
    "                    \"model_state_dict\": best_model,\n",
    "                    \"optimizer_state_dict\": best_optimizer,\n",
    "                },\n",
    "                os.path.join(path_prefix, \"net\"),\n",
    "            )\n",
    "            return\n",
    "\n",
    "    def save_best_dict(self, best_dict: dict) -> None:\n",
    "        self._save_json(os.path.join(self.path, \"best.json\"), best_dict)\n",
    "\n",
    "    def load_best_dict(self) -> dict:\n",
    "        return self._load_json(os.path.join(self.path, \"best.json\"))\n",
    "\n",
    "    @staticmethod\n",
    "    def update_best_dict(best_dict: dict, loss, epoch: int) -> tuple[dict, bool]:\n",
    "        if best_dict != {} and loss >= float(next(iter(best_dict.values()))):\n",
    "            return best_dict, False\n",
    "\n",
    "        return {epoch: loss}, True"
   ]
  },
  {
   "cell_type": "markdown",
   "id": "1c9e8e44",
   "metadata": {
    "papermill": {
     "duration": 0.006968,
     "end_time": "2024-04-20T14:10:56.627478",
     "exception": false,
     "start_time": "2024-04-20T14:10:56.620510",
     "status": "completed"
    },
    "tags": []
   },
   "source": [
    "## Dataset"
   ]
  },
  {
   "cell_type": "code",
   "execution_count": 10,
   "id": "891fdbb7",
   "metadata": {
    "execution": {
     "iopub.execute_input": "2024-04-20T14:10:56.640474Z",
     "iopub.status.busy": "2024-04-20T14:10:56.639473Z",
     "iopub.status.idle": "2024-04-20T14:10:59.329265Z",
     "shell.execute_reply": "2024-04-20T14:10:59.328473Z"
    },
    "papermill": {
     "duration": 2.697803,
     "end_time": "2024-04-20T14:10:59.330310",
     "exception": false,
     "start_time": "2024-04-20T14:10:56.632507",
     "status": "completed"
    },
    "tags": []
   },
   "outputs": [],
   "source": [
    "tokenizer = get_tokenizer(\"basic_english\")\n",
    "global_vectors = GloVe(dim=GLOVE_DIM, cache=\"../data\")\n",
    "\n",
    "\n",
    "def tokenized_pipeline(x):\n",
    "    return global_vectors.get_vecs_by_tokens(x, lower_case_backup=True)\n",
    "\n",
    "\n",
    "def text_pipeline(x):\n",
    "    return global_vectors.get_vecs_by_tokens(tokenizer(x), lower_case_backup=True)"
   ]
  },
  {
   "cell_type": "code",
   "execution_count": 11,
   "id": "f6f2c87c",
   "metadata": {
    "execution": {
     "iopub.execute_input": "2024-04-20T14:10:59.345277Z",
     "iopub.status.busy": "2024-04-20T14:10:59.344279Z",
     "iopub.status.idle": "2024-04-20T14:10:59.348504Z",
     "shell.execute_reply": "2024-04-20T14:10:59.348504Z"
    },
    "papermill": {
     "duration": 0.014211,
     "end_time": "2024-04-20T14:10:59.350520",
     "exception": false,
     "start_time": "2024-04-20T14:10:59.336309",
     "status": "completed"
    },
    "tags": []
   },
   "outputs": [],
   "source": [
    "def read_from_disk(path: str) -> np.ndarray:\n",
    "    return pd.read_csv(path).to_numpy()"
   ]
  },
  {
   "cell_type": "code",
   "execution_count": 12,
   "id": "515b6747",
   "metadata": {
    "execution": {
     "iopub.execute_input": "2024-04-20T14:10:59.363514Z",
     "iopub.status.busy": "2024-04-20T14:10:59.362515Z",
     "iopub.status.idle": "2024-04-20T14:10:59.368919Z",
     "shell.execute_reply": "2024-04-20T14:10:59.368919Z"
    },
    "papermill": {
     "duration": 0.014804,
     "end_time": "2024-04-20T14:10:59.371321",
     "exception": false,
     "start_time": "2024-04-20T14:10:59.356517",
     "status": "completed"
    },
    "tags": []
   },
   "outputs": [],
   "source": [
    "class PlagiarismDataset(Dataset):\n",
    "    def __init__(self, path: str):\n",
    "        data = read_from_disk(path)\n",
    "        texts, self.scores = [], []\n",
    "\n",
    "        for target, candidate, score in data:\n",
    "            if CNN_DIM == 1:\n",
    "                texts.append(tokenized_pipeline(tokenizer(target) + tokenizer(candidate)))\n",
    "            else:\n",
    "                texts.append(\n",
    "                    nn.utils.rnn.pad_sequence(\n",
    "                        [text_pipeline(target), text_pipeline(candidate)]\n",
    "                    )\n",
    "                )\n",
    "            self.scores.append(score)\n",
    "\n",
    "        self.texts = nn.utils.rnn.pad_sequence(texts, batch_first=True)\n",
    "        self.max_length = self.texts.shape[1]\n",
    "\n",
    "    def __len__(self):\n",
    "        return len(self.scores)\n",
    "\n",
    "    def __getitem__(self, idx) -> tuple[torch.Tensor, float]:\n",
    "        return (\n",
    "            self.texts[idx],\n",
    "            self.scores[idx],\n",
    "        )\n",
    "\n",
    "    def pad(self, pad_size: int):\n",
    "        if CNN_DIM == 1:\n",
    "            self.texts = F.pad(self.texts, (0, 0, 0, pad_size - self.max_length))\n",
    "            return\n",
    "        self.texts = F.pad(self.texts, (0, 0, 0, 0, 0, pad_size - self.max_length))"
   ]
  },
  {
   "cell_type": "code",
   "execution_count": 13,
   "id": "1d38ce19",
   "metadata": {
    "execution": {
     "iopub.execute_input": "2024-04-20T14:10:59.383332Z",
     "iopub.status.busy": "2024-04-20T14:10:59.383332Z",
     "iopub.status.idle": "2024-04-20T14:11:03.615839Z",
     "shell.execute_reply": "2024-04-20T14:11:03.614831Z"
    },
    "papermill": {
     "duration": 4.240505,
     "end_time": "2024-04-20T14:11:03.617836",
     "exception": false,
     "start_time": "2024-04-20T14:10:59.377331",
     "status": "completed"
    },
    "tags": []
   },
   "outputs": [],
   "source": [
    "train_dataset = PlagiarismDataset(f\"../generated/datasets/train_{TRAIN_SIZE}.csv\")\n",
    "test_dataset = PlagiarismDataset(f\"../generated/datasets/test_{TEST_SIZE}.csv\")"
   ]
  },
  {
   "cell_type": "code",
   "execution_count": 14,
   "id": "f7e33ea0",
   "metadata": {
    "execution": {
     "iopub.execute_input": "2024-04-20T14:11:03.639841Z",
     "iopub.status.busy": "2024-04-20T14:11:03.639841Z",
     "iopub.status.idle": "2024-04-20T14:11:03.647764Z",
     "shell.execute_reply": "2024-04-20T14:11:03.647764Z"
    },
    "papermill": {
     "duration": 0.019934,
     "end_time": "2024-04-20T14:11:03.649772",
     "exception": false,
     "start_time": "2024-04-20T14:11:03.629838",
     "status": "completed"
    },
    "tags": []
   },
   "outputs": [
    {
     "data": {
      "text/plain": [
       "217"
      ]
     },
     "execution_count": 14,
     "metadata": {},
     "output_type": "execute_result"
    }
   ],
   "source": [
    "MAX_LEN = max(train_dataset.max_length, test_dataset.max_length)\n",
    "MAX_LEN"
   ]
  },
  {
   "cell_type": "code",
   "execution_count": 15,
   "id": "eadfff2d",
   "metadata": {
    "execution": {
     "iopub.execute_input": "2024-04-20T14:11:03.675767Z",
     "iopub.status.busy": "2024-04-20T14:11:03.674770Z",
     "iopub.status.idle": "2024-04-20T14:11:04.875367Z",
     "shell.execute_reply": "2024-04-20T14:11:04.873358Z"
    },
    "papermill": {
     "duration": 1.217594,
     "end_time": "2024-04-20T14:11:04.878364",
     "exception": false,
     "start_time": "2024-04-20T14:11:03.660770",
     "status": "completed"
    },
    "tags": []
   },
   "outputs": [],
   "source": [
    "train_dataset.pad(MAX_LEN)\n",
    "test_dataset.pad(MAX_LEN)"
   ]
  },
  {
   "cell_type": "code",
   "execution_count": 16,
   "id": "2aee1bc3",
   "metadata": {
    "execution": {
     "iopub.execute_input": "2024-04-20T14:11:04.906371Z",
     "iopub.status.busy": "2024-04-20T14:11:04.905404Z",
     "iopub.status.idle": "2024-04-20T14:11:04.913242Z",
     "shell.execute_reply": "2024-04-20T14:11:04.912232Z"
    },
    "papermill": {
     "duration": 0.024869,
     "end_time": "2024-04-20T14:11:04.916240",
     "exception": false,
     "start_time": "2024-04-20T14:11:04.891371",
     "status": "completed"
    },
    "tags": []
   },
   "outputs": [],
   "source": [
    "def collate_batch(batch):\n",
    "    text_list, score_list = [], []\n",
    "    for _text, _score in batch:\n",
    "        text_list.append(_text)\n",
    "        score_list.append(_score)\n",
    "    return torch.stack(text_list).to(DEVICE), torch.FloatTensor(score_list).to(DEVICE)\n",
    "\n",
    "\n",
    "np.random.seed(420)\n",
    "train_dataloader = DataLoader(\n",
    "    train_dataset, collate_fn=collate_batch, batch_size=BATCH_SIZE, shuffle=True\n",
    ")\n",
    "test_dataloader = DataLoader(\n",
    "    test_dataset, collate_fn=collate_batch, batch_size=BATCH_SIZE, shuffle=False\n",
    ")"
   ]
  },
  {
   "cell_type": "markdown",
   "id": "68f5c048",
   "metadata": {
    "papermill": {
     "duration": 0.014003,
     "end_time": "2024-04-20T14:11:04.942241",
     "exception": false,
     "start_time": "2024-04-20T14:11:04.928238",
     "status": "completed"
    },
    "tags": []
   },
   "source": [
    "## CNN"
   ]
  },
  {
   "cell_type": "code",
   "execution_count": 17,
   "id": "9127fe40",
   "metadata": {
    "execution": {
     "iopub.execute_input": "2024-04-20T14:11:04.974241Z",
     "iopub.status.busy": "2024-04-20T14:11:04.973249Z",
     "iopub.status.idle": "2024-04-20T14:11:04.988067Z",
     "shell.execute_reply": "2024-04-20T14:11:04.986055Z"
    },
    "papermill": {
     "duration": 0.037826,
     "end_time": "2024-04-20T14:11:04.994069",
     "exception": false,
     "start_time": "2024-04-20T14:11:04.956243",
     "status": "completed"
    },
    "tags": []
   },
   "outputs": [],
   "source": [
    "class CNN(nn.Module):\n",
    "    def __init__(self, output_dim: int = 1, hidden_dim: int = 128) -> None:\n",
    "        super(CNN, self).__init__()\n",
    "\n",
    "        self.conv_out_dim = (MAX_LEN - KERNEL_SIZE + 1) * OUT_CHANNELS\n",
    "        self.cnn_out_dim = (\n",
    "            int((self.conv_out_dim - MAX_POOL_KERNEL) / MAX_POOL_STRIDE) + 1\n",
    "        )\n",
    "\n",
    "        if CNN_DIM == 1:\n",
    "            self.cnn = nn.Sequential(\n",
    "                nn.Conv1d(\n",
    "                    in_channels=EMBED_DIM,\n",
    "                    out_channels=OUT_CHANNELS,\n",
    "                    kernel_size=KERNEL_SIZE,\n",
    "                ),\n",
    "                nn.ReLU(),\n",
    "                nn.MaxPool1d(MAX_POOL_KERNEL, stride=MAX_POOL_STRIDE),\n",
    "            )\n",
    "        else:\n",
    "            self.cnn = nn.Sequential(\n",
    "                nn.Conv2d(\n",
    "                    in_channels=EMBED_DIM,\n",
    "                    out_channels=OUT_CHANNELS,\n",
    "                    kernel_size=(2, KERNEL_SIZE),\n",
    "                ),\n",
    "                nn.ReLU(),\n",
    "                nn.Flatten(start_dim=1, end_dim=2),\n",
    "                nn.MaxPool1d(MAX_POOL_KERNEL, stride=MAX_POOL_STRIDE),\n",
    "            )\n",
    "\n",
    "        self.cnet = nn.Sequential(\n",
    "            nn.Linear(self.cnn_out_dim, hidden_dim),\n",
    "            nn.ReLU(),\n",
    "            nn.Dropout(DROPOUT),\n",
    "            nn.Linear(hidden_dim, output_dim),\n",
    "            nn.Sigmoid(),\n",
    "        )\n",
    "\n",
    "    def forward(self, x):\n",
    "        x = torch.swapaxes(x, 1, 2) if CNN_DIM == 1 else torch.swapaxes(x, 1, 3)\n",
    "\n",
    "        x = self.cnn(x)\n",
    "        x = torch.flatten(x, 1)\n",
    "        return self.cnet(x).squeeze()"
   ]
  },
  {
   "cell_type": "markdown",
   "id": "aac37bbf",
   "metadata": {
    "papermill": {
     "duration": 0.017981,
     "end_time": "2024-04-20T14:11:05.030071",
     "exception": false,
     "start_time": "2024-04-20T14:11:05.012090",
     "status": "completed"
    },
    "tags": []
   },
   "source": [
    "## Evaluation"
   ]
  },
  {
   "cell_type": "code",
   "execution_count": 18,
   "id": "900c1a39",
   "metadata": {
    "execution": {
     "iopub.execute_input": "2024-04-20T14:11:05.071064Z",
     "iopub.status.busy": "2024-04-20T14:11:05.070063Z",
     "iopub.status.idle": "2024-04-20T14:11:05.076655Z",
     "shell.execute_reply": "2024-04-20T14:11:05.076655Z"
    },
    "papermill": {
     "duration": 0.028597,
     "end_time": "2024-04-20T14:11:05.078661",
     "exception": false,
     "start_time": "2024-04-20T14:11:05.050064",
     "status": "completed"
    },
    "tags": []
   },
   "outputs": [],
   "source": [
    "@torch.no_grad\n",
    "def evaluate(\n",
    "    net: nn.Module,\n",
    "    data: DataLoader,\n",
    ") -> float:  # mean loss\n",
    "    net.eval()\n",
    "\n",
    "    total_loss: float = 0.0\n",
    "\n",
    "    eval_loop = tqdm(data, total=len(data), desc=\"Evaluation\")\n",
    "\n",
    "    for batch in eval_loop:\n",
    "        texts, scores = batch\n",
    "\n",
    "        predictions = net(texts)\n",
    "\n",
    "        loss = F.mse_loss(predictions, scores)\n",
    "\n",
    "        total_loss += loss.item()\n",
    "\n",
    "    mean_loss = total_loss / len(data)\n",
    "    eval_loop.set_postfix({\"Mean Test Loss\": mean_loss})\n",
    "\n",
    "    return mean_loss"
   ]
  },
  {
   "cell_type": "markdown",
   "id": "b0c53a38",
   "metadata": {
    "papermill": {
     "duration": 0.008001,
     "end_time": "2024-04-20T14:11:05.093663",
     "exception": false,
     "start_time": "2024-04-20T14:11:05.085662",
     "status": "completed"
    },
    "tags": []
   },
   "source": [
    "## Training"
   ]
  },
  {
   "cell_type": "code",
   "execution_count": 19,
   "id": "cc5aac6b",
   "metadata": {
    "execution": {
     "iopub.execute_input": "2024-04-20T14:11:05.106661Z",
     "iopub.status.busy": "2024-04-20T14:11:05.106661Z",
     "iopub.status.idle": "2024-04-20T14:11:05.115152Z",
     "shell.execute_reply": "2024-04-20T14:11:05.115152Z"
    },
    "papermill": {
     "duration": 0.01752,
     "end_time": "2024-04-20T14:11:05.117183",
     "exception": false,
     "start_time": "2024-04-20T14:11:05.099663",
     "status": "completed"
    },
    "tags": []
   },
   "outputs": [],
   "source": [
    "# load_from_experiments(...)\n",
    "LOGGER = Logger(EXPERIMENT_NAME, pack_hyperparameters())"
   ]
  },
  {
   "cell_type": "code",
   "execution_count": 20,
   "id": "43d9c761",
   "metadata": {
    "execution": {
     "iopub.execute_input": "2024-04-20T14:11:05.153585Z",
     "iopub.status.busy": "2024-04-20T14:11:05.153585Z",
     "iopub.status.idle": "2024-04-20T14:11:11.663360Z",
     "shell.execute_reply": "2024-04-20T14:11:11.663360Z"
    },
    "papermill": {
     "duration": 6.519826,
     "end_time": "2024-04-20T14:11:11.665408",
     "exception": false,
     "start_time": "2024-04-20T14:11:05.145582",
     "status": "completed"
    },
    "tags": []
   },
   "outputs": [],
   "source": [
    "if LOGGER.new:\n",
    "    np.random.seed(42)\n",
    "    torch.manual_seed(42)\n",
    "\n",
    "net = CNN().to(DEVICE)\n",
    "optimizer = optim.Adam(net.parameters(), lr=LR)"
   ]
  },
  {
   "cell_type": "code",
   "execution_count": 21,
   "id": "98fb53e0",
   "metadata": {
    "execution": {
     "iopub.execute_input": "2024-04-20T14:11:11.677418Z",
     "iopub.status.busy": "2024-04-20T14:11:11.677418Z",
     "iopub.status.idle": "2024-04-20T14:11:11.706282Z",
     "shell.execute_reply": "2024-04-20T14:11:11.705275Z"
    },
    "papermill": {
     "duration": 0.036875,
     "end_time": "2024-04-20T14:11:11.708284",
     "exception": false,
     "start_time": "2024-04-20T14:11:11.671409",
     "status": "completed"
    },
    "tags": []
   },
   "outputs": [
    {
     "name": "stdout",
     "output_type": "stream",
     "text": [
      "minimizing_constant=0.1666666716337204\n"
     ]
    }
   ],
   "source": [
    "def moving_average(x, w=10):\n",
    "    w = min(w, max(1, len(x) // 10))\n",
    "    return scipy.signal.savgol_filter(x, w, min(3, w - 1))\n",
    "\n",
    "\n",
    "minimizing_constant = F.mse_loss(\n",
    "    torch.tensor([0, 0.5, 1]), torch.tensor([0.5, 0.5, 0.5])\n",
    ").item()\n",
    "print(f\"{minimizing_constant=}\")"
   ]
  },
  {
   "cell_type": "code",
   "execution_count": 22,
   "id": "9a85e777",
   "metadata": {
    "execution": {
     "iopub.execute_input": "2024-04-20T14:11:11.739909Z",
     "iopub.status.busy": "2024-04-20T14:11:11.739909Z",
     "iopub.status.idle": "2024-04-20T14:11:11.870270Z",
     "shell.execute_reply": "2024-04-20T14:11:11.869256Z"
    },
    "papermill": {
     "duration": 0.157975,
     "end_time": "2024-04-20T14:11:11.872268",
     "exception": false,
     "start_time": "2024-04-20T14:11:11.714293",
     "status": "completed"
    },
    "tags": []
   },
   "outputs": [],
   "source": [
    "log_data = {\n",
    "    \"Mean Loss\": [],\n",
    "    \"Mean Test Loss\": [],\n",
    "    \"Eval Epoch\": [],\n",
    "    \"Eval Time\": [],\n",
    "    \"Epoch\": [],\n",
    "    \"Time\": [],\n",
    "}\n",
    "\n",
    "best_dict = {}\n",
    "\n",
    "if not LOGGER.new:\n",
    "    best_dict: dict = LOGGER.load_best_dict()\n",
    "    log_data: dict = LOGGER.load(\"log_data\", \"data\")\n",
    "    LOGGER.load(\"net\", \"model\", net, optimizer)\n",
    "\n",
    "else:\n",
    "    # evaluate\n",
    "    mean_test_loss = evaluate(net, test_dataloader)\n",
    "    log_data[\"Mean Test Loss\"].append(mean_test_loss)\n",
    "\n",
    "    log_data[\"Eval Epoch\"].append(0)\n",
    "    log_data[\"Eval Time\"].append(0)\n",
    "\n",
    "    # log\n",
    "\n",
    "    ## models\n",
    "    LOGGER.save(\"net\", \"model\", (net, optimizer))\n",
    "\n",
    "    ## best\n",
    "    best_dict, updated = Logger.update_best_dict(best_dict, mean_test_loss, 0)\n",
    "    if updated:\n",
    "        best_states = (net.state_dict(), optimizer.state_dict())\n",
    "\n",
    "    LOGGER.save_best_dict(best_dict)\n",
    "    LOGGER.save(\"\", \"best\", (best_states, best_dict))\n",
    "\n",
    "    ## data\n",
    "    LOGGER.save(\"log_data\", \"data\", log_data)"
   ]
  },
  {
   "cell_type": "code",
   "execution_count": 23,
   "id": "bb6ce14f",
   "metadata": {
    "execution": {
     "iopub.execute_input": "2024-04-20T14:11:11.886265Z",
     "iopub.status.busy": "2024-04-20T14:11:11.886265Z",
     "iopub.status.idle": "2024-04-20T14:11:11.901684Z",
     "shell.execute_reply": "2024-04-20T14:11:11.900673Z"
    },
    "papermill": {
     "duration": 0.025417,
     "end_time": "2024-04-20T14:11:11.903685",
     "exception": false,
     "start_time": "2024-04-20T14:11:11.878268",
     "status": "completed"
    },
    "tags": []
   },
   "outputs": [
    {
     "name": "stderr",
     "output_type": "stream",
     "text": [
      "\r",
      "0it [00:00, ?it/s]"
     ]
    },
    {
     "name": "stderr",
     "output_type": "stream",
     "text": [
      "\r",
      "0it [00:00, ?it/s]"
     ]
    },
    {
     "name": "stderr",
     "output_type": "stream",
     "text": [
      "\n"
     ]
    }
   ],
   "source": [
    "torch.cuda.synchronize()\n",
    "start_time = time.time()\n",
    "time_shift = 0 if len(log_data[\"Time\"]) == 0 else log_data[\"Time\"][-1]\n",
    "epoch_shift = 0 if len(log_data[\"Epoch\"]) == 0 else log_data[\"Epoch\"][-1]\n",
    "\n",
    "best_states = (net.state_dict(), optimizer.state_dict())\n",
    "\n",
    "net.train()\n",
    "epoch_loop = tqdm(range(1 + epoch_shift, 1 + EPOCHS))\n",
    "\n",
    "for i in epoch_loop:\n",
    "    net.train()\n",
    "    optimizer.zero_grad()\n",
    "\n",
    "    batch = next(iter(train_dataloader))\n",
    "    texts, scores = batch\n",
    "\n",
    "    predictions = net(texts)\n",
    "\n",
    "    loss = F.mse_loss(predictions, scores)\n",
    "\n",
    "    loss.backward()\n",
    "\n",
    "    if CLIP_GRAD > 0:\n",
    "        nn.utils.clip_grad_norm_(net.parameters(), CLIP_GRAD)\n",
    "    optimizer.step()\n",
    "\n",
    "    # logging\n",
    "    torch.cuda.synchronize()\n",
    "    elapsed_time = time.time() - start_time + time_shift\n",
    "\n",
    "    log_data[\"Epoch\"].append(i)\n",
    "    log_data[\"Time\"].append(elapsed_time)\n",
    "    log_data[\"Mean Loss\"].append(loss.item())\n",
    "\n",
    "    epoch_loop.set_postfix(\n",
    "        {\n",
    "            \"Mean Loss\": log_data[\"Mean Loss\"][-1],\n",
    "        }\n",
    "    )\n",
    "\n",
    "    # evaluate\n",
    "    if i % EVAL_PERIOD == 0 or i == EPOCHS:\n",
    "        mean_test_loss = evaluate(net, test_dataloader)\n",
    "\n",
    "        # logging\n",
    "        log_data[\"Mean Test Loss\"].append(mean_test_loss)\n",
    "        log_data[\"Eval Epoch\"].append(i)\n",
    "        log_data[\"Eval Time\"].append(elapsed_time)\n",
    "\n",
    "        best_dict, updated = Logger.update_best_dict(best_dict, mean_test_loss, i)\n",
    "        if updated:\n",
    "            best_states = (net.state_dict(), optimizer.state_dict())\n",
    "\n",
    "    # log\n",
    "    if i % LOG_PERIOD == 0 or i == EPOCHS:\n",
    "        LOGGER.update_idx(1)\n",
    "\n",
    "        ## models\n",
    "        LOGGER.save(\"net\", \"model\", (net, optimizer))\n",
    "\n",
    "        ## data\n",
    "        LOGGER.save(\"log_data\", \"data\", log_data)\n",
    "\n",
    "        ## best\n",
    "        LOGGER.save_best_dict(best_dict)\n",
    "        LOGGER.save(\"\", \"best\", (best_states, best_dict))\n",
    "\n",
    "        ## plots\n",
    "        LOGGER.save(\n",
    "            \"\",\n",
    "            \"plots\",\n",
    "            {\n",
    "                \"Epoch\": log_data[\"Epoch\"],\n",
    "                \"Time\": log_data[\"Time\"],\n",
    "                \"Eval Epoch\": log_data[\"Eval Epoch\"],\n",
    "                \"Eval Time\": log_data[\"Eval Time\"],\n",
    "                \"Mean Loss\": moving_average(log_data[\"Mean Loss\"]),\n",
    "                \"Mean Test Loss\": log_data[\"Mean Test Loss\"],\n",
    "                \"Minimizing constant\": minimizing_constant,\n",
    "            },\n",
    "        )\n",
    "\n",
    "epoch_loop.close()"
   ]
  },
  {
   "cell_type": "markdown",
   "id": "b555a04f",
   "metadata": {
    "papermill": {
     "duration": 0.010999,
     "end_time": "2024-04-20T14:11:11.926689",
     "exception": false,
     "start_time": "2024-04-20T14:11:11.915690",
     "status": "completed"
    },
    "tags": []
   },
   "source": [
    "## Analysis"
   ]
  },
  {
   "cell_type": "code",
   "execution_count": 24,
   "id": "a403b0f9",
   "metadata": {
    "execution": {
     "iopub.execute_input": "2024-04-20T14:11:11.944682Z",
     "iopub.status.busy": "2024-04-20T14:11:11.944682Z",
     "iopub.status.idle": "2024-04-20T14:11:21.388081Z",
     "shell.execute_reply": "2024-04-20T14:11:21.388081Z"
    },
    "papermill": {
     "duration": 9.454415,
     "end_time": "2024-04-20T14:11:21.390125",
     "exception": false,
     "start_time": "2024-04-20T14:11:11.935710",
     "status": "completed"
    },
    "tags": []
   },
   "outputs": [
    {
     "data": {
      "image/png": "[encoded data removed]",
      "text/plain": [
       "<Figure size 1600x800 with 4 Axes>"
      ]
     },
     "metadata": {},
     "output_type": "display_data"
    }
   ],
   "source": [
    "plots_data = {\n",
    "    \"Epoch\": log_data[\"Epoch\"],\n",
    "    \"Time\": log_data[\"Time\"],\n",
    "    \"Eval Epoch\": log_data[\"Eval Epoch\"],\n",
    "    \"Eval Time\": log_data[\"Eval Time\"],\n",
    "    \"Mean Loss\": moving_average(log_data[\"Mean Loss\"]),\n",
    "    \"Mean Test Loss\": log_data[\"Mean Test Loss\"],\n",
    "    \"Minimizing constant\": minimizing_constant,\n",
    "}\n",
    "\n",
    "plots = LOGGER.log_plots\n",
    "\n",
    "draw_plots(\n",
    "    plots_data,\n",
    "    plots,\n",
    "    plot_width=8,\n",
    "    plot_height=4,\n",
    "    row_plots=2,\n",
    ")"
   ]
  }
 ],
 "metadata": {
  "kernelspec": {
   "display_name": "rl",
   "language": "python",
   "name": "python3"
  },
  "language_info": {
   "codemirror_mode": {
    "name": "ipython",
    "version": 3
   },
   "file_extension": ".py",
   "mimetype": "text/x-python",
   "name": "python",
   "nbconvert_exporter": "python",
   "pygments_lexer": "ipython3",
   "version": "3.11.0"
  },
  "papermill": {
   "default_parameters": {},
   "duration": 33.335141,
   "end_time": "2024-04-20T14:11:24.039035",
   "environment_variables": {},
   "exception": null,
   "input_path": "./4.1-cnn.ipynb",
   "output_path": "./4.1-cnn.ipynb",
   "parameters": {
    "CNN_DIM": 2,
    "EPOCHS": 10,
    "EVAL_PERIOD": 1,
    "EXPERIMENT_NAME": "test2"
   },
   "start_time": "2024-04-20T14:10:50.703894",
   "version": "2.5.0"
  }
 },
 "nbformat": 4,
 "nbformat_minor": 5
}