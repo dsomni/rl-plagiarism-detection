{
 "cells": [
  {
   "cell_type": "markdown",
   "metadata": {},
   "source": [
    "# LSTM for text plagiarism detection"
   ]
  },
  {
   "cell_type": "code",
   "execution_count": 154,
   "metadata": {
    "execution": {
     "iopub.execute_input": "2024-04-15T13:08:21.395645Z",
     "iopub.status.busy": "2024-04-15T13:08:21.394600Z",
     "iopub.status.idle": "2024-04-15T13:08:24.677774Z",
     "shell.execute_reply": "2024-04-15T13:08:24.676872Z"
    }
   },
   "outputs": [],
   "source": [
    "import contextlib\n",
    "import json\n",
    "import math\n",
    "import os\n",
    "import shutil\n",
    "import time\n",
    "from typing import Literal\n",
    "\n",
    "import matplotlib.pyplot as plt\n",
    "import numpy as np\n",
    "import pandas as pd\n",
    "import scipy\n",
    "import torch\n",
    "import torch.nn as nn\n",
    "import torch.nn.functional as F\n",
    "import torch.optim as optim\n",
    "from cycler import cycler\n",
    "from torch.utils.data import DataLoader, Dataset\n",
    "from torchtext.data import get_tokenizer\n",
    "from torchtext.vocab import GloVe\n",
    "from tqdm import tqdm"
   ]
  },
  {
   "cell_type": "code",
   "execution_count": 155,
   "metadata": {
    "execution": {
     "iopub.execute_input": "2024-04-15T13:08:24.680784Z",
     "iopub.status.busy": "2024-04-15T13:08:24.679784Z",
     "iopub.status.idle": "2024-04-15T13:08:24.708092Z",
     "shell.execute_reply": "2024-04-15T13:08:24.707082Z"
    }
   },
   "outputs": [
    {
     "data": {
      "text/plain": [
       "device(type='cuda')"
      ]
     },
     "execution_count": 155,
     "metadata": {},
     "output_type": "execute_result"
    }
   ],
   "source": [
    "DEVICE = torch.device(\"cuda\") if torch.cuda.is_available() else torch.device(\"cpu\")\n",
    "# DEVICE = torch.device(\"cpu\")\n",
    "DEVICE"
   ]
  },
  {
   "cell_type": "code",
   "execution_count": 156,
   "metadata": {
    "execution": {
     "iopub.execute_input": "2024-04-15T13:08:24.711091Z",
     "iopub.status.busy": "2024-04-15T13:08:24.710091Z",
     "iopub.status.idle": "2024-04-15T13:08:24.713206Z",
     "shell.execute_reply": "2024-04-15T13:08:24.713206Z"
    }
   },
   "outputs": [],
   "source": [
    "LOG_PATH_PREFIX = \"../logs/lstm/\""
   ]
  },
  {
   "cell_type": "markdown",
   "metadata": {},
   "source": [
    "## Hyper parameters"
   ]
  },
  {
   "cell_type": "code",
   "execution_count": 157,
   "metadata": {
    "execution": {
     "iopub.execute_input": "2024-04-15T13:08:24.717213Z",
     "iopub.status.busy": "2024-04-15T13:08:24.717213Z",
     "iopub.status.idle": "2024-04-15T13:08:24.723918Z",
     "shell.execute_reply": "2024-04-15T13:08:24.722909Z"
    }
   },
   "outputs": [],
   "source": [
    "GLOVE_DIM = 300\n",
    "TRAIN_SIZE = \"md\"\n",
    "TEST_SIZE = \"sm\"\n",
    "\n",
    "EMBED_DIM = GLOVE_DIM\n",
    "NUM_HEADS = 15  # EMBED_DIM (300) should be divisible by NUM_HEADS\n",
    "ATTENTION = False\n",
    "LSTM_LAYERS = 1\n",
    "LSTM_H_DIM = EMBED_DIM\n",
    "DROPOUT = 0.5\n",
    "BIDIRECTIONAL = True\n",
    "\n",
    "LR = 0.005\n",
    "\n",
    "CLIP_GRAD = 0.0\n",
    "\n",
    "BATCH_SIZE = 10\n",
    "\n",
    "FEATURES = \"\"\n",
    "COMMENTS = \"\""
   ]
  },
  {
   "cell_type": "code",
   "execution_count": 158,
   "metadata": {
    "execution": {
     "iopub.execute_input": "2024-04-15T13:08:24.726917Z",
     "iopub.status.busy": "2024-04-15T13:08:24.726917Z",
     "iopub.status.idle": "2024-04-15T13:08:24.730209Z",
     "shell.execute_reply": "2024-04-15T13:08:24.730209Z"
    }
   },
   "outputs": [],
   "source": [
    "EXPERIMENT_NAME = \"test\"\n",
    "\n",
    "EPOCHS = 10\n",
    "EVAL_PERIOD = 1\n",
    "LOG_PERIOD = EVAL_PERIOD\n",
    "\n",
    "if not ATTENTION:\n",
    "    NUM_HEADS = 0\n",
    "\n",
    "if BIDIRECTIONAL:\n",
    "    LOG_PATH_PREFIX = f\"{LOG_PATH_PREFIX[:-1]}_bi/\"\n",
    "if NUM_HEADS > 0:\n",
    "    LOG_PATH_PREFIX = f\"{LOG_PATH_PREFIX[:-1]}_attn/\""
   ]
  },
  {
   "cell_type": "code",
   "execution_count": 159,
   "metadata": {
    "execution": {
     "iopub.execute_input": "2024-04-15T13:08:24.735256Z",
     "iopub.status.busy": "2024-04-15T13:08:24.734375Z",
     "iopub.status.idle": "2024-04-15T13:08:24.744012Z",
     "shell.execute_reply": "2024-04-15T13:08:24.744012Z"
    }
   },
   "outputs": [],
   "source": [
    "def pack_hyperparameters() -> dict:\n",
    "    return {\n",
    "        \"GLOVE_DIM\": GLOVE_DIM,\n",
    "        \"TRAIN_SIZE\": TRAIN_SIZE,\n",
    "        \"TEST_SIZE\": TEST_SIZE,\n",
    "        \"EMBED_DIM\": EMBED_DIM,\n",
    "        \"NUM_HEADS\": NUM_HEADS,\n",
    "        \"ATTENTION\": ATTENTION,\n",
    "        \"LSTM_LAYERS\": LSTM_LAYERS,\n",
    "        \"LSTM_H_DIM\": LSTM_H_DIM,\n",
    "        \"DROPOUT\": DROPOUT,\n",
    "        \"BIDIRECTIONAL\": BIDIRECTIONAL,\n",
    "        \"LR\": LR,\n",
    "        \"CLIP_GRAD\": CLIP_GRAD,\n",
    "        \"BATCH_SIZE\": BATCH_SIZE,\n",
    "        \"FEATURES\": FEATURES,\n",
    "        \"COMMENTS\": COMMENTS,\n",
    "    }\n",
    "\n",
    "\n",
    "def load_from_experiments(experiment: str) -> None:\n",
    "    global \\\n",
    "        GLOVE_DIM, \\\n",
    "        TRAIN_SIZE, \\\n",
    "        TEST_SIZE, \\\n",
    "        EMBED_DIM, \\\n",
    "        NUM_HEADS, \\\n",
    "        ATTENTION, \\\n",
    "        LSTM_LAYERS, \\\n",
    "        LSTM_H_DIM, \\\n",
    "        DROPOUT, \\\n",
    "        BIDIRECTIONAL, \\\n",
    "        LR, \\\n",
    "        CLIP_GRAD, \\\n",
    "        BATCH_SIZE, \\\n",
    "        FEATURES, \\\n",
    "        COMMENTS\n",
    "    with open(os.path.join(\".\", LOG_PATH_PREFIX, experiment, \"configs.json\"), \"r\") as f:\n",
    "        hyper_dict = json.load(f)\n",
    "    GLOVE_DIM = hyper_dict[\"GLOVE_DIM\"]\n",
    "    TRAIN_SIZE = hyper_dict[\"TRAIN_SIZE\"]\n",
    "    TEST_SIZE = hyper_dict[\"TEST_SIZE\"]\n",
    "    EMBED_DIM = hyper_dict[\"EMBED_DIM\"]\n",
    "    NUM_HEADS = hyper_dict[\"NUM_HEADS\"]\n",
    "    ATTENTION = hyper_dict[\"ATTENTION\"]\n",
    "    LSTM_LAYERS = hyper_dict[\"LSTM_LAYERS\"]\n",
    "    LSTM_H_DIM = hyper_dict[\"LSTM_H_DIM\"]\n",
    "    DROPOUT = hyper_dict[\"DROPOUT\"]\n",
    "    BIDIRECTIONAL = hyper_dict[\"BIDIRECTIONAL\"]\n",
    "    LR = hyper_dict[\"LR\"]\n",
    "    CLIP_GRAD = hyper_dict[\"CLIP_GRAD\"]\n",
    "    BATCH_SIZE = hyper_dict[\"BATCH_SIZE\"]\n",
    "    FEATURES = hyper_dict[\"FEATURES\"]\n",
    "    COMMENTS = hyper_dict[\"COMMENTS\"]\n",
    "    print(hyper_dict)"
   ]
  },
  {
   "cell_type": "markdown",
   "metadata": {},
   "source": [
    "## Utilities"
   ]
  },
  {
   "cell_type": "code",
   "execution_count": 160,
   "metadata": {
    "execution": {
     "iopub.execute_input": "2024-04-15T13:08:24.748020Z",
     "iopub.status.busy": "2024-04-15T13:08:24.748020Z",
     "iopub.status.idle": "2024-04-15T13:08:24.762891Z",
     "shell.execute_reply": "2024-04-15T13:08:24.762098Z"
    }
   },
   "outputs": [],
   "source": [
    "PREDEFINED_COLORS = [\n",
    "    \"#ffa500\",\n",
    "    \"#c83cbc\",\n",
    "    \"#1c1c84\",\n",
    "    \"#ff0000\",\n",
    "    \"#08a4a7\",\n",
    "    \"#008000\",\n",
    "]\n",
    "\n",
    "\n",
    "def get_plots(\n",
    "    data_dict: dict,\n",
    "    plots: list[tuple[dict, dict]],\n",
    "    title: str = \"\",\n",
    "    ylim=None,\n",
    "    row_plots: int = 1,\n",
    "    plot_width: float = 8,\n",
    "    plot_height: float = 4,\n",
    "    use_rainbow: bool = False,\n",
    "    use_common_legend: bool = False,\n",
    "    adjust: bool = False,\n",
    "):\n",
    "    num_plots = len(plots)\n",
    "    num_entities = max([len(x[1]) for x in plots]) + 1\n",
    "    if use_rainbow:\n",
    "        num_colors = num_entities\n",
    "        cm = plt.get_cmap(\"gist_rainbow\")\n",
    "        colors = [cm(1.0 * i / num_colors) for i in range(num_colors)]\n",
    "    else:\n",
    "        colors = PREDEFINED_COLORS\n",
    "\n",
    "    style_cycler = cycler(linestyle=[\"-\", \"--\", \":\", \"-.\"]) * cycler(color=colors)\n",
    "    column_plots = math.ceil(num_plots / row_plots)\n",
    "\n",
    "    fig, axs = plt.subplots(\n",
    "        column_plots,\n",
    "        row_plots,\n",
    "        figsize=(plot_width * row_plots, plot_height * column_plots),\n",
    "    )\n",
    "\n",
    "    if len(title) > 0:\n",
    "        fig.suptitle(title, fontsize=14, y=1)\n",
    "    axs_list = [axs] if column_plots * row_plots == 1 else list(axs.flat)\n",
    "\n",
    "    for ax in axs_list:\n",
    "        ax.grid()\n",
    "        ax.set_prop_cycle(style_cycler)\n",
    "        if ylim is not None:\n",
    "            ax.set_ylim(top=ylim)\n",
    "        ax.set_visible(False)\n",
    "\n",
    "    for ax, (p1, p2) in zip(axs_list, plots):\n",
    "        ax.set_visible(True)\n",
    "\n",
    "        ax.set_title(f\"{p2['axis_name']} over {p1['axis_name']}\")\n",
    "        ax.set(xlabel=p1[\"axis_label\"], ylabel=p2[\"axis_label\"])\n",
    "\n",
    "        if p1.get(\"log\", False):\n",
    "            ax.set_xscale(\"log\")\n",
    "        if p2.get(\"log\", False):\n",
    "            ax.set_yscale(\"log\")\n",
    "\n",
    "        x_values = data_dict[p1.get(\"ref\", None) or p1[\"axis_name\"]]\n",
    "\n",
    "        p2vs = p2.get(\"values\", [])\n",
    "        if len(p2vs) == 0:\n",
    "            y_values = data_dict[p2.get(\"ref\", None) or p2[\"axis_name\"]]\n",
    "            ax.plot(x_values, y_values, label=p2[\"axis_name\"])\n",
    "            ax.scatter(x_values[-1], y_values[-1], s=15)\n",
    "            continue\n",
    "\n",
    "        for p2v in p2vs:\n",
    "            y_values = data_dict[p2v.get(\"ref\", None) or p2v[\"name\"]]\n",
    "\n",
    "            try:\n",
    "                iter(y_values)\n",
    "                ax.plot(x_values, y_values, label=p2v[\"name\"])\n",
    "                ax.scatter(x_values[-1], y_values[-1], s=15)\n",
    "            except TypeError:\n",
    "                ax.plot(x_values, [y_values] * len(x_values), label=p2v[\"name\"])\n",
    "\n",
    "    if use_common_legend:\n",
    "        lines_labels = [axs_list[0].get_legend_handles_labels()]\n",
    "        lines, labels = [sum(x, []) for x in zip(*lines_labels)]\n",
    "        fig.legend(\n",
    "            lines,\n",
    "            labels,\n",
    "            scatterpoints=1,\n",
    "            markerscale=3,\n",
    "            loc=\"outside lower center\",\n",
    "            ncol=min(6, num_entities),\n",
    "            bbox_to_anchor=(0.5, -0.05),\n",
    "        )\n",
    "    else:\n",
    "        if num_entities > 1:\n",
    "            for ax, _ in zip(axs_list, plots):\n",
    "                ax.legend()\n",
    "\n",
    "    plt.tight_layout()\n",
    "    if adjust:\n",
    "        plt.subplots_adjust(\n",
    "            top=1 - 0.1 / (num_plots**0.5), bottom=0.12 / (num_plots**2), hspace=0.15\n",
    "        )\n",
    "\n",
    "    return fig\n",
    "\n",
    "\n",
    "def draw_plots(\n",
    "    data_dict: dict,\n",
    "    plots: list[tuple[dict, dict]],\n",
    "    title: str = \"\",\n",
    "    ylim=None,\n",
    "    row_plots: int = 1,\n",
    "    plot_width: float = 8,\n",
    "    plot_height: float = 4,\n",
    "    use_rainbow: bool = False,\n",
    "    use_common_legend: bool = False,\n",
    "    adjust: bool = False,\n",
    "):\n",
    "    get_plots(\n",
    "        data_dict,\n",
    "        plots,\n",
    "        title,\n",
    "        ylim,\n",
    "        row_plots,\n",
    "        plot_width,\n",
    "        plot_height,\n",
    "        use_rainbow,\n",
    "        use_common_legend,\n",
    "        adjust,\n",
    "    )\n",
    "    plt.show()"
   ]
  },
  {
   "cell_type": "markdown",
   "metadata": {},
   "source": [
    "## Logger"
   ]
  },
  {
   "cell_type": "code",
   "execution_count": 161,
   "metadata": {
    "execution": {
     "iopub.execute_input": "2024-04-15T13:08:24.765924Z",
     "iopub.status.busy": "2024-04-15T13:08:24.765924Z",
     "iopub.status.idle": "2024-04-15T13:08:24.791239Z",
     "shell.execute_reply": "2024-04-15T13:08:24.791239Z"
    }
   },
   "outputs": [],
   "source": [
    "LoggerEntity = Literal[\"data\"] | Literal[\"model\"] | Literal[\"best\"] | Literal[\"plots\"]\n",
    "\n",
    "\n",
    "class Logger:\n",
    "    _plot_epoch_axis = {\"axis_name\": \"Epoch\", \"axis_label\": \"Epoch\"}\n",
    "    _plot_time_axis = {\"axis_name\": \"Time\", \"axis_label\": \"Running time, seconds\"}\n",
    "    log_plots = [\n",
    "        (\n",
    "            _plot_epoch_axis,\n",
    "            {\"axis_name\": \"Mean Loss\", \"axis_label\": \"Loss\"},\n",
    "        ),\n",
    "        (\n",
    "            _plot_time_axis,\n",
    "            {\"axis_name\": \"Mean Loss\", \"axis_label\": \"Loss\"},\n",
    "        ),\n",
    "        (\n",
    "            {**_plot_epoch_axis, \"ref\": \"Eval Epoch\"},\n",
    "            {\"axis_name\": \"Mean Test Loss\", \"axis_label\": \"Loss\"},\n",
    "        ),\n",
    "        (\n",
    "            {**_plot_time_axis, \"ref\": \"Eval Time\"},\n",
    "            {\"axis_name\": \"Mean Test Loss\", \"axis_label\": \"Loss\"},\n",
    "        ),\n",
    "    ]\n",
    "\n",
    "    def _soft_mkdir(self, path: str) -> None:\n",
    "        with contextlib.suppress(Exception):\n",
    "            os.makedirs(path)\n",
    "\n",
    "    def _soft_rmdir(self, path: str) -> None:\n",
    "        with contextlib.suppress(Exception):\n",
    "            shutil.rmtree(path)\n",
    "\n",
    "    def _get_max_index(self, path: str) -> int:\n",
    "        max_index = 0\n",
    "        for file in os.listdir(path):\n",
    "            with contextlib.suppress(ValueError):\n",
    "                max_index = max(max_index, int(os.path.splitext(file)[0]))\n",
    "        return max_index\n",
    "\n",
    "    def _remove_old(self):\n",
    "        if self.keep_last == -1:\n",
    "            return\n",
    "        if self.idx % self.keep_last != 0:\n",
    "            return\n",
    "        retain = [str(x) for x in range(self.idx, self.idx - self.keep_last, -1)] + [\n",
    "            \"0\",\n",
    "            \"best\",\n",
    "            \"configs.json\",\n",
    "        ]\n",
    "\n",
    "        abs_prefix = os.path.abspath(self.path)\n",
    "        for item in os.listdir(self.path):\n",
    "            if item not in retain:\n",
    "                self._soft_rmdir(os.path.join(abs_prefix, item))\n",
    "\n",
    "    def _save_json(self, path: str, data: dict) -> None:\n",
    "        with open(path, \"w\") as f:\n",
    "            json.dump(data, f)\n",
    "\n",
    "    def _load_json(self, path: str) -> dict:\n",
    "        with open(path, \"r\") as f:\n",
    "            return json.load(f)\n",
    "\n",
    "    def _save_configs(self) -> None:\n",
    "        self._save_json(os.path.join(self.path, \"configs.json\"), self.configs)\n",
    "\n",
    "    def _load_configs(self) -> dict:\n",
    "        return self._load_json(os.path.join(self.path, \"configs.json\"))\n",
    "\n",
    "    def _build_dirs(self) -> None:\n",
    "        self.dirs = {\n",
    "            \"models\": os.path.join(self.path, str(self.idx), \"models\"),\n",
    "            \"data\": os.path.join(self.path, str(self.idx), \"data\"),\n",
    "            \"plots\": os.path.join(self.path, str(self.idx), \"plots\"),\n",
    "            \"best\": os.path.join(self.path, \"best\"),\n",
    "        }\n",
    "\n",
    "        for dir_path in self.dirs.values():\n",
    "            self._soft_mkdir(dir_path)\n",
    "\n",
    "    def __init__(\n",
    "        self,\n",
    "        path: str,\n",
    "        configs: dict,\n",
    "        path_prefix: str = LOG_PATH_PREFIX,\n",
    "        keep_last: int = 2,\n",
    "        force: bool = False,\n",
    "    ) -> None:\n",
    "        self.keep_last = keep_last\n",
    "        self.configs = configs\n",
    "        self.path = os.path.join(\".\", path_prefix, path)\n",
    "\n",
    "        if force:\n",
    "            self._soft_rmdir(os.path.abspath(self.path))\n",
    "\n",
    "        if os.path.exists(self.path):\n",
    "            self.new = False\n",
    "            self.load_state()\n",
    "        else:\n",
    "            self.new = True\n",
    "            self.init_state()\n",
    "\n",
    "    def init_state(self) -> None:\n",
    "        self.idx = 0\n",
    "        self._build_dirs()\n",
    "        self._save_configs()\n",
    "        self.save_best_dict({})\n",
    "\n",
    "    def load_state(self) -> None:\n",
    "        # Check compatibility\n",
    "        existed_configs = self._load_configs()\n",
    "        new_comments = self.configs.get(\"COMMENTS\")\n",
    "        del existed_configs[\"COMMENTS\"]\n",
    "        del self.configs[\"COMMENTS\"]\n",
    "        if existed_configs != self.configs:\n",
    "            raise Exception(\"Configs are not the same!\")\n",
    "        self.configs[\"COMMENTS\"] = new_comments\n",
    "\n",
    "        self.idx = self._get_max_index(self.path)\n",
    "        self._build_dirs()\n",
    "\n",
    "    def update_idx(self, inc_value: int):\n",
    "        self.new = False\n",
    "        self.idx += inc_value\n",
    "        self._build_dirs()\n",
    "        self._remove_old()\n",
    "\n",
    "    def load(self, name: str, entity: str, *data):\n",
    "        if entity == \"model\":\n",
    "            checkpoint = torch.load(os.path.join(self.dirs[\"models\"], name))\n",
    "            model, optimizer = data\n",
    "            model.load_state_dict(checkpoint[\"model_state_dict\"])\n",
    "            optimizer.load_state_dict(checkpoint[\"optimizer_state_dict\"])\n",
    "            return None\n",
    "\n",
    "        if entity == \"data\":\n",
    "            return self._load_json(os.path.join(self.dirs[\"data\"], f\"{name}.json\"))\n",
    "\n",
    "        return None\n",
    "\n",
    "    def save(self, name: str, entity: LoggerEntity, data, save_subplots: bool = False):\n",
    "        if entity == \"model\":\n",
    "            model, optimizer = data\n",
    "            torch.save(\n",
    "                {\n",
    "                    \"model_state_dict\": model.state_dict(),\n",
    "                    \"optimizer_state_dict\": optimizer.state_dict(),\n",
    "                },\n",
    "                os.path.join(self.dirs[\"models\"], name),\n",
    "            )\n",
    "            return\n",
    "        if entity == \"data\":\n",
    "            self._save_json(os.path.join(self.dirs[\"data\"], f\"{name}.json\"), data)\n",
    "            return\n",
    "\n",
    "        if entity == \"plots\":\n",
    "            plots_data = data\n",
    "            if save_subplots:\n",
    "                for single_plot in [[sp] for sp in self.log_plots]:\n",
    "                    fig = get_plots(plots_data, single_plot, row_plots=1)\n",
    "                    plot_name = f\"{single_plot[0][1]['axis_name']} over {single_plot[0][0]['axis_name']}\".replace(\n",
    "                        \" \", \"_\"\n",
    "                    ).lower()\n",
    "                    fig.savefig(\n",
    "                        os.path.join(self.dirs[\"plots\"], f\"{name}{plot_name}.png\")\n",
    "                    )\n",
    "                    plt.close()\n",
    "                    plt.clf()\n",
    "\n",
    "            fig = get_plots(plots_data, self.log_plots, row_plots=2)\n",
    "            fig.savefig(os.path.join(self.dirs[\"plots\"], f\"{name}all.png\"))\n",
    "            plt.close()\n",
    "            plt.clf()\n",
    "            return\n",
    "        if entity == \"best\":\n",
    "            (best_model, best_optimizer), best_dict = data\n",
    "            best_path = os.path.abspath(self.dirs[\"best\"])\n",
    "            new_best = int(next(iter(best_dict.keys())))\n",
    "\n",
    "            old_best = -1\n",
    "            for item in os.listdir(best_path):\n",
    "                with contextlib.suppress(BaseException):\n",
    "                    old_best = int(item)\n",
    "\n",
    "            if new_best == old_best:\n",
    "                return\n",
    "\n",
    "            self._soft_rmdir(os.path.join(best_path, str(old_best)))\n",
    "\n",
    "            path_prefix = os.path.join(best_path, str(new_best))\n",
    "            self._soft_mkdir(path_prefix)\n",
    "            torch.save(\n",
    "                {\n",
    "                    \"model_state_dict\": best_model,\n",
    "                    \"optimizer_state_dict\": best_optimizer,\n",
    "                },\n",
    "                os.path.join(path_prefix, \"net\"),\n",
    "            )\n",
    "            return\n",
    "\n",
    "    def save_best_dict(self, best_dict: dict) -> None:\n",
    "        self._save_json(os.path.join(self.path, \"best.json\"), best_dict)\n",
    "\n",
    "    def load_best_dict(self) -> dict:\n",
    "        return self._load_json(os.path.join(self.path, \"best.json\"))\n",
    "\n",
    "    @staticmethod\n",
    "    def update_best_dict(best_dict: dict, loss, epoch: int) -> tuple[dict, bool]:\n",
    "        if best_dict != {} and loss >= float(next(iter(best_dict.values()))):\n",
    "            return best_dict, False\n",
    "\n",
    "        return {epoch: loss}, True"
   ]
  },
  {
   "cell_type": "markdown",
   "metadata": {},
   "source": [
    "## Dataset"
   ]
  },
  {
   "cell_type": "code",
   "execution_count": 162,
   "metadata": {
    "execution": {
     "iopub.execute_input": "2024-04-15T13:08:24.802368Z",
     "iopub.status.busy": "2024-04-15T13:08:24.801368Z",
     "iopub.status.idle": "2024-04-15T13:08:27.370794Z",
     "shell.execute_reply": "2024-04-15T13:08:27.370794Z"
    }
   },
   "outputs": [],
   "source": [
    "tokenizer = get_tokenizer(\"basic_english\")\n",
    "global_vectors = GloVe(dim=GLOVE_DIM, cache=\"../data\")\n",
    "\n",
    "\n",
    "def tokenized_pipeline(x):\n",
    "    return global_vectors.get_vecs_by_tokens(x, lower_case_backup=True)"
   ]
  },
  {
   "cell_type": "code",
   "execution_count": 163,
   "metadata": {
    "execution": {
     "iopub.execute_input": "2024-04-15T13:08:27.373838Z",
     "iopub.status.busy": "2024-04-15T13:08:27.373838Z",
     "iopub.status.idle": "2024-04-15T13:08:27.377014Z",
     "shell.execute_reply": "2024-04-15T13:08:27.377014Z"
    }
   },
   "outputs": [],
   "source": [
    "def read_from_disk(path: str) -> np.ndarray:\n",
    "    return pd.read_csv(path).to_numpy()"
   ]
  },
  {
   "cell_type": "code",
   "execution_count": 164,
   "metadata": {},
   "outputs": [],
   "source": [
    "class PlagiarismDataset(Dataset):\n",
    "    def __init__(self, path: str):\n",
    "        data = read_from_disk(path)\n",
    "        self.texts, self.scores = [], []\n",
    "\n",
    "        for target, candidate, score in data:\n",
    "            self.texts.append(tokenizer(target) + tokenizer(candidate))\n",
    "            self.scores.append(score)\n",
    "\n",
    "    def __len__(self):\n",
    "        return len(self.scores)\n",
    "\n",
    "    def __getitem__(self, idx) -> tuple[list, float]:\n",
    "        return (\n",
    "            self.texts[idx],\n",
    "            self.scores[idx],\n",
    "        )"
   ]
  },
  {
   "cell_type": "code",
   "execution_count": 165,
   "metadata": {},
   "outputs": [],
   "source": [
    "train_dataset = PlagiarismDataset(f\"../generated/datasets/train_{TRAIN_SIZE}.csv\")\n",
    "test_dataset = PlagiarismDataset(f\"../generated/datasets/test_{TEST_SIZE}.csv\")"
   ]
  },
  {
   "cell_type": "code",
   "execution_count": 166,
   "metadata": {},
   "outputs": [],
   "source": [
    "def collate_batch(batch):\n",
    "    text_list, score_list = [], []\n",
    "    for _text, _score in batch:\n",
    "        text_list.append(tokenized_pipeline(_text))\n",
    "        score_list.append(_score)\n",
    "    return nn.utils.rnn.pad_sequence(text_list).to(DEVICE), torch.FloatTensor(\n",
    "        score_list\n",
    "    ).to(DEVICE)\n",
    "\n",
    "\n",
    "np.random.seed(420)\n",
    "train_dataloader = DataLoader(\n",
    "    train_dataset, collate_fn=collate_batch, batch_size=BATCH_SIZE, shuffle=True\n",
    ")\n",
    "test_dataloader = DataLoader(\n",
    "    test_dataset, collate_fn=collate_batch, batch_size=BATCH_SIZE, shuffle=False\n",
    ")"
   ]
  },
  {
   "cell_type": "markdown",
   "metadata": {},
   "source": [
    "## LSTM Net"
   ]
  },
  {
   "cell_type": "code",
   "execution_count": 167,
   "metadata": {
    "execution": {
     "iopub.execute_input": "2024-04-15T13:08:27.665816Z",
     "iopub.status.busy": "2024-04-15T13:08:27.664818Z",
     "iopub.status.idle": "2024-04-15T13:08:27.674935Z",
     "shell.execute_reply": "2024-04-15T13:08:27.674360Z"
    }
   },
   "outputs": [],
   "source": [
    "class LSTMNet(nn.Module):\n",
    "    def __init__(self, output_dim: int = 1, hidden_dim: int = 128) -> None:\n",
    "        super(LSTMNet, self).__init__()\n",
    "\n",
    "        if ATTENTION:\n",
    "            self.attention = nn.MultiheadAttention(EMBED_DIM, NUM_HEADS)\n",
    "\n",
    "        self.lstm = nn.LSTM(\n",
    "            EMBED_DIM,\n",
    "            LSTM_H_DIM,\n",
    "            num_layers=LSTM_LAYERS,\n",
    "            bidirectional=BIDIRECTIONAL,\n",
    "        )\n",
    "\n",
    "        self.cnet = nn.Sequential(\n",
    "            nn.Flatten(start_dim=1),\n",
    "            nn.Linear(LSTM_H_DIM if not BIDIRECTIONAL else LSTM_H_DIM * 2, hidden_dim),\n",
    "            nn.ReLU(),\n",
    "            nn.Dropout(DROPOUT),\n",
    "            nn.Linear(hidden_dim, output_dim),\n",
    "            nn.Sigmoid(),\n",
    "        )\n",
    "\n",
    "    def forward(self, x):\n",
    "        if ATTENTION:\n",
    "            x, _ = self.attention(x, x, x)\n",
    "        _, (x, __) = self.lstm(x)\n",
    "        x = torch.swapaxes(x, 0, 1)\n",
    "        return self.cnet(x).squeeze()"
   ]
  },
  {
   "cell_type": "markdown",
   "metadata": {},
   "source": [
    "## Evaluation"
   ]
  },
  {
   "cell_type": "code",
   "execution_count": 168,
   "metadata": {
    "execution": {
     "iopub.execute_input": "2024-04-15T13:08:27.737234Z",
     "iopub.status.busy": "2024-04-15T13:08:27.737234Z",
     "iopub.status.idle": "2024-04-15T13:08:27.743459Z",
     "shell.execute_reply": "2024-04-15T13:08:27.743459Z"
    }
   },
   "outputs": [],
   "source": [
    "@torch.no_grad\n",
    "def evaluate(\n",
    "    net: nn.Module,\n",
    "    data: DataLoader,\n",
    ") -> float:  # mean loss\n",
    "    net.eval()\n",
    "\n",
    "    total_loss: float = 0.0\n",
    "\n",
    "    eval_loop = tqdm(data, total=len(data), desc=\"Evaluation\")\n",
    "\n",
    "    for batch in eval_loop:\n",
    "        texts, scores = batch\n",
    "\n",
    "        predictions = net(texts)\n",
    "\n",
    "        loss = F.mse_loss(predictions, scores)\n",
    "\n",
    "        total_loss += loss.item()\n",
    "\n",
    "    mean_loss = total_loss / len(data)\n",
    "    eval_loop.set_postfix({\"Mean Test Loss\": mean_loss})\n",
    "\n",
    "    return mean_loss"
   ]
  },
  {
   "cell_type": "markdown",
   "metadata": {},
   "source": [
    "## Training"
   ]
  },
  {
   "cell_type": "code",
   "execution_count": 169,
   "metadata": {
    "execution": {
     "iopub.execute_input": "2024-04-15T13:08:27.748465Z",
     "iopub.status.busy": "2024-04-15T13:08:27.747467Z",
     "iopub.status.idle": "2024-04-15T13:08:27.759538Z",
     "shell.execute_reply": "2024-04-15T13:08:27.759538Z"
    }
   },
   "outputs": [],
   "source": [
    "# load_from_experiments(...)\n",
    "LOGGER = Logger(EXPERIMENT_NAME, pack_hyperparameters())"
   ]
  },
  {
   "cell_type": "code",
   "execution_count": 170,
   "metadata": {
    "execution": {
     "iopub.execute_input": "2024-04-15T13:08:27.764546Z",
     "iopub.status.busy": "2024-04-15T13:08:27.763547Z",
     "iopub.status.idle": "2024-04-15T13:08:28.910714Z",
     "shell.execute_reply": "2024-04-15T13:08:28.909847Z"
    }
   },
   "outputs": [],
   "source": [
    "if LOGGER.new:\n",
    "    np.random.seed(42)\n",
    "    torch.manual_seed(42)\n",
    "\n",
    "net = LSTMNet().to(DEVICE)\n",
    "optimizer = optim.Adam(net.parameters(), lr=LR)"
   ]
  },
  {
   "cell_type": "code",
   "execution_count": 171,
   "metadata": {
    "execution": {
     "iopub.execute_input": "2024-04-15T13:08:28.935123Z",
     "iopub.status.busy": "2024-04-15T13:08:28.934088Z",
     "iopub.status.idle": "2024-04-15T13:08:28.940728Z",
     "shell.execute_reply": "2024-04-15T13:08:28.940252Z"
    }
   },
   "outputs": [
    {
     "name": "stdout",
     "output_type": "stream",
     "text": [
      "minimizing_constant=0.1666666716337204\n"
     ]
    }
   ],
   "source": [
    "def moving_average(x, w=10):\n",
    "    w = min(w, max(1, len(x) // 10))\n",
    "    return scipy.signal.savgol_filter(x, w, min(3, w - 1))\n",
    "\n",
    "\n",
    "minimizing_constant = F.mse_loss(\n",
    "    torch.tensor([0, 0.5, 1]), torch.tensor([0.5, 0.5, 0.5])\n",
    ").item()\n",
    "print(f\"{minimizing_constant=}\")"
   ]
  },
  {
   "cell_type": "code",
   "execution_count": 172,
   "metadata": {
    "execution": {
     "iopub.execute_input": "2024-04-15T13:08:28.943737Z",
     "iopub.status.busy": "2024-04-15T13:08:28.942738Z",
     "iopub.status.idle": "2024-04-15T13:08:29.051790Z",
     "shell.execute_reply": "2024-04-15T13:08:29.050769Z"
    }
   },
   "outputs": [
    {
     "name": "stderr",
     "output_type": "stream",
     "text": [
      "Evaluation: 100%|██████████| 15/15 [00:00<00:00, 26.27it/s]\n"
     ]
    }
   ],
   "source": [
    "log_data = {\n",
    "    \"Mean Loss\": [],\n",
    "    \"Mean Test Loss\": [],\n",
    "    \"Eval Epoch\": [],\n",
    "    \"Eval Time\": [],\n",
    "    \"Epoch\": [],\n",
    "    \"Time\": [],\n",
    "}\n",
    "\n",
    "best_dict = {}\n",
    "\n",
    "if not LOGGER.new:\n",
    "    best_dict: dict = LOGGER.load_best_dict()\n",
    "    log_data: dict = LOGGER.load(\"log_data\", \"data\")\n",
    "    LOGGER.load(\"net\", \"model\", net, optimizer)\n",
    "\n",
    "else:\n",
    "    # evaluate\n",
    "    mean_test_loss = evaluate(net, test_dataloader)\n",
    "    log_data[\"Mean Test Loss\"].append(mean_test_loss)\n",
    "\n",
    "    log_data[\"Eval Epoch\"].append(0)\n",
    "    log_data[\"Eval Time\"].append(0)\n",
    "\n",
    "    # log\n",
    "\n",
    "    ## models\n",
    "    LOGGER.save(\"net\", \"model\", (net, optimizer))\n",
    "\n",
    "    ## best\n",
    "    best_dict, updated = Logger.update_best_dict(best_dict, mean_test_loss, 0)\n",
    "    if updated:\n",
    "        best_states = (net.state_dict(), optimizer.state_dict())\n",
    "\n",
    "    LOGGER.save_best_dict(best_dict)\n",
    "    LOGGER.save(\"\", \"best\", (best_states, best_dict))\n",
    "\n",
    "    ## data\n",
    "    LOGGER.save(\"log_data\", \"data\", log_data)"
   ]
  },
  {
   "cell_type": "code",
   "execution_count": 173,
   "metadata": {
    "execution": {
     "iopub.execute_input": "2024-04-15T13:08:29.054781Z",
     "iopub.status.busy": "2024-04-15T13:08:29.054781Z",
     "iopub.status.idle": "2024-04-15T13:08:29.073426Z",
     "shell.execute_reply": "2024-04-15T13:08:29.072832Z"
    }
   },
   "outputs": [
    {
     "name": "stderr",
     "output_type": "stream",
     "text": [
      "Evaluation: 100%|██████████| 15/15 [00:00<00:00, 48.08it/s]\n",
      "Evaluation: 100%|██████████| 15/15 [00:00<00:00, 63.03it/s]172]\n",
      "Evaluation: 100%|██████████| 15/15 [00:00<00:00, 80.65it/s]217]\n",
      "Evaluation: 100%|██████████| 15/15 [00:00<00:00, 77.72it/s]201]\n",
      "Evaluation: 100%|██████████| 15/15 [00:00<00:00, 75.00it/s]209]\n",
      "Evaluation: 100%|██████████| 15/15 [00:00<00:00, 77.32it/s]13] \n",
      "Evaluation: 100%|██████████| 15/15 [00:00<00:00, 75.76it/s]229]\n",
      "Evaluation: 100%|██████████| 15/15 [00:00<00:00, 78.53it/s]216]\n",
      "Evaluation: 100%|██████████| 15/15 [00:00<00:00, 76.53it/s]127]\n",
      "Evaluation: 100%|██████████| 15/15 [00:00<00:00, 82.88it/s]201]\n",
      "100%|██████████| 10/10 [00:08<00:00,  1.22it/s, Mean Loss=0.201]\n"
     ]
    },
    {
     "data": {
      "text/plain": [
       "<Figure size 640x480 with 0 Axes>"
      ]
     },
     "metadata": {},
     "output_type": "display_data"
    }
   ],
   "source": [
    "torch.cuda.synchronize()\n",
    "start_time = time.time()\n",
    "time_shift = 0 if len(log_data[\"Time\"]) == 0 else log_data[\"Time\"][-1]\n",
    "epoch_shift = 0 if len(log_data[\"Epoch\"]) == 0 else log_data[\"Epoch\"][-1]\n",
    "\n",
    "best_states = (net.state_dict(), optimizer.state_dict())\n",
    "\n",
    "net.train()\n",
    "epoch_loop = tqdm(range(1 + epoch_shift, 1 + EPOCHS))\n",
    "\n",
    "for i in epoch_loop:\n",
    "    net.train()\n",
    "    optimizer.zero_grad()\n",
    "\n",
    "    batch = next(iter(train_dataloader))\n",
    "    texts, scores = batch\n",
    "\n",
    "    predictions = net(texts)\n",
    "\n",
    "    loss = F.mse_loss(predictions, scores)\n",
    "\n",
    "    loss.backward()\n",
    "\n",
    "    if CLIP_GRAD > 0:\n",
    "        nn.utils.clip_grad_norm_(net.parameters(), CLIP_GRAD)\n",
    "    optimizer.step()\n",
    "\n",
    "    # logging\n",
    "    torch.cuda.synchronize()\n",
    "    elapsed_time = time.time() - start_time + time_shift\n",
    "\n",
    "    log_data[\"Epoch\"].append(i)\n",
    "    log_data[\"Time\"].append(elapsed_time)\n",
    "    log_data[\"Mean Loss\"].append(loss.item())\n",
    "\n",
    "    epoch_loop.set_postfix(\n",
    "        {\n",
    "            \"Mean Loss\": log_data[\"Mean Loss\"][-1],\n",
    "        }\n",
    "    )\n",
    "\n",
    "    # evaluate\n",
    "    if i % EVAL_PERIOD == 0 or i == EPOCHS:\n",
    "        mean_test_loss = evaluate(net, test_dataloader)\n",
    "\n",
    "        # logging\n",
    "        log_data[\"Mean Test Loss\"].append(mean_test_loss)\n",
    "        log_data[\"Eval Epoch\"].append(i)\n",
    "        log_data[\"Eval Time\"].append(elapsed_time)\n",
    "\n",
    "        best_dict, updated = Logger.update_best_dict(best_dict, mean_test_loss, i)\n",
    "        if updated:\n",
    "            best_states = (net.state_dict(), optimizer.state_dict())\n",
    "\n",
    "    # log\n",
    "    if i % LOG_PERIOD == 0 or i == EPOCHS:\n",
    "        LOGGER.update_idx(1)\n",
    "\n",
    "        ## models\n",
    "        LOGGER.save(\"net\", \"model\", (net, optimizer))\n",
    "\n",
    "        ## data\n",
    "        LOGGER.save(\"log_data\", \"data\", log_data)\n",
    "\n",
    "        ## best\n",
    "        LOGGER.save_best_dict(best_dict)\n",
    "        LOGGER.save(\"\", \"best\", (best_states, best_dict))\n",
    "\n",
    "        ## plots\n",
    "        LOGGER.save(\n",
    "            \"\",\n",
    "            \"plots\",\n",
    "            {\n",
    "                \"Epoch\": log_data[\"Epoch\"],\n",
    "                \"Time\": log_data[\"Time\"],\n",
    "                \"Eval Epoch\": log_data[\"Eval Epoch\"],\n",
    "                \"Eval Time\": log_data[\"Eval Time\"],\n",
    "                \"Mean Loss\": moving_average(log_data[\"Mean Loss\"]),\n",
    "                \"Mean Test Loss\": log_data[\"Mean Test Loss\"],\n",
    "                \"Minimizing constant\": minimizing_constant,\n",
    "            },\n",
    "        )\n",
    "\n",
    "epoch_loop.close()"
   ]
  },
  {
   "cell_type": "markdown",
   "metadata": {},
   "source": [
    "## Analysis"
   ]
  },
  {
   "cell_type": "code",
   "execution_count": 174,
   "metadata": {
    "execution": {
     "iopub.execute_input": "2024-04-15T13:08:29.076477Z",
     "iopub.status.busy": "2024-04-15T13:08:29.075436Z",
     "iopub.status.idle": "2024-04-15T13:08:31.088191Z",
     "shell.execute_reply": "2024-04-15T13:08:31.088191Z"
    }
   },
   "outputs": [
    {
     "data": {
      "image/png": "[encoded data removed]",
      "text/plain": [
       "<Figure size 1600x800 with 4 Axes>"
      ]
     },
     "metadata": {},
     "output_type": "display_data"
    }
   ],
   "source": [
    "plots_data = {\n",
    "    \"Epoch\": log_data[\"Epoch\"],\n",
    "    \"Time\": log_data[\"Time\"],\n",
    "    \"Eval Epoch\": log_data[\"Eval Epoch\"],\n",
    "    \"Eval Time\": log_data[\"Eval Time\"],\n",
    "    \"Mean Loss\": moving_average(log_data[\"Mean Loss\"]),\n",
    "    \"Mean Test Loss\": log_data[\"Mean Test Loss\"],\n",
    "    \"Minimizing constant\": minimizing_constant,\n",
    "}\n",
    "\n",
    "plots = LOGGER.log_plots\n",
    "\n",
    "draw_plots(\n",
    "    plots_data,\n",
    "    plots,\n",
    "    plot_width=8,\n",
    "    plot_height=4,\n",
    "    row_plots=2,\n",
    ")"
   ]
  }
 ],
 "metadata": {
  "kernelspec": {
   "display_name": "rl",
   "language": "python",
   "name": "python3"
  },
  "language_info": {
   "codemirror_mode": {
    "name": "ipython",
    "version": 3
   },
   "file_extension": ".py",
   "mimetype": "text/x-python",
   "name": "python",
   "nbconvert_exporter": "python",
   "pygments_lexer": "ipython3",
   "version": "3.11.0"
  }
 },
 "nbformat": 4,
 "nbformat_minor": 2
}
