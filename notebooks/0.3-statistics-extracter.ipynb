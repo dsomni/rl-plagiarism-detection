{
 "cells": [
  {
   "cell_type": "markdown",
   "metadata": {},
   "source": [
    "# Test deletions statistics extractor"
   ]
  },
  {
   "cell_type": "code",
   "execution_count": 1,
   "metadata": {},
   "outputs": [],
   "source": [
    "import contextlib\n",
    "import json\n",
    "import os\n",
    "from collections import Counter\n",
    "\n",
    "import pandas as pd\n",
    "from torchtext.data import get_tokenizer"
   ]
  },
  {
   "cell_type": "markdown",
   "metadata": {},
   "source": [
    "## Utils"
   ]
  },
  {
   "cell_type": "code",
   "execution_count": 2,
   "metadata": {},
   "outputs": [],
   "source": [
    "LOGS_PATH = \"../logs/\"\n",
    "DATA_PATH = \"../generated/datasets\"\n",
    "SAVE_PATH = \"../generated/statistics\"\n",
    "SAVE_EXPERIMENT_PATH = \"../generated/experiments_statistics\"\n",
    "\n",
    "LOGS_DIR: dict[str, str] = {\n",
    "    \"a2c\": \"a2c\",\n",
    "    \"reinforce\": \"reinforce\",\n",
    "    \"dqn\": \"dqn\",\n",
    "    \"cnn1d\": \"cnn_1d\",\n",
    "    \"cnn2d\": \"cnn_2d\",\n",
    "    \"lstm\": \"lstm\",\n",
    "    \"bilstm\": \"lstm_bi\",\n",
    "    \"lstm_attn\": \"lstm_attn\",\n",
    "    \"bilstm_attn\": \"lstm_bi_attn\",\n",
    "}\n",
    "\n",
    "RLS = [\n",
    "    \"a2c\",\n",
    "    \"reinforce\",\n",
    "    \"dqn\",\n",
    "]\n",
    "\n",
    "BASELINES = [\n",
    "    \"cnn1d\",\n",
    "    \"cnn2d\",\n",
    "    \"lstm\",\n",
    "    \"bilstm\",\n",
    "    \"lstm_attn\",\n",
    "    \"bilstm_attn\",\n",
    "]"
   ]
  },
  {
   "cell_type": "code",
   "execution_count": 3,
   "metadata": {},
   "outputs": [],
   "source": [
    "tokenizer = get_tokenizer(\"basic_english\")"
   ]
  },
  {
   "cell_type": "code",
   "execution_count": 4,
   "metadata": {},
   "outputs": [],
   "source": [
    "def load_json(path: str) -> dict:\n",
    "    with open(path, \"r\") as f:\n",
    "        return json.load(f)\n",
    "\n",
    "\n",
    "def save_json(path: str, data) -> None:\n",
    "    with open(path, \"w\") as f:\n",
    "        json.dump(data, f)\n",
    "\n",
    "\n",
    "def soft_mkdir(path: str) -> None:\n",
    "    with contextlib.suppress(Exception):\n",
    "        os.makedirs(path)"
   ]
  },
  {
   "cell_type": "code",
   "execution_count": 5,
   "metadata": {},
   "outputs": [],
   "source": [
    "def save_df(df: pd.DataFrame, path: str):\n",
    "    df.loc[:, ~df.columns.str.contains(\"^Unnamed\")].to_csv(path, index=False)"
   ]
  },
  {
   "cell_type": "markdown",
   "metadata": {},
   "source": [
    "## Calculate test data frequency"
   ]
  },
  {
   "cell_type": "code",
   "execution_count": 6,
   "metadata": {},
   "outputs": [],
   "source": [
    "def get_dataset_name(dataset_size: str) -> str:\n",
    "    if dataset_size == \"\":\n",
    "        return \"test\"\n",
    "    return f\"test_{dataset_size}\"\n",
    "\n",
    "\n",
    "def calculate_frequencies(dataset_name: str) -> Counter:\n",
    "    test_data = pd.read_csv(os.path.join(DATA_PATH, f\"{dataset_name}.csv\"))\n",
    "    sentences = [*test_data.target.to_list(), *test_data.candidate.to_list()]\n",
    "    tokens = [t for x in sentences for t in tokenizer(x)]\n",
    "    return Counter(tokens)\n",
    "\n",
    "\n",
    "def save_frequencies(dataset_name: str, frequencies: Counter):\n",
    "    soft_mkdir(SAVE_PATH)\n",
    "    save_path = os.path.join(SAVE_PATH, f\"{dataset_name}.json\")\n",
    "    save_json(save_path, frequencies)\n",
    "\n",
    "\n",
    "# for size in [\"\", \"sm\",\"md\"]:\n",
    "#   name = get_dataset_name(size)\n",
    "#   save_frequencies(name, calculate_frequencies(name))"
   ]
  },
  {
   "cell_type": "markdown",
   "metadata": {},
   "source": [
    "## Calculate and save experiment statistics"
   ]
  },
  {
   "cell_type": "code",
   "execution_count": 7,
   "metadata": {},
   "outputs": [],
   "source": [
    "def load_experiment_data(model: str, experiment: str, epoch: int) -> tuple[Counter, str]:\n",
    "    experiment_path = os.path.join(LOGS_PATH, model, experiment)\n",
    "    test_size = load_json(os.path.join(experiment_path, \"configs.json\"))[\"TEST_SIZE\"]\n",
    "    statistics = load_json(\n",
    "        os.path.join(experiment_path, \"best\", str(epoch), \"data\", \"test_deletions.json\")\n",
    "    )\n",
    "    return Counter(statistics), test_size\n",
    "\n",
    "\n",
    "def load_frequencies(dataset_size: str) -> Counter:\n",
    "    return Counter(\n",
    "        load_json(os.path.join(SAVE_PATH, f\"{get_dataset_name(dataset_size)}.json\"))\n",
    "    )\n",
    "\n",
    "\n",
    "def build_experiment_statistics(\n",
    "    statistics: Counter, test_frequencies: Counter\n",
    ") -> pd.DataFrame:\n",
    "    results = []\n",
    "    for token, total in test_frequencies.items():\n",
    "        deleted = statistics[token]\n",
    "\n",
    "        results.append((token, deleted, total, deleted / total))\n",
    "\n",
    "    results.sort(key=lambda r: -r[3])\n",
    "    df = pd.DataFrame(results, columns=[\"Token\", \"Deleted\", \"Total\", \"Ratio\"])\n",
    "    return df.sort_values(\n",
    "        [\"Ratio\", \"Total\", \"Token\"], ascending=[False, False, True]\n",
    "    ).reset_index(drop=True)\n",
    "\n",
    "\n",
    "def save_experiment_statistics(\n",
    "    statistics: pd.DataFrame, model: str, experiment: str, epoch: int\n",
    "):\n",
    "    save_path = os.path.join(SAVE_EXPERIMENT_PATH, model, experiment)\n",
    "    soft_mkdir(save_path)\n",
    "    save_df(statistics, os.path.join(save_path, f\"{epoch}.csv\"))\n",
    "\n",
    "\n",
    "def load_save_pipeline(model: str, experiment: str, epoch: int) -> pd.DataFrame:\n",
    "    model_path = LOGS_DIR[model]\n",
    "    statistics, test_size = load_experiment_data(model_path, experiment, epoch)\n",
    "    test_frequencies = load_frequencies(test_size)\n",
    "\n",
    "    res_stats = build_experiment_statistics(statistics, test_frequencies)\n",
    "    save_experiment_statistics(res_stats, model_path, experiment, epoch)\n",
    "    return res_stats"
   ]
  },
  {
   "cell_type": "code",
   "execution_count": 8,
   "metadata": {},
   "outputs": [],
   "source": [
    "# load_save_pipeline(\"a2c\", \"23_04\",1410)\n",
    "# load_save_pipeline(\"reinforce\", \"23_04\",1400)\n",
    "# load_save_pipeline(\"dqn\", \"23_04\",460)\n",
    "# load_save_pipeline(\"dqn\", \"23_04_\",1000)\n",
    "# load_save_pipeline(\"dqn\", \"23_04_2\", 1140)"
   ]
  },
  {
   "cell_type": "markdown",
   "metadata": {},
   "source": [
    "## Compare statistics"
   ]
  },
  {
   "cell_type": "code",
   "execution_count": 16,
   "metadata": {},
   "outputs": [],
   "source": [
    "def load_experiment_statistics(model: str, experiment: str, epoch: int) -> dict:\n",
    "    load_path = os.path.join(SAVE_EXPERIMENT_PATH, model, experiment)\n",
    "    res_dict = {}\n",
    "    df = pd.read_csv(os.path.join(load_path, f\"{epoch}.csv\"))\n",
    "    for _, r in df.iterrows():\n",
    "        res_dict[r[\"Token\"]] = (r[\"Deleted\"], r[\"Total\"], r[\"Ratio\"])\n",
    "    return res_dict\n",
    "\n",
    "\n",
    "def compare_statistics(data: list[tuple[str, str, int]], words: list[str]):\n",
    "    stat_dicts = {m: load_experiment_statistics(m, exp, ep) for (m, exp, ep) in data}\n",
    "\n",
    "    for w in words:\n",
    "        print(w.upper())\n",
    "        for k, d in stat_dicts.items():\n",
    "            print(f\"{k}: {d[w]}\")\n",
    "        print()"
   ]
  },
  {
   "cell_type": "code",
   "execution_count": 126,
   "metadata": {},
   "outputs": [],
   "source": [
    "def statistics_intersection(data: list[tuple[str, str, int]], n: int = 50):\n",
    "    stat_dicts = {m: load_experiment_statistics(m, exp, ep) for (m, exp, ep) in data}\n",
    "    most_sets = [\n",
    "        set(sorted(d.keys(), key=lambda x: -d[x][2])[:n]) for d in stat_dicts.values()\n",
    "    ]\n",
    "    least_sets = [\n",
    "        set(sorted(d.keys(), key=lambda x: +d[x][2])[:n]) for d in stat_dicts.values()\n",
    "    ]\n",
    "    return set.intersection(*most_sets), set.intersection(*least_sets)\n",
    "\n",
    "\n",
    "# b, a = statistics_intersection([(\"reinforce\", \"23_04\",1400), (\"a2c\", \"23_04\",1410), (\"dqn\", \"23_04_2\", 1140)],n=100)\n",
    "# sorted(b,key=len)"
   ]
  },
  {
   "cell_type": "code",
   "execution_count": 127,
   "metadata": {},
   "outputs": [],
   "source": [
    "# [\"say\", \"got\", \"now\", \"who\", \"under\"]\n",
    "# [\"new\",\"must\", \"need\", \"while\", \"understand\"]\n",
    "# [\"the\",\"this\", \"his\",\"no\",\"but\"]"
   ]
  },
  {
   "cell_type": "code",
   "execution_count": 128,
   "metadata": {},
   "outputs": [
    {
     "name": "stdout",
     "output_type": "stream",
     "text": [
      "GOT\n",
      "reinforce: (10, 10, 1.0)\n",
      "a2c: (10, 10, 1.0)\n",
      "dqn: (10, 10, 1.0)\n",
      "\n",
      "NOW\n",
      "reinforce: (9, 9, 1.0)\n",
      "a2c: (9, 9, 1.0)\n",
      "dqn: (9, 9, 1.0)\n",
      "\n",
      "WHO\n",
      "reinforce: (11, 13, 0.8461538461538461)\n",
      "a2c: (13, 13, 1.0)\n",
      "dqn: (10, 13, 0.7692307692307693)\n",
      "\n",
      "UNDER\n",
      "reinforce: (5, 8, 0.625)\n",
      "a2c: (8, 8, 1.0)\n",
      "dqn: (7, 8, 0.875)\n",
      "\n"
     ]
    }
   ],
   "source": [
    "compare_statistics(\n",
    "    [(\"reinforce\", \"23_04\", 1400), (\"a2c\", \"23_04\", 1410), (\"dqn\", \"23_04_2\", 1140)],\n",
    "    [\"got\", \"now\", \"who\", \"under\"],\n",
    ")"
   ]
  },
  {
   "cell_type": "code",
   "execution_count": 129,
   "metadata": {},
   "outputs": [
    {
     "name": "stdout",
     "output_type": "stream",
     "text": [
      "NEW\n",
      "reinforce: (0, 13, 0.0)\n",
      "a2c: (0, 13, 0.0)\n",
      "dqn: (0, 13, 0.0)\n",
      "\n",
      "MUST\n",
      "reinforce: (0, 7, 0.0)\n",
      "a2c: (0, 7, 0.0)\n",
      "dqn: (0, 7, 0.0)\n",
      "\n",
      "NEED\n",
      "reinforce: (0, 5, 0.0)\n",
      "a2c: (0, 5, 0.0)\n",
      "dqn: (0, 5, 0.0)\n",
      "\n",
      "WHILE\n",
      "reinforce: (0, 6, 0.0)\n",
      "a2c: (0, 6, 0.0)\n",
      "dqn: (0, 6, 0.0)\n",
      "\n",
      "UNDERSTAND\n",
      "reinforce: (0, 14, 0.0)\n",
      "a2c: (0, 14, 0.0)\n",
      "dqn: (0, 14, 0.0)\n",
      "\n"
     ]
    }
   ],
   "source": [
    "compare_statistics(\n",
    "    [(\"reinforce\", \"23_04\", 1400), (\"a2c\", \"23_04\", 1410), (\"dqn\", \"23_04_2\", 1140)],\n",
    "    [\"new\", \"must\", \"need\", \"while\", \"understand\"],\n",
    ")"
   ]
  },
  {
   "cell_type": "code",
   "execution_count": 130,
   "metadata": {},
   "outputs": [
    {
     "name": "stdout",
     "output_type": "stream",
     "text": [
      "THE\n",
      "reinforce: (315, 581, 0.5421686746987951)\n",
      "a2c: (563, 581, 0.9690189328743546)\n",
      "dqn: (158, 581, 0.2719449225473322)\n",
      "\n",
      "THIS\n",
      "reinforce: (11, 27, 0.4074074074074074)\n",
      "a2c: (27, 27, 1.0)\n",
      "dqn: (26, 27, 0.9629629629629628)\n",
      "\n",
      "HIS\n",
      "reinforce: (16, 27, 0.5925925925925926)\n",
      "a2c: (27, 27, 1.0)\n",
      "dqn: (16, 27, 0.5925925925925926)\n",
      "\n",
      "NO\n",
      "reinforce: (5, 5, 1.0)\n",
      "a2c: (5, 5, 1.0)\n",
      "dqn: (0, 5, 0.0)\n",
      "\n",
      "BUT\n",
      "reinforce: (10, 20, 0.5)\n",
      "a2c: (20, 20, 1.0)\n",
      "dqn: (18, 20, 0.9)\n",
      "\n"
     ]
    }
   ],
   "source": [
    "compare_statistics(\n",
    "    [(\"reinforce\", \"23_04\", 1400), (\"a2c\", \"23_04\", 1410), (\"dqn\", \"23_04_2\", 1140)],\n",
    "    [\"the\", \"this\", \"his\", \"no\", \"but\"],\n",
    ")"
   ]
  }
 ],
 "metadata": {
  "kernelspec": {
   "display_name": "rl",
   "language": "python",
   "name": "python3"
  },
  "language_info": {
   "codemirror_mode": {
    "name": "ipython",
    "version": 3
   },
   "file_extension": ".py",
   "mimetype": "text/x-python",
   "name": "python",
   "nbconvert_exporter": "python",
   "pygments_lexer": "ipython3",
   "version": "3.11.0"
  }
 },
 "nbformat": 4,
 "nbformat_minor": 2
}
