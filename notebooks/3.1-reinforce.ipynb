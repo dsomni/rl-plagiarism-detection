{
 "cells": [
  {
   "cell_type": "markdown",
   "metadata": {},
   "source": [
    "# REINFORCE for text plagiarism detection"
   ]
  },
  {
   "cell_type": "code",
   "execution_count": 1,
   "metadata": {},
   "outputs": [],
   "source": [
    "import random\n",
    "from itertools import accumulate\n",
    "\n",
    "import matplotlib.pyplot as plt\n",
    "import numpy as np\n",
    "import pandas as pd\n",
    "import scipy\n",
    "import torch\n",
    "import torch.nn as nn\n",
    "import torch.nn.functional as F\n",
    "import torch.optim as optim\n",
    "from torch.utils.data import Dataset\n",
    "from torchtext.data import get_tokenizer\n",
    "from torchtext.vocab import GloVe\n",
    "from tqdm import tqdm"
   ]
  },
  {
   "cell_type": "code",
   "execution_count": 2,
   "metadata": {},
   "outputs": [
    {
     "data": {
      "text/plain": [
       "True"
      ]
     },
     "execution_count": 2,
     "metadata": {},
     "output_type": "execute_result"
    }
   ],
   "source": [
    "torch.cuda.is_available()"
   ]
  },
  {
   "cell_type": "code",
   "execution_count": 3,
   "metadata": {},
   "outputs": [
    {
     "data": {
      "text/plain": [
       "device(type='cuda')"
      ]
     },
     "execution_count": 3,
     "metadata": {},
     "output_type": "execute_result"
    }
   ],
   "source": [
    "DEVICE = torch.device(\"cuda\") or torch.device(\"cpu\")\n",
    "# DEVICE = torch.device(\"cpu\")\n",
    "DEVICE"
   ]
  },
  {
   "cell_type": "markdown",
   "metadata": {},
   "source": [
    "## Utilities"
   ]
  },
  {
   "cell_type": "code",
   "execution_count": 4,
   "metadata": {},
   "outputs": [],
   "source": [
    "GAMMA = 0.99\n",
    "REWARD_STEPS = 0"
   ]
  },
  {
   "cell_type": "code",
   "execution_count": 5,
   "metadata": {},
   "outputs": [],
   "source": [
    "def calculate_qvals_(rewards: list[float], gamma: float = GAMMA) -> np.ndarray:\n",
    "    return np.array(\n",
    "        list(reversed(list(accumulate(reversed(rewards), lambda x, y: gamma * x + y))))\n",
    "    )"
   ]
  },
  {
   "cell_type": "code",
   "execution_count": 6,
   "metadata": {},
   "outputs": [],
   "source": [
    "def calculate_qvals(\n",
    "    rewards: list[float], gamma: float = GAMMA, reward_steps: int = REWARD_STEPS\n",
    ") -> np.ndarray:\n",
    "    rw_steps = reward_steps if reward_steps != 0 else len(rewards)\n",
    "\n",
    "    return np.array(\n",
    "        [\n",
    "            list(\n",
    "                accumulate(\n",
    "                    reversed(rewards[i : i + rw_steps]), lambda x, y: gamma * x + y\n",
    "                )\n",
    "            )[-1]\n",
    "            for i in range(len(rewards))\n",
    "        ]\n",
    "    )"
   ]
  },
  {
   "cell_type": "markdown",
   "metadata": {},
   "source": [
    "## Dataset"
   ]
  },
  {
   "cell_type": "code",
   "execution_count": 7,
   "metadata": {},
   "outputs": [],
   "source": [
    "tokenizer = get_tokenizer(\"basic_english\")\n",
    "global_vectors = GloVe(cache=\"../data\")\n",
    "\n",
    "\n",
    "def text_pipeline(x):\n",
    "    return global_vectors.get_vecs_by_tokens(tokenizer(x), lower_case_backup=True)"
   ]
  },
  {
   "cell_type": "code",
   "execution_count": 8,
   "metadata": {},
   "outputs": [],
   "source": [
    "def read_from_disk(path: str) -> np.ndarray:\n",
    "    return pd.read_csv(path).to_numpy()"
   ]
  },
  {
   "cell_type": "code",
   "execution_count": 9,
   "metadata": {},
   "outputs": [],
   "source": [
    "class PlagiarismDataset(Dataset):\n",
    "    def __init__(self, data: np.ndarray):\n",
    "        targets, candidates, enc_targets, enc_candidates, scores = [], [], [], [], []\n",
    "\n",
    "        for target, candidate, score in data:\n",
    "            targets.append(tokenizer(target))\n",
    "            candidates.append(tokenizer(candidate))\n",
    "            enc_targets.append(text_pipeline(target))\n",
    "            enc_candidates.append(text_pipeline(candidate))\n",
    "            scores.append(score)\n",
    "\n",
    "        self.targets = targets\n",
    "        self.candidates = candidates\n",
    "        self.enc_targets = enc_targets\n",
    "        self.enc_candidates = enc_candidates\n",
    "        self.scores = np.array(scores).astype(np.float16)\n",
    "\n",
    "    def __len__(self):\n",
    "        return len(self.scores)\n",
    "\n",
    "    def __getitem__(\n",
    "        self, idx\n",
    "    ) -> tuple[torch.Tensor, torch.Tensor, torch.Tensor, list, list]:\n",
    "        return (\n",
    "            self.enc_targets[idx].to(DEVICE),\n",
    "            self.enc_candidates[idx].to(DEVICE),\n",
    "            torch.tensor([self.scores[idx]]).float().to(DEVICE),\n",
    "            self.targets[idx],\n",
    "            self.candidates[idx],\n",
    "        )"
   ]
  },
  {
   "cell_type": "code",
   "execution_count": 10,
   "metadata": {},
   "outputs": [
    {
     "name": "stdout",
     "output_type": "stream",
     "text": [
      "len(train_data)=2520\n",
      "len(test_data)=147\n"
     ]
    }
   ],
   "source": [
    "train_data = PlagiarismDataset(read_from_disk(\"../generated/datasets/train_sm.csv\"))\n",
    "test_data = PlagiarismDataset(read_from_disk(\"../generated/datasets/test_sm.csv\"))\n",
    "\n",
    "print(f\"{len(train_data)=}\")\n",
    "print(f\"{len(test_data)=}\")"
   ]
  },
  {
   "cell_type": "code",
   "execution_count": 11,
   "metadata": {},
   "outputs": [],
   "source": [
    "EMBED_DIM = int(global_vectors.dim or 0)\n",
    "LSTM_LAYERS = 1\n",
    "HIDDEN_SIZE = EMBED_DIM"
   ]
  },
  {
   "cell_type": "markdown",
   "metadata": {},
   "source": [
    "## RNet & SRModel"
   ]
  },
  {
   "cell_type": "code",
   "execution_count": 12,
   "metadata": {},
   "outputs": [],
   "source": [
    "class RNetNN(nn.Module):\n",
    "    def __init__(self, input_dim: int, output_dim: int, hidden_dim: int = 128) -> None:\n",
    "        super(RNetNN, self).__init__()\n",
    "\n",
    "        self.net = nn.Sequential(\n",
    "            nn.Linear(input_dim, hidden_dim),\n",
    "            nn.ReLU(),\n",
    "            nn.Dropout(0.5),\n",
    "            nn.Linear(hidden_dim, output_dim),\n",
    "            nn.Sigmoid(),\n",
    "        )\n",
    "\n",
    "    def forward(self, x):\n",
    "        return self.net(x)\n",
    "\n",
    "\n",
    "class RNet:\n",
    "    def __init__(self, lr: float = 1e-2, device=DEVICE):\n",
    "        self.net = RNetNN(2 * LSTM_LAYERS * HIDDEN_SIZE, 1).to(device)\n",
    "        self.loss_fn = F.mse_loss\n",
    "        self.optimizer = optim.Adam(\n",
    "            self.net.parameters(),\n",
    "            lr=lr,\n",
    "        )\n",
    "\n",
    "    def __call__(self, data: torch.Tensor, grad: bool = True) -> torch.Tensor:\n",
    "        if grad:\n",
    "            return self.net(data)\n",
    "        with torch.no_grad():\n",
    "            return self.net(data)\n",
    "\n",
    "\n",
    "class SRModelNN(nn.Module):\n",
    "    def __init__(\n",
    "        self, input_dim: int, hidden_size: int, num_layers: int = LSTM_LAYERS\n",
    "    ) -> None:\n",
    "        super(SRModelNN, self).__init__()\n",
    "\n",
    "        self.net = nn.LSTM(\n",
    "            input_dim,\n",
    "            hidden_size,\n",
    "            num_layers=num_layers,\n",
    "            bidirectional=False,\n",
    "        ).to(DEVICE)\n",
    "\n",
    "    def forward(self, *x):\n",
    "        return self.net(*x)\n",
    "\n",
    "\n",
    "class SRModel:\n",
    "    def __init__(self, lr: float = 1e-2, device=DEVICE):\n",
    "        self.net = SRModelNN(EMBED_DIM, HIDDEN_SIZE).to(device)\n",
    "        self.optimizer = optim.Adam(\n",
    "            self.net.parameters(),\n",
    "            lr=lr,\n",
    "        )\n",
    "\n",
    "        self.device = device\n",
    "\n",
    "    def __call__(self, *data, grad: bool = True) -> torch.Tensor:\n",
    "        if grad:\n",
    "            return self.net(*data)\n",
    "        with torch.no_grad():\n",
    "            return self.net(*data)\n",
    "\n",
    "    def call_batch(self, data, grad: bool = True) -> torch.Tensor:\n",
    "        cat_data = torch.cat(data).view(len(data), 1, -1)\n",
    "        h_c = (\n",
    "            torch.zeros(LSTM_LAYERS, 1, HIDDEN_SIZE).to(self.device),\n",
    "            torch.zeros(LSTM_LAYERS, 1, HIDDEN_SIZE).to(self.device),\n",
    "        )\n",
    "        out, _ = self.__call__(cat_data, h_c, grad=grad)\n",
    "        return out[-1].flatten()"
   ]
  },
  {
   "cell_type": "code",
   "execution_count": 13,
   "metadata": {},
   "outputs": [],
   "source": [
    "rnet = RNet()\n",
    "srm = SRModel()"
   ]
  },
  {
   "cell_type": "code",
   "execution_count": 14,
   "metadata": {},
   "outputs": [],
   "source": [
    "def update_sample(\n",
    "    srm: SRModel,\n",
    "    rnet: RNet,\n",
    "    target: list[torch.Tensor],\n",
    "    candidate: list[torch.Tensor],\n",
    "    score: float,\n",
    "    train_srm: bool = True,\n",
    "    train_rnet: bool = True,\n",
    "):\n",
    "    srm_out_target = srm.call_batch(target, train_srm)\n",
    "    srm_out_candidate = srm.call_batch(candidate, train_srm)\n",
    "\n",
    "    rnet_out = rnet(\n",
    "        torch.cat([srm_out_target, srm_out_candidate]).view(1, -1), grad=train_rnet\n",
    "    )\n",
    "\n",
    "    return rnet_out.squeeze(-1)\n",
    "\n",
    "\n",
    "def update_models(\n",
    "    srm: SRModel,\n",
    "    rnet: RNet,\n",
    "    data: list[tuple[list[torch.Tensor], list[torch.Tensor], float]],\n",
    "    train_srm: bool = True,\n",
    "    train_rnet: bool = True,\n",
    ") -> float:\n",
    "    srm.net.train(train_srm)\n",
    "    rnet.net.train(train_rnet)\n",
    "\n",
    "    srm.optimizer.zero_grad()\n",
    "    rnet.optimizer.zero_grad()\n",
    "\n",
    "    predicts = []\n",
    "    scores = []\n",
    "\n",
    "    for target, candidate, score in data:\n",
    "        predicted = update_sample(\n",
    "            srm, rnet, target, candidate, score, train_srm, train_rnet\n",
    "        )\n",
    "        scores.append(score)\n",
    "        predicts.append(predicted)\n",
    "\n",
    "    score_tensor = torch.FloatTensor(scores).to(DEVICE)\n",
    "    loss = rnet.loss_fn(torch.cat(predicts), score_tensor)\n",
    "\n",
    "    loss.backward()\n",
    "    srm.optimizer.step()\n",
    "    rnet.optimizer.step()\n",
    "\n",
    "    srm.net.train(False)\n",
    "    rnet.net.train(False)\n",
    "\n",
    "    return loss.item()"
   ]
  },
  {
   "cell_type": "markdown",
   "metadata": {},
   "source": [
    "## Environment"
   ]
  },
  {
   "cell_type": "code",
   "execution_count": 15,
   "metadata": {},
   "outputs": [],
   "source": [
    "class Env:\n",
    "    def _get_state(self) -> torch.Tensor:\n",
    "        token = self.data[self.sentence_idx][self.token_idx]\n",
    "        return torch.cat(\n",
    "            [\n",
    "                self.hs[self.sentence_idx].flatten(),\n",
    "                self.cs[self.sentence_idx].flatten(),\n",
    "                token,\n",
    "            ]\n",
    "        ).to(DEVICE)\n",
    "\n",
    "    def _get_reward(self) -> float:\n",
    "        if not self.is_terminal():\n",
    "            return 0.0\n",
    "\n",
    "        rnet_out = self.rnet(self.hs.view(1, -1), grad=False)\n",
    "\n",
    "        score_tensor = torch.FloatTensor([self.data[2]]).to(DEVICE)\n",
    "        loss = self.rnet.loss_fn(rnet_out.squeeze(-1), score_tensor)\n",
    "        self.loss = loss.item()\n",
    "\n",
    "        return -np.log(loss.item() + 1e-8) + self.gamma * self.deleted / self.total_words\n",
    "\n",
    "    def __init__(\n",
    "        self,\n",
    "        dataset: Dataset,\n",
    "        srm: SRModel,\n",
    "        rnet: RNet,\n",
    "        gamma: float = 0.05,\n",
    "        random_sampling: bool = True,\n",
    "    ) -> None:\n",
    "        self.srm = srm\n",
    "        self.rnet = rnet\n",
    "\n",
    "        self.gamma = gamma\n",
    "\n",
    "        self.dataset = dataset\n",
    "\n",
    "        self.random_sampling = random_sampling\n",
    "        self.idx = -1\n",
    "\n",
    "        self.reset()\n",
    "\n",
    "    def reset(self, idx: int = -1) -> torch.Tensor:\n",
    "        self.loss = -1\n",
    "\n",
    "        self.steps = 0\n",
    "\n",
    "        self.sentence_idx = 0\n",
    "        self.token_idx = 0\n",
    "\n",
    "        if self.random_sampling:\n",
    "            self.idx = np.random.randint(len(self.dataset))\n",
    "        elif idx >= 0:\n",
    "            self.idx = idx\n",
    "        else:\n",
    "            self.idx = (self.idx + 1) % len(self.dataset)\n",
    "\n",
    "        self.data = self.dataset[self.idx]\n",
    "\n",
    "        self.total_words = len(self.data[0]) + len(self.data[1])\n",
    "        self.deleted = 0\n",
    "\n",
    "        self.hs = torch.zeros((2, LSTM_LAYERS, HIDDEN_SIZE)).to(DEVICE)\n",
    "        self.cs = torch.zeros((2, LSTM_LAYERS, HIDDEN_SIZE)).to(DEVICE)\n",
    "\n",
    "        self.used_tokens: list[list[torch.Tensor]] = [[], []]\n",
    "\n",
    "        return self.get_state()\n",
    "\n",
    "    def get_state(self) -> torch.Tensor:\n",
    "        return self._get_state()\n",
    "\n",
    "    def is_terminal(self) -> bool:\n",
    "        return self.sentence_idx == 1 and self.token_idx == (len(self.data[1]) - 1)\n",
    "\n",
    "    def interact(self, action: int) -> tuple[torch.Tensor, float, bool]:\n",
    "        # 0 - retain\n",
    "        # 1 - delete\n",
    "\n",
    "        if self.is_terminal():\n",
    "            return self._get_state(), 0, self.is_terminal()\n",
    "\n",
    "        if action == 1:\n",
    "            self.deleted += 1\n",
    "\n",
    "        elif action == 0:\n",
    "            token = self.data[self.sentence_idx][self.token_idx]\n",
    "            self.used_tokens[self.sentence_idx].append(token.clone().detach())\n",
    "\n",
    "            h_c = (\n",
    "                self.hs[self.sentence_idx].clone().detach(),\n",
    "                self.cs[self.sentence_idx].clone().detach(),\n",
    "            )\n",
    "\n",
    "            _, (h, c) = self.srm(token.view(1, -1), h_c, grad=False)\n",
    "            self.hs[self.sentence_idx] = h.clone().detach()\n",
    "            self.cs[self.sentence_idx] = c.clone().detach()\n",
    "\n",
    "        self.steps += 1\n",
    "        self.token_idx += 1\n",
    "        if self.sentence_idx == 0 and self.token_idx >= len(self.data[0]):\n",
    "            self.sentence_idx = 1\n",
    "            self.token_idx = 0\n",
    "\n",
    "        return self._get_state(), self._get_reward(), self.is_terminal()\n",
    "\n",
    "    def get_tokens_info(self) -> tuple[list[torch.Tensor], list[torch.Tensor], float]:\n",
    "        target_tokens, candidate_tokens = self.used_tokens\n",
    "        return (target_tokens, candidate_tokens, self.data[2].item())\n",
    "\n",
    "    def get_observation_shape(self) -> int:\n",
    "        return 2 * LSTM_LAYERS * HIDDEN_SIZE + EMBED_DIM\n",
    "\n",
    "    def get_actions_shape(self) -> int:\n",
    "        return 2"
   ]
  },
  {
   "cell_type": "code",
   "execution_count": 16,
   "metadata": {},
   "outputs": [],
   "source": [
    "_env = Env(test_data, srm, rnet)"
   ]
  },
  {
   "cell_type": "markdown",
   "metadata": {},
   "source": [
    "## Policy Gradient Network"
   ]
  },
  {
   "cell_type": "code",
   "execution_count": 17,
   "metadata": {},
   "outputs": [],
   "source": [
    "class PGN(nn.Module):\n",
    "    def __init__(self, input_dim: int, output_dim: int, hidden_dim: int = 16) -> None:\n",
    "        super(PGN, self).__init__()\n",
    "\n",
    "        self.net = nn.Sequential(\n",
    "            nn.Linear(input_dim, hidden_dim),\n",
    "            nn.ReLU(),\n",
    "            nn.Linear(hidden_dim, output_dim),\n",
    "        )\n",
    "\n",
    "    def forward(self, x):\n",
    "        return self.net(x)"
   ]
  },
  {
   "cell_type": "markdown",
   "metadata": {},
   "source": [
    "## Agent"
   ]
  },
  {
   "cell_type": "code",
   "execution_count": 18,
   "metadata": {},
   "outputs": [],
   "source": [
    "class Agent:\n",
    "    def choose_action(self, action_logits):\n",
    "        return random.choices(range(len(action_logits)), F.softmax(action_logits, dim=0))[\n",
    "            0\n",
    "        ]\n",
    "\n",
    "    def choose_optimal_action(self, action_logits) -> int:\n",
    "        return int(np.argmax(F.softmax(action_logits, dim=0).cpu()).item())"
   ]
  },
  {
   "cell_type": "markdown",
   "metadata": {},
   "source": [
    "## Trajectory Buffer"
   ]
  },
  {
   "cell_type": "code",
   "execution_count": 19,
   "metadata": {},
   "outputs": [],
   "source": [
    "class TrajectoryBuffer:\n",
    "    \"\"\"\n",
    "    Buffer class to store the experience from a unique policy\n",
    "    \"\"\"\n",
    "\n",
    "    def __init__(self):\n",
    "        self.states = []\n",
    "        self.actions = []\n",
    "        self.rewards = []\n",
    "        self.discounted_rewards = []\n",
    "        self.discounted_baseline_rewards = []\n",
    "\n",
    "        self.tokens_data = []\n",
    "\n",
    "    def store(\n",
    "        self,\n",
    "        states_trajectory: np.ndarray,\n",
    "        trajectory: np.ndarray,\n",
    "        tokens_info: tuple[list[torch.Tensor], list[torch.Tensor], float],\n",
    "    ):\n",
    "        \"\"\"\n",
    "        Add trajectory values to the buffers and compute the advantage and reward to go\n",
    "\n",
    "        Parameters:\n",
    "        -----------\n",
    "        states_trajectory:  list that contains states\n",
    "        trajectory: list where each element is a list that contains: reward, action\n",
    "        tokens_info: (target_tokens, candidate_tokens, score)\n",
    "        \"\"\"\n",
    "        assert len(states_trajectory) == len(trajectory)\n",
    "\n",
    "        if len(states_trajectory) > 0:\n",
    "            self.tokens_data.append(tokens_info)\n",
    "\n",
    "            self.states.extend(states_trajectory)\n",
    "            self.rewards.extend(trajectory[:, 0])\n",
    "            discounted_rewards = calculate_qvals(trajectory[:, 0])\n",
    "\n",
    "            # BASELINE\n",
    "            # b = trajectory[:,0].mean() # avg for rewards in trajectory\n",
    "            # b = np.mean(self.rewards)  # avg for all rewards in episode\n",
    "            # b = np.mean(discounted_rewards)  #\n",
    "\n",
    "            self.actions.extend(trajectory[:, 1])\n",
    "            self.discounted_rewards.extend(discounted_rewards)\n",
    "            # self.discounted_baseline_rewards.extend(discounted_rewards - b)\n",
    "            # self.discounted_baseline_rewards.extend((discounted_rewards - np.mean(discounted_rewards))/(np.std(discounted_rewards) + 1e-10))\n",
    "\n",
    "    def get_batch(self):\n",
    "        # return self.states, self.actions, self.discounted_baseline_rewards\n",
    "        return self.states, self.actions, self.discounted_rewards, self.tokens_data\n",
    "\n",
    "    def __len__(self):\n",
    "        assert (\n",
    "            len(self.states) == len(self.actions) == len(self.discounted_rewards)\n",
    "            # == len(self.discounted_baseline_rewards)\n",
    "        )\n",
    "        return len(self.states)"
   ]
  },
  {
   "cell_type": "markdown",
   "metadata": {},
   "source": [
    "## Evaluation"
   ]
  },
  {
   "cell_type": "code",
   "execution_count": 20,
   "metadata": {},
   "outputs": [],
   "source": [
    "def evaluate(\n",
    "    srm: SRModel,\n",
    "    rnet: RNet,\n",
    "    pgn: nn.Module,\n",
    "    agent: Agent,\n",
    "    data: Dataset,\n",
    "    verbose: bool = True,\n",
    ") -> list[float]:\n",
    "    srm.net.eval()\n",
    "    rnet.net.eval()\n",
    "    pgn.eval()\n",
    "\n",
    "    losses = []\n",
    "\n",
    "    eval_env = Env(data, srm, rnet, random_sampling=False)\n",
    "\n",
    "    iteration = 0\n",
    "    state = eval_env.reset(0)\n",
    "    loop = tqdm(total=len(data), desc=\"Evaluation\", disable=not verbose, leave=False)\n",
    "    while iteration < len(data):\n",
    "        # break\n",
    "        with torch.no_grad():\n",
    "            action_logits = pgn(state)\n",
    "\n",
    "        action = agent.choose_optimal_action(action_logits)\n",
    "        state2, _, done = eval_env.interact(action)\n",
    "        state = state2.clone().detach()\n",
    "\n",
    "        if done:\n",
    "            iteration += 1\n",
    "            losses.append(eval_env.loss)\n",
    "            state = eval_env.reset()\n",
    "\n",
    "            loop.update(1)\n",
    "            loop.set_postfix(\n",
    "                {\n",
    "                    \"Mean loss\": np.mean(losses),\n",
    "                }\n",
    "            )\n",
    "    loop.close()\n",
    "    return losses"
   ]
  },
  {
   "cell_type": "markdown",
   "metadata": {},
   "source": [
    "## Training"
   ]
  },
  {
   "cell_type": "code",
   "execution_count": 21,
   "metadata": {},
   "outputs": [],
   "source": [
    "LEARNING_RATE = 0.005\n",
    "\n",
    "np.random.seed(42)\n",
    "torch.manual_seed(42)\n",
    "\n",
    "env = Env(test_data, srm, rnet)\n",
    "pgn = PGN(input_dim=env.get_observation_shape(), output_dim=env.get_actions_shape()).to(\n",
    "    DEVICE\n",
    ")\n",
    "agent = Agent()\n",
    "optimizer = optim.Adam(pgn.parameters(), lr=LEARNING_RATE)"
   ]
  },
  {
   "cell_type": "code",
   "execution_count": 22,
   "metadata": {},
   "outputs": [],
   "source": [
    "# EPOCHS = 3000\n",
    "EPOCHS = 5\n",
    "# STEPS_PER_EPOCH = 100\n",
    "EPISODES_PER_EPOCH = 10\n",
    "\n",
    "CLIP_GRAD = 0.1\n",
    "ENTROPY_BETA = 0.01"
   ]
  },
  {
   "cell_type": "code",
   "execution_count": 23,
   "metadata": {},
   "outputs": [
    {
     "name": "stderr",
     "output_type": "stream",
     "text": [
      "Epoch #1:   0%|          | 0/10 [00:00<?, ?it/s]"
     ]
    },
    {
     "name": "stderr",
     "output_type": "stream",
     "text": [
      "Epoch #1: 100%|██████████| 10/10 [00:11<00:00,  1.14s/it, Mean reward=8.98, Mean Loss=-.0208, Mean Entropy=0.69, Mean Models Loss=0.0753, Mean Test Loss=0.167]\n",
      "Epoch #2: 100%|██████████| 10/10 [00:08<00:00,  1.23it/s, Mean reward=1.97, Mean Loss=-.0136, Mean Entropy=0.675, Mean Models Loss=0.224, Mean Test Loss=0.167]\n",
      "Epoch #3: 100%|██████████| 10/10 [00:07<00:00,  1.38it/s, Mean reward=1.94, Mean Loss=-.00153, Mean Entropy=0.673, Mean Models Loss=0.193, Mean Test Loss=0.167]\n",
      "Epoch #4: 100%|██████████| 10/10 [00:07<00:00,  1.39it/s, Mean reward=2.35, Mean Loss=-.00488, Mean Entropy=0.684, Mean Models Loss=0.205, Mean Test Loss=0.166]\n",
      "Epoch #5: 100%|██████████| 10/10 [00:07<00:00,  1.25it/s, Mean reward=2.84, Mean Loss=0.00981, Mean Entropy=0.676, Mean Models Loss=0.177, Mean Test Loss=0.166]\n"
     ]
    }
   ],
   "source": [
    "step_count = 0\n",
    "train_rewards = []\n",
    "train_ep_len = []\n",
    "\n",
    "mean_epoch_rewards = []\n",
    "mean_epoch_ep_len = []\n",
    "epoch_loss = []\n",
    "epoch_entropy = []\n",
    "\n",
    "epoch_mean_test_losses = []\n",
    "\n",
    "epoch_models_loss = []\n",
    "\n",
    "\n",
    "probs = []\n",
    "\n",
    "\n",
    "for i in range(1, EPOCHS + 1):\n",
    "    state = env.reset()\n",
    "    buffer = TrajectoryBuffer()\n",
    "    env_states_buf, env_rew_act_buf = [], []\n",
    "    ep_rewards = []\n",
    "\n",
    "    train_logs_shift = len(train_rewards)  # for logging\n",
    "    done_episodes = 0\n",
    "\n",
    "    # while len(buffer) < STEPS_PER_EPOCH:\n",
    "    epoch_loop = tqdm(total=EPISODES_PER_EPOCH, desc=f\"Epoch #{i}\")\n",
    "    while done_episodes < EPISODES_PER_EPOCH:\n",
    "        with torch.no_grad():\n",
    "            action_logits = pgn(state)\n",
    "\n",
    "        action = agent.choose_action(action_logits)\n",
    "        state2, reward, done = env.interact(action)\n",
    "\n",
    "        env_states_buf.append(state.cpu().clone().detach().numpy())\n",
    "        env_rew_act_buf.append([reward, int(action)])\n",
    "\n",
    "        state = state2.clone().detach()\n",
    "\n",
    "        step_count += 1\n",
    "        ep_rewards.append(reward)\n",
    "\n",
    "        if done:\n",
    "            buffer.store(\n",
    "                np.array(env_states_buf), np.array(env_rew_act_buf), env.get_tokens_info()\n",
    "            )\n",
    "            env_states_buf, env_rew_act_buf = [], []\n",
    "\n",
    "            train_rewards.append(np.sum(ep_rewards))\n",
    "            train_ep_len.append(len(ep_rewards))\n",
    "\n",
    "            state = env.reset()\n",
    "            ep_rewards = []\n",
    "            done_episodes += 1\n",
    "            epoch_loop.update(1)\n",
    "\n",
    "    state_batch, action_batch, reward_batch, tokens_data = buffer.get_batch()\n",
    "\n",
    "    # baseline\n",
    "    # reward_batch -= np.mean(buffer.discounted_rewards)\n",
    "    reward_batch = np.array(reward_batch) - np.mean(buffer.discounted_rewards)\n",
    "\n",
    "    # Update RNet & SRModel\n",
    "    models_loss = update_models(env.srm, env.rnet, tokens_data)\n",
    "\n",
    "    # Update PGN\n",
    "    optimizer.zero_grad()\n",
    "    states_t = torch.FloatTensor(np.array(state_batch)).to(DEVICE)\n",
    "    batch_actions_t = torch.LongTensor(action_batch).to(DEVICE)\n",
    "    batch_qvals_t = torch.FloatTensor(reward_batch).to(DEVICE)\n",
    "\n",
    "    logits_v = pgn(states_t)\n",
    "    log_prob_v = F.log_softmax(logits_v, dim=1)\n",
    "\n",
    "    log_prob_actions_v = batch_qvals_t * log_prob_v[range(len(states_t)), batch_actions_t]\n",
    "    loss_policy_v = -log_prob_actions_v.mean()\n",
    "\n",
    "    prob_v = F.softmax(logits_v, dim=1)\n",
    "    entropy_v = (prob_v * log_prob_v).sum(dim=1).mean()\n",
    "    entropy_loss_v = ENTROPY_BETA * entropy_v\n",
    "    loss_v = loss_policy_v + entropy_loss_v\n",
    "\n",
    "    loss_v.backward()\n",
    "\n",
    "    nn.utils.clip_grad_norm_(pgn.parameters(), CLIP_GRAD)\n",
    "    optimizer.step()\n",
    "\n",
    "    # evaluate\n",
    "    test_losses = evaluate(srm, rnet, pgn, agent, test_data)\n",
    "\n",
    "    # logging\n",
    "    probs.append(prob_v.detach().cpu().numpy())\n",
    "    mean_epoch_rewards.append(np.mean(train_rewards[train_logs_shift:]))\n",
    "    mean_epoch_ep_len.append(np.mean(train_ep_len[train_logs_shift:]))\n",
    "    epoch_loss.append(loss_v.item())\n",
    "    epoch_entropy.append(-entropy_v.item())\n",
    "    epoch_models_loss.append(models_loss)\n",
    "    epoch_mean_test_losses.append(np.mean(test_losses))\n",
    "\n",
    "    epoch_loop.set_postfix(\n",
    "        {\n",
    "            \"Mean reward\": mean_epoch_rewards[-1],\n",
    "            # \"Mean ep len\": mean_epoch_ep_len[-1],\n",
    "            \"Mean Loss\": epoch_loss[-1],\n",
    "            \"Mean Entropy\": epoch_entropy[-1],\n",
    "            \"Mean Models Loss\": epoch_models_loss[-1],\n",
    "            \"Mean Test Loss\": epoch_mean_test_losses[-1],\n",
    "        }\n",
    "    )\n",
    "    # if epoch_loss[-1] < 0:\n",
    "    #     print(loss_v.item())\n",
    "    #     break\n",
    "    epoch_loop.close()"
   ]
  },
  {
   "cell_type": "code",
   "execution_count": 24,
   "metadata": {},
   "outputs": [
    {
     "data": {
      "text/plain": [
       "0.6931471805599453"
      ]
     },
     "execution_count": 24,
     "metadata": {},
     "output_type": "execute_result"
    }
   ],
   "source": [
    "def get_uniform_entropy(n_actions: int):\n",
    "    probs = np.array([1 / n_actions for _ in range(n_actions)])\n",
    "    return -np.sum(probs * np.log(probs))\n",
    "\n",
    "\n",
    "uniform_entropy = get_uniform_entropy(env.get_actions_shape())\n",
    "uniform_entropy"
   ]
  },
  {
   "cell_type": "code",
   "execution_count": 25,
   "metadata": {},
   "outputs": [
    {
     "data": {
      "text/plain": [
       "array([1. , 2.5, 3.5, 4. ])"
      ]
     },
     "execution_count": 25,
     "metadata": {},
     "output_type": "execute_result"
    }
   ],
   "source": [
    "def moving_average(x, w=min(10, EPOCHS)):\n",
    "    # return np.convolve(x, np.ones(w), 'same') / w\n",
    "    return scipy.signal.savgol_filter(x, w, min(3, w - 1))\n",
    "\n",
    "\n",
    "moving_average([1, 2, 3, 4], 2)"
   ]
  },
  {
   "cell_type": "code",
   "execution_count": 26,
   "metadata": {},
   "outputs": [
    {
     "data": {
      "text/plain": [
       "[]"
      ]
     },
     "execution_count": 26,
     "metadata": {},
     "output_type": "execute_result"
    },
    {
     "data": {
      "image/png": "[encoded data removed]",
      "text/plain": [
       "<Figure size 800x1200 with 5 Axes>"
      ]
     },
     "metadata": {},
     "output_type": "display_data"
    }
   ],
   "source": [
    "fig, axs = plt.subplots(5, 1, figsize=(8, 12))\n",
    "\n",
    "# Mean Reward per epoch\n",
    "\n",
    "axs[0].plot(range(EPOCHS), moving_average(mean_epoch_rewards))\n",
    "axs[0].set_xlabel(\"# epoch\")\n",
    "axs[0].set_ylabel(\"mean reward\")\n",
    "\n",
    "# # Mean Episode length per epoch\n",
    "# axs[1].plot(range(EPOCHS), moving_average(mean_epoch_ep_len))\n",
    "# axs[1].set_xlabel(\"# episode\")\n",
    "# axs[1].set_ylabel(\"mean episode length\")\n",
    "\n",
    "\n",
    "# Mean Models loss\n",
    "axs[1].plot(range(EPOCHS), moving_average(epoch_models_loss))\n",
    "axs[1].set_xlabel(\"# episode\")\n",
    "axs[1].set_ylabel(\"models loss\")\n",
    "\n",
    "# Epoch loss\n",
    "axs[2].plot(range(EPOCHS), moving_average(epoch_loss))\n",
    "axs[2].set_xlabel(\"# epoch\")\n",
    "axs[2].set_ylabel(\"loss\")\n",
    "\n",
    "\n",
    "# Test loss\n",
    "axs[3].plot(range(EPOCHS), moving_average(epoch_mean_test_losses))\n",
    "axs[3].set_xlabel(\"# epoch\")\n",
    "axs[3].set_ylabel(\"test loss\")\n",
    "\n",
    "\n",
    "# Epoch entropy\n",
    "axs[4].plot(range(EPOCHS), moving_average(epoch_entropy))\n",
    "axs[4].plot(range(EPOCHS), [uniform_entropy] * EPOCHS)\n",
    "axs[4].set_xlabel(\"# episode\")\n",
    "axs[4].set_ylabel(\"entropy\")\n",
    "\n",
    "plt.tight_layout()\n",
    "plt.plot()"
   ]
  }
 ],
 "metadata": {
  "kernelspec": {
   "display_name": "rl",
   "language": "python",
   "name": "python3"
  },
  "language_info": {
   "codemirror_mode": {
    "name": "ipython",
    "version": 3
   },
   "file_extension": ".py",
   "mimetype": "text/x-python",
   "name": "python",
   "nbconvert_exporter": "python",
   "pygments_lexer": "ipython3",
   "version": "3.11.0"
  }
 },
 "nbformat": 4,
 "nbformat_minor": 2
}
