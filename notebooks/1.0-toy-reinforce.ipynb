{
 "cells": [
  {
   "cell_type": "markdown",
   "metadata": {},
   "source": [
    "# Toy REINFORCE playground"
   ]
  },
  {
   "cell_type": "code",
   "execution_count": 1,
   "metadata": {},
   "outputs": [],
   "source": [
    "import random\n",
    "from itertools import accumulate\n",
    "\n",
    "import torch\n",
    "import torch.nn as nn\n",
    "import torch.nn.functional as F"
   ]
  },
  {
   "cell_type": "code",
   "execution_count": 2,
   "metadata": {},
   "outputs": [
    {
     "data": {
      "text/plain": [
       "True"
      ]
     },
     "execution_count": 2,
     "metadata": {},
     "output_type": "execute_result"
    }
   ],
   "source": [
    "torch.cuda.is_available()"
   ]
  },
  {
   "cell_type": "markdown",
   "metadata": {},
   "source": [
    "## Utilities"
   ]
  },
  {
   "cell_type": "code",
   "execution_count": 3,
   "metadata": {},
   "outputs": [],
   "source": [
    "GAMMA = 0.99"
   ]
  },
  {
   "cell_type": "code",
   "execution_count": 7,
   "metadata": {},
   "outputs": [],
   "source": [
    "def calculate_qvals(rewards: list[float], gamma: float = GAMMA) -> list[float]:\n",
    "    return list(reversed(list(accumulate(reversed(rewards), lambda x, y: gamma * x + y))))"
   ]
  },
  {
   "cell_type": "markdown",
   "metadata": {},
   "source": [
    "## Environment"
   ]
  },
  {
   "cell_type": "code",
   "execution_count": 8,
   "metadata": {},
   "outputs": [],
   "source": [
    "class BlackJack:\n",
    "    def _get_reward(self) -> float:\n",
    "        if self.score < self.win_score:\n",
    "            return self.step_penalty\n",
    "        if self.score == self.win_score:\n",
    "            return self.win_reward\n",
    "        return self.loose_reward\n",
    "\n",
    "    def __init__(self) -> None:\n",
    "        self.actions_dict = {0: 1, 1: 5, 2: 10}\n",
    "        self.win_score = 101\n",
    "\n",
    "        self.win_reward = 1000\n",
    "        self.step_penalty = -5\n",
    "        self.loose_reward = -1000\n",
    "\n",
    "    def reset(self):\n",
    "        self.score = random.randint(0, self.win_score - 1)\n",
    "        self.steps = 0\n",
    "\n",
    "    def interact(self, action: int) -> tuple[int, float]:\n",
    "        self.score += self.actions_dict[action]\n",
    "        self.steps += 1\n",
    "\n",
    "        return [self.score], self._get_reward()\n",
    "\n",
    "    def is_terminal(self) -> bool:\n",
    "        return self.reward >= self.win_reward\n",
    "\n",
    "    def get_observation_shape(self) -> int:\n",
    "        return 1\n",
    "\n",
    "    def get_actions_shape(self) -> int:\n",
    "        return len(self.actions_dict)"
   ]
  },
  {
   "cell_type": "markdown",
   "metadata": {},
   "source": [
    "## Policy Gradient Network"
   ]
  },
  {
   "cell_type": "code",
   "execution_count": null,
   "metadata": {},
   "outputs": [],
   "source": [
    "class PGN(nn.Module):\n",
    "    def __init__(self, input_dim: int, output_dim: int) -> None:\n",
    "        super(PGN, self).__init__()\n",
    "\n",
    "        self.net = nn.Sequential(\n",
    "            nn.Linear(input_dim, 128), nn.ReLU(), nn.Linear(127, output_dim)\n",
    "        )\n",
    "\n",
    "    def forward(self, x):\n",
    "        return self.net(x)"
   ]
  },
  {
   "cell_type": "markdown",
   "metadata": {},
   "source": [
    "## Agent"
   ]
  },
  {
   "cell_type": "code",
   "execution_count": 44,
   "metadata": {},
   "outputs": [],
   "source": [
    "class Agent:\n",
    "    def choose_action(self, action_logits):\n",
    "        return random.choices(range(len(action_logits)), F.softmax(action_logits, dim=0))"
   ]
  },
  {
   "cell_type": "markdown",
   "metadata": {},
   "source": [
    "## Training"
   ]
  },
  {
   "cell_type": "code",
   "execution_count": null,
   "metadata": {},
   "outputs": [],
   "source": [
    "LEARNING_RATE = 0.01\n",
    "EPISODES_TO_TRAIN = 4"
   ]
  }
 ],
 "metadata": {
  "kernelspec": {
   "display_name": "rl",
   "language": "python",
   "name": "python3"
  },
  "language_info": {
   "codemirror_mode": {
    "name": "ipython",
    "version": 3
   },
   "file_extension": ".py",
   "mimetype": "text/x-python",
   "name": "python",
   "nbconvert_exporter": "python",
   "pygments_lexer": "ipython3",
   "version": "3.11.0"
  }
 },
 "nbformat": 4,
 "nbformat_minor": 2
}
