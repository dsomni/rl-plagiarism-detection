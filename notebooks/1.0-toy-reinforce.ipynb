{
 "cells": [
  {
   "cell_type": "markdown",
   "metadata": {},
   "source": [
    "# Toy REINFORCE playground"
   ]
  },
  {
   "cell_type": "code",
   "execution_count": 5,
   "metadata": {},
   "outputs": [],
   "source": [
    "import random\n",
    "\n",
    "import torch"
   ]
  },
  {
   "cell_type": "code",
   "execution_count": 2,
   "metadata": {},
   "outputs": [
    {
     "data": {
      "text/plain": [
       "True"
      ]
     },
     "execution_count": 2,
     "metadata": {},
     "output_type": "execute_result"
    }
   ],
   "source": [
    "torch.cuda.is_available()"
   ]
  },
  {
   "cell_type": "markdown",
   "metadata": {},
   "source": [
    "## Environment"
   ]
  },
  {
   "cell_type": "code",
   "execution_count": null,
   "metadata": {},
   "outputs": [],
   "source": [
    "class BlackJack:\n",
    "    def _get_reward(self) -> float:\n",
    "        if self.score < self.win_score:\n",
    "            return self.step_penalty\n",
    "        if self.score == self.win_score:\n",
    "            return self.win_reward\n",
    "        return self.loose_reward\n",
    "\n",
    "    def __init__(self) -> None:\n",
    "        self.actions_dict = {0: 1, 1: 5, 2: 10}\n",
    "        self.win_score = 101\n",
    "\n",
    "        self.win_reward = 1000\n",
    "        self.step_penalty = -5\n",
    "        self.loose_reward = -1000\n",
    "\n",
    "    def reset(self):\n",
    "        self.score = random.randint(0, self.win_score - 1)\n",
    "        self.steps = 0\n",
    "\n",
    "    def interact(self, action: int) -> tuple[int, float]:\n",
    "        self.score += self.actions_dict[action]\n",
    "        self.steps += 1\n",
    "\n",
    "        return self.score, self._get_reward()\n",
    "\n",
    "    def is_terminal(self) -> bool:\n",
    "        return self.reward >= self.win_reward"
   ]
  }
 ],
 "metadata": {
  "kernelspec": {
   "display_name": "rl",
   "language": "python",
   "name": "python3"
  },
  "language_info": {
   "codemirror_mode": {
    "name": "ipython",
    "version": 3
   },
   "file_extension": ".py",
   "mimetype": "text/x-python",
   "name": "python",
   "nbconvert_exporter": "python",
   "pygments_lexer": "ipython3",
   "version": "3.11.0"
  }
 },
 "nbformat": 4,
 "nbformat_minor": 2
}
