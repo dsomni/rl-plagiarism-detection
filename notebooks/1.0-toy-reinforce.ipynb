{
 "cells": [
  {
   "cell_type": "markdown",
   "metadata": {},
   "source": [
    "# Toy REINFORCE playground"
   ]
  },
  {
   "cell_type": "code",
   "execution_count": 47,
   "metadata": {},
   "outputs": [],
   "source": [
    "import random\n",
    "from itertools import accumulate\n",
    "\n",
    "import torch\n",
    "import torch.nn as nn\n",
    "import torch.nn.functional as F\n",
    "import torch.optim as optim"
   ]
  },
  {
   "cell_type": "code",
   "execution_count": 48,
   "metadata": {},
   "outputs": [
    {
     "data": {
      "text/plain": [
       "True"
      ]
     },
     "execution_count": 48,
     "metadata": {},
     "output_type": "execute_result"
    }
   ],
   "source": [
    "torch.cuda.is_available()"
   ]
  },
  {
   "cell_type": "markdown",
   "metadata": {},
   "source": [
    "## Utilities"
   ]
  },
  {
   "cell_type": "code",
   "execution_count": 49,
   "metadata": {},
   "outputs": [],
   "source": [
    "GAMMA = 0.99"
   ]
  },
  {
   "cell_type": "code",
   "execution_count": 50,
   "metadata": {},
   "outputs": [],
   "source": [
    "def calculate_qvals(rewards: list[float], gamma: float = GAMMA) -> list[float]:\n",
    "    return list(reversed(list(accumulate(reversed(rewards), lambda x, y: gamma * x + y))))"
   ]
  },
  {
   "cell_type": "markdown",
   "metadata": {},
   "source": [
    "## Environment"
   ]
  },
  {
   "cell_type": "code",
   "execution_count": 51,
   "metadata": {},
   "outputs": [],
   "source": [
    "class BlackJack:\n",
    "    def _get_reward(self) -> float:\n",
    "        if self.score < self.win_score:\n",
    "            return self.step_penalty\n",
    "        if self.score == self.win_score:\n",
    "            return self.win_reward\n",
    "        return self.loose_reward\n",
    "\n",
    "    def __init__(self) -> None:\n",
    "        self.actions_dict = {0: 1, 1: 5, 2: 10}\n",
    "        self.win_score = 101\n",
    "\n",
    "        self.win_reward = 1000\n",
    "        # self.win_reward = 0\n",
    "        self.step_penalty = -1\n",
    "        self.loose_reward = -100\n",
    "\n",
    "        self.reset()\n",
    "\n",
    "    def reset(self):\n",
    "        self.score = random.randint(0, self.win_score - 1)\n",
    "        # self.score = 85\n",
    "        # self.score = 91\n",
    "        self.steps = 0\n",
    "\n",
    "    def get_state(self) -> list[int]:\n",
    "        return [self.score]\n",
    "\n",
    "    def is_terminal(self) -> bool:\n",
    "        return self.score >= self.win_score\n",
    "\n",
    "    def interact(self, action: int) -> tuple[list[int], float]:\n",
    "        if self.is_terminal():\n",
    "            return [self.score], 0\n",
    "        self.score += self.actions_dict[action]\n",
    "        self.steps += 1\n",
    "\n",
    "        return [self.score], self._get_reward()\n",
    "\n",
    "    def get_observation_shape(self) -> int:\n",
    "        return 1\n",
    "\n",
    "    def get_actions_shape(self) -> int:\n",
    "        return len(self.actions_dict)"
   ]
  },
  {
   "cell_type": "code",
   "execution_count": 52,
   "metadata": {},
   "outputs": [],
   "source": [
    "test_env = BlackJack()"
   ]
  },
  {
   "cell_type": "code",
   "execution_count": 53,
   "metadata": {},
   "outputs": [
    {
     "name": "stdout",
     "output_type": "stream",
     "text": [
      "([42], -1)\n",
      "False\n"
     ]
    }
   ],
   "source": [
    "print(test_env.interact(0))\n",
    "print(test_env.is_terminal())"
   ]
  },
  {
   "cell_type": "markdown",
   "metadata": {},
   "source": [
    "## Policy Gradient Network"
   ]
  },
  {
   "cell_type": "code",
   "execution_count": 54,
   "metadata": {},
   "outputs": [],
   "source": [
    "class PGN(nn.Module):\n",
    "    def __init__(self, input_dim: int, output_dim: int) -> None:\n",
    "        super(PGN, self).__init__()\n",
    "\n",
    "        self.net = nn.Sequential(\n",
    "            nn.Linear(input_dim, 16), nn.ReLU(), nn.Linear(16, output_dim)\n",
    "        )\n",
    "\n",
    "    def forward(self, x):\n",
    "        return self.net(x)"
   ]
  },
  {
   "cell_type": "markdown",
   "metadata": {},
   "source": [
    "## Agent"
   ]
  },
  {
   "cell_type": "code",
   "execution_count": 55,
   "metadata": {},
   "outputs": [
    {
     "data": {
      "text/plain": [
       "1"
      ]
     },
     "execution_count": 55,
     "metadata": {},
     "output_type": "execute_result"
    }
   ],
   "source": [
    "action_logits = torch.FloatTensor([1, 2, 3])\n",
    "random.choices(range(len(action_logits)), F.softmax(action_logits, dim=0))[0]"
   ]
  },
  {
   "cell_type": "code",
   "execution_count": 56,
   "metadata": {},
   "outputs": [],
   "source": [
    "class Agent:\n",
    "    def choose_action(self, action_logits):\n",
    "        return random.choices(range(len(action_logits)), F.softmax(action_logits, dim=0))[\n",
    "            0\n",
    "        ]"
   ]
  },
  {
   "cell_type": "markdown",
   "metadata": {},
   "source": [
    "## Training"
   ]
  },
  {
   "cell_type": "code",
   "execution_count": 57,
   "metadata": {},
   "outputs": [],
   "source": [
    "LEARNING_RATE = 0.01\n",
    "\n",
    "env = BlackJack()\n",
    "net = PGN(input_dim=env.get_observation_shape(), output_dim=env.get_actions_shape())\n",
    "agent = Agent()\n",
    "optimizer = optim.Adam(net.parameters(), lr=LEARNING_RATE)"
   ]
  },
  {
   "cell_type": "code",
   "execution_count": 58,
   "metadata": {},
   "outputs": [],
   "source": [
    "total_rewards = []\n",
    "total_steps = []\n",
    "trajectories = []\n",
    "losses = []\n",
    "\n",
    "batch_episodes = 0\n",
    "cur_rewards = []\n",
    "batch_states, batch_actions, batch_qvals = [], [], []"
   ]
  },
  {
   "cell_type": "code",
   "execution_count": 59,
   "metadata": {},
   "outputs": [],
   "source": [
    "EPISODES_TO_TRAIN = 100\n",
    "EPOCHS = 30"
   ]
  },
  {
   "cell_type": "code",
   "execution_count": 67,
   "metadata": {},
   "outputs": [
    {
     "name": "stdout",
     "output_type": "stream",
     "text": [
      "tensor(-0.0278, grad_fn=<NegBackward0>)\n",
      "tensor(3.3351, grad_fn=<NegBackward0>)\n",
      "tensor(1.4330, grad_fn=<NegBackward0>)\n",
      "tensor(0.2716, grad_fn=<NegBackward0>)\n",
      "tensor(-0.0563, grad_fn=<NegBackward0>)\n",
      "tensor(0.3396, grad_fn=<NegBackward0>)\n",
      "tensor(1.3009, grad_fn=<NegBackward0>)\n",
      "tensor(1.2361, grad_fn=<NegBackward0>)\n",
      "tensor(-0.1844, grad_fn=<NegBackward0>)\n",
      "tensor(0.5038, grad_fn=<NegBackward0>)\n",
      "tensor(0.5296, grad_fn=<NegBackward0>)\n",
      "tensor(0.2015, grad_fn=<NegBackward0>)\n",
      "tensor(1.9507, grad_fn=<NegBackward0>)\n",
      "tensor(0.0146, grad_fn=<NegBackward0>)\n",
      "tensor(-0.4242, grad_fn=<NegBackward0>)\n",
      "tensor(0.7634, grad_fn=<NegBackward0>)\n",
      "tensor(1.4597, grad_fn=<NegBackward0>)\n",
      "tensor(1.8858, grad_fn=<NegBackward0>)\n",
      "tensor(1.4237, grad_fn=<NegBackward0>)\n",
      "tensor(-0.3912, grad_fn=<NegBackward0>)\n",
      "tensor(0.6483, grad_fn=<NegBackward0>)\n",
      "tensor(4.3323, grad_fn=<NegBackward0>)\n",
      "tensor(1.5298, grad_fn=<NegBackward0>)\n",
      "tensor(-0.0066, grad_fn=<NegBackward0>)\n",
      "tensor(0.2961, grad_fn=<NegBackward0>)\n",
      "tensor(-0.0038, grad_fn=<NegBackward0>)\n",
      "tensor(1.8531, grad_fn=<NegBackward0>)\n",
      "tensor(0.2474, grad_fn=<NegBackward0>)\n",
      "tensor(-0.7502, grad_fn=<NegBackward0>)\n",
      "tensor(0.7913, grad_fn=<NegBackward0>)\n"
     ]
    }
   ],
   "source": [
    "epochs_iterator = 0\n",
    "\n",
    "while True:\n",
    "    if epochs_iterator >= EPOCHS:\n",
    "        break\n",
    "\n",
    "    state = env.get_state()\n",
    "\n",
    "    with torch.no_grad():\n",
    "        action_logits = net(torch.FloatTensor(state))\n",
    "\n",
    "    # action_logits = net(torch.FloatTensor(state))\n",
    "\n",
    "    action = agent.choose_action(action_logits)\n",
    "    _, reward = env.interact(action)\n",
    "\n",
    "    batch_states.append(state)\n",
    "    batch_actions.append(int(action))\n",
    "    cur_rewards.append(reward)\n",
    "\n",
    "    if env.is_terminal():\n",
    "        # print(batch_states[-len(cur_rewards):])\n",
    "        # print(batch_actions[-len(cur_rewards):])\n",
    "        # print(len(cur_rewards))\n",
    "        # print(calculate_qvals(cur_rewards))\n",
    "        # print()\n",
    "\n",
    "        batch_qvals.extend(calculate_qvals(cur_rewards))\n",
    "        batch_episodes += 1\n",
    "\n",
    "        total_rewards.append(sum(cur_rewards))\n",
    "        total_steps.append(env.steps)\n",
    "        trajectories.append(batch_states[-len(cur_rewards) :])\n",
    "\n",
    "        cur_rewards.clear()\n",
    "\n",
    "        env.reset()\n",
    "\n",
    "    if batch_episodes < EPISODES_TO_TRAIN:\n",
    "        continue\n",
    "    epochs_iterator += 1\n",
    "\n",
    "    optimizer.zero_grad()\n",
    "    states_v = torch.FloatTensor(batch_states)\n",
    "    batch_actions_t = torch.LongTensor(batch_actions)\n",
    "    batch_qvals_t = torch.FloatTensor(batch_qvals)\n",
    "\n",
    "    logits_v = net(states_v)\n",
    "    log_prob_v = F.log_softmax(logits_v, dim=1)\n",
    "    # print(logits_v)\n",
    "    # print(log_prob_v)\n",
    "    # print(log_prob_v[range(len(batch_states)), batch_actions_t])\n",
    "    # print(log_prob_v)\n",
    "    log_prob_actions_v = (\n",
    "        batch_qvals_t * log_prob_v[range(len(batch_states)), batch_actions_t]\n",
    "    )\n",
    "    loss_v = -log_prob_actions_v.mean()\n",
    "    print(loss_v)\n",
    "\n",
    "    loss_v.backward()\n",
    "    optimizer.step()\n",
    "\n",
    "    losses.append(loss_v.item())\n",
    "\n",
    "    batch_episodes = 0\n",
    "    batch_states.clear()\n",
    "    batch_actions.clear()\n",
    "    batch_qvals.clear()"
   ]
  },
  {
   "cell_type": "code",
   "execution_count": 68,
   "metadata": {},
   "outputs": [
    {
     "name": "stdout",
     "output_type": "stream",
     "text": [
      "[-107, -101, -116, -108, 980, -112, -106, -101, -108, 993]\n",
      "[[62], [94], [19], [57], [0], [40], [69], [94], [57], [61]]\n",
      "[8, 2, 17, 9, 21, 13, 7, 2, 9, 8]\n"
     ]
    }
   ],
   "source": [
    "print(total_rewards[-10:])\n",
    "# print(losses[-10:])\n",
    "print([x[0] for x in trajectories[-10:]])\n",
    "print(total_steps[-10:])"
   ]
  }
 ],
 "metadata": {
  "kernelspec": {
   "display_name": "rl",
   "language": "python",
   "name": "python3"
  },
  "language_info": {
   "codemirror_mode": {
    "name": "ipython",
    "version": 3
   },
   "file_extension": ".py",
   "mimetype": "text/x-python",
   "name": "python",
   "nbconvert_exporter": "python",
   "pygments_lexer": "ipython3",
   "version": "3.11.0"
  }
 },
 "nbformat": 4,
 "nbformat_minor": 2
}
